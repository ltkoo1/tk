{
 "cells": [
  {
   "cell_type": "markdown",
   "id": "08f84c5c",
   "metadata": {},
   "source": [
    "# 조건문"
   ]
  },
  {
   "cell_type": "markdown",
   "id": "d683b7e2",
   "metadata": {},
   "source": [
    "## if는 해당 조건이 성립할 때 참이면 print가능"
   ]
  },
  {
   "cell_type": "code",
   "execution_count": 2,
   "id": "1d7b0693",
   "metadata": {},
   "outputs": [
    {
     "name": "stdout",
     "output_type": "stream",
     "text": [
      "당근\n"
     ]
    }
   ],
   "source": [
    "if 1<2:\n",
    "    print('당근') # print() srt을 인식하기 위해 ''를 사용\n",
    "if 1>2:\n",
    "    print('채찍')"
   ]
  },
  {
   "cell_type": "code",
   "execution_count": 3,
   "id": "fe5b7074",
   "metadata": {
    "scrolled": true
   },
   "outputs": [
    {
     "name": "stdout",
     "output_type": "stream",
     "text": [
      "당근\n",
      "양파\n",
      "배추\n"
     ]
    }
   ],
   "source": [
    "if 1<2:\n",
    "    print('당근')\n",
    "    print('양파')\n",
    "    print('배추')   "
   ]
  },
  {
   "cell_type": "code",
   "execution_count": 4,
   "id": "3dde5aff",
   "metadata": {},
   "outputs": [
    {
     "name": "stdout",
     "output_type": "stream",
     "text": [
      "채찍\n"
     ]
    }
   ],
   "source": [
    "#else는 if 사용 후 if가 참이 아닌 경우 실행\n",
    "if 5<3:\n",
    "    print('당근')\n",
    "else: #else는 if가 아니라는 조건이 있기에 조건을 입력할 필요가 없음.\n",
    "    print('채찍')"
   ]
  },
  {
   "cell_type": "code",
   "execution_count": 5,
   "id": "fa322fae",
   "metadata": {},
   "outputs": [
    {
     "ename": "SyntaxError",
     "evalue": "invalid syntax (Temp/ipykernel_1700/3771434291.py, line 1)",
     "output_type": "error",
     "traceback": [
      "\u001b[1;36m  File \u001b[1;32m\"C:\\Users\\xorud\\AppData\\Local\\Temp/ipykernel_1700/3771434291.py\"\u001b[1;36m, line \u001b[1;32m1\u001b[0m\n\u001b[1;33m    else 5>3:\u001b[0m\n\u001b[1;37m    ^\u001b[0m\n\u001b[1;31mSyntaxError\u001b[0m\u001b[1;31m:\u001b[0m invalid syntax\n"
     ]
    }
   ],
   "source": [
    "else 5>3:\n",
    "    print('채찍') # 단독사용불가"
   ]
  },
  {
   "cell_type": "code",
   "execution_count": 6,
   "id": "03fdcd5e",
   "metadata": {},
   "outputs": [
    {
     "name": "stdout",
     "output_type": "stream",
     "text": [
      "else\n"
     ]
    }
   ],
   "source": [
    "#elif는 if와 else사이 사용\n",
    "if 1>2:\n",
    "    print('if')\n",
    "elif 1>3:\n",
    "    print('elif')\n",
    "else:\n",
    "    print('else')"
   ]
  },
  {
   "cell_type": "code",
   "execution_count": 7,
   "id": "e6514743",
   "metadata": {},
   "outputs": [
    {
     "name": "stdout",
     "output_type": "stream",
     "text": [
      "elif2\n"
     ]
    }
   ],
   "source": [
    "if 1>2:\n",
    "    print('if')\n",
    "elif 1>3:\n",
    "    print('elif1')\n",
    "elif 3>2:\n",
    "    print('elif2')\n",
    "else:\n",
    "    print('else')\n",
    "#위에서부터 참인 조건에서만 반응"
   ]
  },
  {
   "cell_type": "code",
   "execution_count": 8,
   "id": "c2d51916",
   "metadata": {},
   "outputs": [
    {
     "name": "stdout",
     "output_type": "stream",
     "text": [
      "당근\n"
     ]
    }
   ],
   "source": [
    "if 1:\n",
    "    print('당근')\n",
    "else:\n",
    "    print('채찍')\n",
    "#1은 참 0는 거짓으로 사용 가능. 복습차원에서 0이 아닌 수는 모두 참으로 인식"
   ]
  },
  {
   "cell_type": "code",
   "execution_count": 9,
   "id": "64a4277a",
   "metadata": {},
   "outputs": [
    {
     "data": {
      "text/plain": [
       "'전봇대 입니다.'"
      ]
     },
     "execution_count": 9,
     "metadata": {},
     "output_type": "execute_result"
    }
   ],
   "source": [
    "#삼항연산자 참과 거짓을 판단하고 지정해줌\n",
    "high = 175\n",
    "'난쟁이 입니다.' if high <=170 else '전봇대 입니다.'"
   ]
  },
  {
   "cell_type": "code",
   "execution_count": 11,
   "id": "b849fb2a",
   "metadata": {},
   "outputs": [
    {
     "data": {
      "text/plain": [
       "True"
      ]
     },
     "execution_count": 11,
     "metadata": {},
     "output_type": "execute_result"
    }
   ],
   "source": [
    "#논리 연산자 and,or,not\n",
    "#and\n",
    "True and True and True # 하나라도 아니면 아님"
   ]
  },
  {
   "cell_type": "code",
   "execution_count": 12,
   "id": "c6438b51",
   "metadata": {},
   "outputs": [
    {
     "data": {
      "text/plain": [
       "False"
      ]
     },
     "execution_count": 12,
     "metadata": {},
     "output_type": "execute_result"
    }
   ],
   "source": [
    "True and False and False"
   ]
  },
  {
   "cell_type": "code",
   "execution_count": 13,
   "id": "092d708b",
   "metadata": {},
   "outputs": [
    {
     "name": "stdout",
     "output_type": "stream",
     "text": [
      "다 진짜\n"
     ]
    }
   ],
   "source": [
    "if (0<1) and (0<2):\n",
    "    print('다 진짜')\n",
    "else:\n",
    "    print('가짜도 있어')"
   ]
  },
  {
   "cell_type": "code",
   "execution_count": 14,
   "id": "8854c7d3",
   "metadata": {},
   "outputs": [
    {
     "data": {
      "text/plain": [
       "True"
      ]
     },
     "execution_count": 14,
     "metadata": {},
     "output_type": "execute_result"
    }
   ],
   "source": [
    "# or 하나라도 만족하면 참\n",
    "True or False"
   ]
  },
  {
   "cell_type": "code",
   "execution_count": 15,
   "id": "8959ddc1",
   "metadata": {},
   "outputs": [
    {
     "data": {
      "text/plain": [
       "False"
      ]
     },
     "execution_count": 15,
     "metadata": {},
     "output_type": "execute_result"
    }
   ],
   "source": [
    "False or False"
   ]
  },
  {
   "cell_type": "code",
   "execution_count": 16,
   "id": "96d8a3fc",
   "metadata": {},
   "outputs": [
    {
     "name": "stdout",
     "output_type": "stream",
     "text": [
      "하나라도 진짜\n"
     ]
    }
   ],
   "source": [
    "if (0<1) or (2<1):\n",
    "    print('하나라도 진짜')\n",
    "else:\n",
    "    print('다 가짜')"
   ]
  },
  {
   "cell_type": "code",
   "execution_count": 17,
   "id": "0dd9a336",
   "metadata": {},
   "outputs": [
    {
     "data": {
      "text/plain": [
       "False"
      ]
     },
     "execution_count": 17,
     "metadata": {},
     "output_type": "execute_result"
    }
   ],
   "source": [
    "#not: bool 값을 반전\n",
    "not True"
   ]
  },
  {
   "cell_type": "code",
   "execution_count": 18,
   "id": "ce08fd2a",
   "metadata": {},
   "outputs": [
    {
     "data": {
      "text/plain": [
       "True"
      ]
     },
     "execution_count": 18,
     "metadata": {},
     "output_type": "execute_result"
    }
   ],
   "source": [
    "not False"
   ]
  },
  {
   "cell_type": "code",
   "execution_count": 19,
   "id": "81d88538",
   "metadata": {},
   "outputs": [
    {
     "name": "stdout",
     "output_type": "stream",
     "text": [
      "사실이 아니니까 이게 됩니다\n"
     ]
    }
   ],
   "source": [
    "if not True:\n",
    "    print('사실이 아니니까 이거 안될걸?')\n",
    "else:\n",
    "    print('사실이 아니니까 이게 됩니다')"
   ]
  },
  {
   "cell_type": "code",
   "execution_count": 42,
   "id": "290f9ad8",
   "metadata": {},
   "outputs": [
    {
     "name": "stdout",
     "output_type": "stream",
     "text": [
      "105\n"
     ]
    }
   ],
   "source": [
    "a = input()\n",
    "a = int(a)"
   ]
  },
  {
   "cell_type": "code",
   "execution_count": 50,
   "id": "7a020eda",
   "metadata": {},
   "outputs": [
    {
     "name": "stdout",
     "output_type": "stream",
     "text": [
      "error\n"
     ]
    }
   ],
   "source": [
    "if 100>= a >= 90:\n",
    "    print(\"A\")\n",
    "elif 90 >a >= 80:\n",
    "    print(\"B\")\n",
    "elif 80>a >= 70:\n",
    "    print(\"C\")\n",
    "elif (a<0) or (a > 100):\n",
    "    print(\"error\")\n",
    "else:\n",
    "    print(\"D\")\n",
    "#4번째를 위로 올리면 더 간단해짐."
   ]
  },
  {
   "cell_type": "code",
   "execution_count": 74,
   "id": "b5f51902",
   "metadata": {},
   "outputs": [
    {
     "name": "stdout",
     "output_type": "stream",
     "text": [
      "1\n",
      "2\n"
     ]
    },
    {
     "data": {
      "text/plain": [
       "3"
      ]
     },
     "execution_count": 74,
     "metadata": {},
     "output_type": "execute_result"
    }
   ],
   "source": [
    "#반복문 : 같은 말 여러번 안하고 한번에 할 수 있다.\n",
    "num = [1,2,3]\n",
    "print(num[0])\n",
    "print(num[1])\n",
    "num[2]"
   ]
  },
  {
   "cell_type": "code",
   "execution_count": 75,
   "id": "6db92ce7",
   "metadata": {},
   "outputs": [
    {
     "name": "stdout",
     "output_type": "stream",
     "text": [
      "1\n",
      "2\n",
      "3\n"
     ]
    }
   ],
   "source": [
    "#for A in B:\n",
    "for a in num:\n",
    "    print(a)"
   ]
  },
  {
   "cell_type": "code",
   "execution_count": 66,
   "id": "c528ffb2",
   "metadata": {},
   "outputs": [
    {
     "name": "stdout",
     "output_type": "stream",
     "text": [
      "이\n",
      "태\n",
      "경\n"
     ]
    }
   ],
   "source": [
    "#tuple\n",
    "for a in ('이', '태', '경'):\n",
    "    print(a)"
   ]
  },
  {
   "cell_type": "code",
   "execution_count": 78,
   "id": "821b5a68",
   "metadata": {},
   "outputs": [
    {
     "name": "stdout",
     "output_type": "stream",
     "text": [
      "마차이\n",
      "1\n",
      "2\n"
     ]
    }
   ],
   "source": [
    "dinner = ('마차이',1,'삼삼',2,'이층집돈까스',0,'히로미',4)\n",
    "print(dinner[0])\n",
    "print(dinner[1])\n",
    "print(dinner[3])"
   ]
  },
  {
   "cell_type": "code",
   "execution_count": 85,
   "id": "72751edf",
   "metadata": {},
   "outputs": [
    {
     "name": "stdout",
     "output_type": "stream",
     "text": [
      "마차이\n",
      "1\n"
     ]
    }
   ],
   "source": [
    "#tuple의 요소를 개별로 받아주는 경우\n",
    "dinner1 = ('마차이',1)\n",
    "food, choice = ('마차이',1)\n",
    "print(food)\n",
    "print(choice)"
   ]
  },
  {
   "cell_type": "code",
   "execution_count": 88,
   "id": "5b2d9cfe",
   "metadata": {},
   "outputs": [
    {
     "name": "stdout",
     "output_type": "stream",
     "text": [
      "마차이 1\n",
      "삼삼 2\n",
      "이층집돈까스 0\n",
      "히로미 4\n"
     ]
    }
   ],
   "source": [
    "#응용\n",
    "dinner = [('마차이',1),('삼삼',2),('이층집돈까스',0),('히로미',4)]\n",
    "for a in dinner:\n",
    "    print(a[0],a[1])"
   ]
  },
  {
   "cell_type": "code",
   "execution_count": 89,
   "id": "8ab4651d",
   "metadata": {},
   "outputs": [
    {
     "name": "stdout",
     "output_type": "stream",
     "text": [
      "마차이 1\n",
      "삼삼 2\n",
      "이층집돈까스 0\n",
      "히로미 4\n"
     ]
    }
   ],
   "source": [
    "dinner = [('마차이',1),('삼삼',2),('이층집돈까스',0),('히로미',4)]\n",
    "for menu, choice in dinner:\n",
    "    print(menu, choice)"
   ]
  },
  {
   "cell_type": "code",
   "execution_count": 90,
   "id": "680dd623",
   "metadata": {},
   "outputs": [],
   "source": [
    "#딕셔너리 : key, value\n",
    "d = {'마차이':1, '삼삼':2, '이층집돈까스':0, '히로미':4}"
   ]
  },
  {
   "cell_type": "code",
   "execution_count": 91,
   "id": "1ef85d32",
   "metadata": {},
   "outputs": [
    {
     "data": {
      "text/plain": [
       "dict_keys(['마차이', '삼삼', '이층집돈까스', '히로미'])"
      ]
     },
     "execution_count": 91,
     "metadata": {},
     "output_type": "execute_result"
    }
   ],
   "source": [
    "d.keys()"
   ]
  },
  {
   "cell_type": "code",
   "execution_count": 93,
   "id": "5217e7d7",
   "metadata": {},
   "outputs": [
    {
     "name": "stdout",
     "output_type": "stream",
     "text": [
      "마차이\n",
      "삼삼\n",
      "이층집돈까스\n",
      "히로미\n"
     ]
    }
   ],
   "source": [
    "for key in d.keys():\n",
    "    print(key)"
   ]
  },
  {
   "cell_type": "code",
   "execution_count": 102,
   "id": "32705069",
   "metadata": {},
   "outputs": [
    {
     "data": {
      "text/plain": [
       "dict_items([('마차이', 1), ('삼삼', 2), ('이층집돈까스', 0), ('히로미', 4)])"
      ]
     },
     "execution_count": 102,
     "metadata": {},
     "output_type": "execute_result"
    }
   ],
   "source": [
    "d.items()"
   ]
  },
  {
   "cell_type": "code",
   "execution_count": 103,
   "id": "bba0897c",
   "metadata": {},
   "outputs": [
    {
     "name": "stdout",
     "output_type": "stream",
     "text": [
      "마차이 1\n",
      "삼삼 2\n",
      "이층집돈까스 0\n",
      "히로미 4\n"
     ]
    }
   ],
   "source": [
    "for menu, choice in d.items():\n",
    "    print(menu, choice)"
   ]
  },
  {
   "cell_type": "code",
   "execution_count": 105,
   "id": "3f26db51",
   "metadata": {},
   "outputs": [
    {
     "name": "stdout",
     "output_type": "stream",
     "text": [
      "L\n",
      "T\n",
      "K\n"
     ]
    }
   ],
   "source": [
    "#문자열\n",
    "for a in 'LTK':\n",
    "    print(a)"
   ]
  },
  {
   "cell_type": "code",
   "execution_count": 12,
   "id": "060db5f3",
   "metadata": {},
   "outputs": [
    {
     "name": "stdout",
     "output_type": "stream",
     "text": [
      "0\n",
      "1\n",
      "2\n",
      "3\n",
      "4\n",
      "5\n",
      "6\n",
      "7\n",
      "8\n",
      "9\n"
     ]
    }
   ],
   "source": [
    "#range() 범위를 반복 start, stop, step\n",
    "\n",
    "for i in range(10):\n",
    "    print(i)"
   ]
  },
  {
   "cell_type": "code",
   "execution_count": 13,
   "id": "20c05889",
   "metadata": {},
   "outputs": [
    {
     "name": "stdout",
     "output_type": "stream",
     "text": [
      "2\n",
      "3\n",
      "4\n",
      "5\n",
      "6\n",
      "7\n"
     ]
    }
   ],
   "source": [
    "for i in range(2,8):\n",
    "    print(i)"
   ]
  },
  {
   "cell_type": "code",
   "execution_count": 18,
   "id": "31d9a0f3",
   "metadata": {},
   "outputs": [
    {
     "name": "stdout",
     "output_type": "stream",
     "text": [
      "1\n",
      "4\n",
      "7\n"
     ]
    }
   ],
   "source": [
    "for i in range(1,9,3):\n",
    "    print(i)"
   ]
  },
  {
   "cell_type": "code",
   "execution_count": 1,
   "id": "ca0feee1",
   "metadata": {},
   "outputs": [
    {
     "name": "stdout",
     "output_type": "stream",
     "text": [
      "(i=1) * (j=1) = 1\n",
      "(i=1) * (j=2) = 2\n",
      "===\n",
      "(i=2) * (j=1) = 2\n",
      "(i=2) * (j=2) = 4\n",
      "===\n",
      "(i=3) * (j=1) = 3\n",
      "(i=3) * (j=2) = 6\n",
      "===\n",
      "(i=4) * (j=1) = 4\n",
      "(i=4) * (j=2) = 8\n",
      "===\n"
     ]
    }
   ],
   "source": [
    "#반복문 중첩\n",
    "for i in range(1,5):\n",
    "    for j in range(1,3):\n",
    "        print(f'(i={i}) * (j={j}) = {i * j}')\n",
    "    print('===')"
   ]
  },
  {
   "cell_type": "code",
   "execution_count": 26,
   "id": "acd60319",
   "metadata": {},
   "outputs": [
    {
     "name": "stdout",
     "output_type": "stream",
     "text": [
      "2\n",
      "4\n",
      "6\n",
      "8\n",
      "10\n"
     ]
    }
   ],
   "source": [
    "#제어문\n",
    "mylist = [1,2,3,4,5,6,7,8,9,10]\n",
    "for i in mylist:\n",
    "    if i % 2 == 1:\n",
    "        continue\n",
    "    print(i)"
   ]
  },
  {
   "cell_type": "code",
   "execution_count": 27,
   "id": "ed672fb5",
   "metadata": {},
   "outputs": [
    {
     "name": "stdout",
     "output_type": "stream",
     "text": [
      "1\n",
      "2\n",
      "3\n",
      "4\n",
      "5\n"
     ]
    }
   ],
   "source": [
    "#break 반복에서 만나면 즉시 종료\n",
    "for i in mylist:\n",
    "        if i >= 6:\n",
    "            break\n",
    "        print(i)"
   ]
  },
  {
   "cell_type": "code",
   "execution_count": 28,
   "id": "a7fa8a51",
   "metadata": {},
   "outputs": [
    {
     "name": "stdout",
     "output_type": "stream",
     "text": [
      "1\n",
      "2\n",
      "3\n",
      "4\n",
      "5\n"
     ]
    }
   ],
   "source": [
    "#continue와 break의 차이\n",
    "for i in mylist:\n",
    "        if i == 6:\n",
    "            break\n",
    "        print(i)"
   ]
  },
  {
   "cell_type": "code",
   "execution_count": 29,
   "id": "847392f3",
   "metadata": {},
   "outputs": [
    {
     "name": "stdout",
     "output_type": "stream",
     "text": [
      "1\n",
      "2\n",
      "3\n",
      "4\n",
      "5\n",
      "7\n",
      "8\n",
      "9\n",
      "10\n"
     ]
    }
   ],
   "source": [
    "for i in mylist:\n",
    "    if i == 6:\n",
    "        continue\n",
    "    print(i)"
   ]
  },
  {
   "cell_type": "code",
   "execution_count": 30,
   "id": "ad1abce6",
   "metadata": {},
   "outputs": [],
   "source": [
    "#구구단을 한번 만들어보시오. 같이 해봐요. 저도 긴가민가할거같네요."
   ]
  },
  {
   "cell_type": "code",
   "execution_count": 51,
   "id": "888c1d96",
   "metadata": {},
   "outputs": [
    {
     "name": "stdout",
     "output_type": "stream",
     "text": [
      "5\n",
      "4\n",
      "3\n",
      "2\n",
      "1\n",
      "0\n"
     ]
    }
   ],
   "source": [
    "#while : 조건이 참이면 반복한다. w가 소문자!!\n",
    "count = 5\n",
    "\n",
    "while count >=0:\n",
    "    print(count)\n",
    "    count -= 1"
   ]
  },
  {
   "cell_type": "code",
   "execution_count": 34,
   "id": "ad70d3b5",
   "metadata": {},
   "outputs": [
    {
     "name": "stdout",
     "output_type": "stream",
     "text": [
      "1\n",
      "2\n",
      "3\n",
      "4\n",
      "5\n",
      "6\n"
     ]
    }
   ],
   "source": [
    "#while True와 break 응용\n",
    "count = 1\n",
    "\n",
    "while True:\n",
    "    print(count)\n",
    "    count += 1\n",
    "    if count > 6:\n",
    "        break"
   ]
  }
 ],
 "metadata": {
  "kernelspec": {
   "display_name": "Python 3 (ipykernel)",
   "language": "python",
   "name": "python3"
  },
  "language_info": {
   "codemirror_mode": {
    "name": "ipython",
    "version": 3
   },
   "file_extension": ".py",
   "mimetype": "text/x-python",
   "name": "python",
   "nbconvert_exporter": "python",
   "pygments_lexer": "ipython3",
   "version": "3.9.7"
  }
 },
 "nbformat": 4,
 "nbformat_minor": 5
}
