{
 "cells": [
  {
   "cell_type": "code",
   "execution_count": 6,
   "id": "85e4a505",
   "metadata": {
    "scrolled": true
   },
   "outputs": [
    {
     "name": "stdout",
     "output_type": "stream",
     "text": [
      "count = 2, total = 2\n",
      "count = 4, total = 6\n",
      "count = 6, total = 12\n",
      "count = 8, total = 20\n",
      "count = 10, total = 30\n",
      "count = 12, total = 42\n",
      "count = 14, total = 56\n",
      "count = 16, total = 72\n",
      "count = 18, total = 90\n",
      "count = 20, total = 110\n",
      "count = 22, total = 132\n",
      "count = 24, total = 156\n",
      "count = 26, total = 182\n",
      "count = 28, total = 210\n",
      "count = 30, total = 240\n",
      "count = 32, total = 272\n",
      "count = 34, total = 306\n",
      "count = 36, total = 342\n",
      "count = 38, total = 380\n",
      "count = 40, total = 420\n",
      "count = 42, total = 462\n",
      "count = 44, total = 506\n",
      "count = 46, total = 552\n",
      "count = 48, total = 600\n",
      "count = 50, total = 650\n"
     ]
    }
   ],
   "source": [
    "count = 2\n",
    "total = 2\n",
    "\n",
    "while True:\n",
    "    print(f'count = {count}, total = {total}')\n",
    "    count += 2\n",
    "    total += count\n",
    "    if count >= 51:\n",
    "        break"
   ]
  },
  {
   "cell_type": "code",
   "execution_count": 44,
   "id": "387d2a6c",
   "metadata": {},
   "outputs": [
    {
     "name": "stdout",
     "output_type": "stream",
     "text": [
      "@\n",
      "@@\n",
      "@@@\n",
      "@@@@\n",
      "@@@@@\n",
      "@@@@@@\n"
     ]
    }
   ],
   "source": [
    "a = 1\n",
    "while True:\n",
    "    print('@'*  a)\n",
    "    a += 1\n",
    "    if a >6:\n",
    "        break"
   ]
  },
  {
   "cell_type": "code",
   "execution_count": 2,
   "id": "dac42000",
   "metadata": {
    "scrolled": true
   },
   "outputs": [
    {
     "name": "stdout",
     "output_type": "stream",
     "text": [
      "@\n",
      "@@\n",
      "@@@\n",
      "@@\n",
      "@\n"
     ]
    }
   ],
   "source": [
    "a= 1\n",
    "while True:\n",
    "    if a <= 3:\n",
    "        print('@'*a)\n",
    "        b=2\n",
    "    elif a>=4:\n",
    "        print('@'*(a-b))\n",
    "        b *= 2\n",
    "    a += 1   \n",
    "    if a >=6:\n",
    "        break"
   ]
  },
  {
   "cell_type": "code",
   "execution_count": 150,
   "id": "f862da15",
   "metadata": {},
   "outputs": [
    {
     "name": "stdout",
     "output_type": "stream",
     "text": [
      "  @  \n",
      " @@@ \n",
      "@@@@@\n",
      " @@@ \n",
      "  @  \n"
     ]
    }
   ],
   "source": [
    "a = 2\n",
    "b = 1\n",
    "while True:\n",
    "    if a > -1:\n",
    "        print(' '*a + '@'*b + ' '*a)\n",
    "        c = 4\n",
    "    elif -2 <=a < 0:\n",
    "        print(' '*(-a) + '@'*(b-c) + ' '*(-a))\n",
    "        c *= 2\n",
    "    b += 2\n",
    "    a -= 1\n",
    "    if a < -2:\n",
    "        break"
   ]
  },
  {
   "cell_type": "code",
   "execution_count": 114,
   "id": "a269744a",
   "metadata": {},
   "outputs": [
    {
     "data": {
      "text/plain": [
       "' @'"
      ]
     },
     "execution_count": 114,
     "metadata": {},
     "output_type": "execute_result"
    }
   ],
   "source": [
    "a = (\" \" + \"@\")\n",
    "a"
   ]
  },
  {
   "cell_type": "code",
   "execution_count": 5,
   "id": "22cf24c8",
   "metadata": {},
   "outputs": [],
   "source": [
    "\n",
    "a=1"
   ]
  },
  {
   "cell_type": "code",
   "execution_count": 6,
   "id": "0f643ede",
   "metadata": {},
   "outputs": [
    {
     "data": {
      "text/plain": [
       "True"
      ]
     },
     "execution_count": 6,
     "metadata": {},
     "output_type": "execute_result"
    }
   ],
   "source": [
    "a == 1"
   ]
  },
  {
   "cell_type": "code",
   "execution_count": 7,
   "id": "d5b4e1a8",
   "metadata": {},
   "outputs": [
    {
     "data": {
      "text/plain": [
       "True"
      ]
     },
     "execution_count": 7,
     "metadata": {},
     "output_type": "execute_result"
    }
   ],
   "source": [
    "a ==True"
   ]
  },
  {
   "cell_type": "code",
   "execution_count": 8,
   "id": "2e58c4e6",
   "metadata": {},
   "outputs": [
    {
     "data": {
      "text/plain": [
       "False"
      ]
     },
     "execution_count": 8,
     "metadata": {},
     "output_type": "execute_result"
    }
   ],
   "source": [
    "a == 0"
   ]
  },
  {
   "cell_type": "code",
   "execution_count": 9,
   "id": "81cb0c8e",
   "metadata": {},
   "outputs": [
    {
     "data": {
      "text/plain": [
       "False"
      ]
     },
     "execution_count": 9,
     "metadata": {},
     "output_type": "execute_result"
    }
   ],
   "source": [
    "a ==2"
   ]
  },
  {
   "cell_type": "code",
   "execution_count": 10,
   "id": "9ada33c3",
   "metadata": {},
   "outputs": [
    {
     "ename": "SyntaxError",
     "evalue": "invalid syntax (Temp/ipykernel_10036/2166954967.py, line 1)",
     "output_type": "error",
     "traceback": [
      "\u001b[1;36m  File \u001b[1;32m\"C:\\Users\\xorud\\AppData\\Local\\Temp/ipykernel_10036/2166954967.py\"\u001b[1;36m, line \u001b[1;32m1\u001b[0m\n\u001b[1;33m    list[]\u001b[0m\n\u001b[1;37m         ^\u001b[0m\n\u001b[1;31mSyntaxError\u001b[0m\u001b[1;31m:\u001b[0m invalid syntax\n"
     ]
    }
   ],
   "source": [
    "list[]\n",
    "index"
   ]
  },
  {
   "cell_type": "code",
   "execution_count": 11,
   "id": "0e74d22b",
   "metadata": {},
   "outputs": [
    {
     "ename": "SyntaxError",
     "evalue": "invalid syntax (Temp/ipykernel_10036/2096815057.py, line 1)",
     "output_type": "error",
     "traceback": [
      "\u001b[1;36m  File \u001b[1;32m\"C:\\Users\\xorud\\AppData\\Local\\Temp/ipykernel_10036/2096815057.py\"\u001b[1;36m, line \u001b[1;32m1\u001b[0m\n\u001b[1;33m    점연산자는 변수에 영향을 주지만 함수는 변수에 영향을 안줌.\u001b[0m\n\u001b[1;37m          ^\u001b[0m\n\u001b[1;31mSyntaxError\u001b[0m\u001b[1;31m:\u001b[0m invalid syntax\n"
     ]
    }
   ],
   "source": [
    "점연산자는 변수에 영향을 주지만 함수는 변수에 영향을 안줌."
   ]
  },
  {
   "cell_type": "code",
   "execution_count": 15,
   "id": "c0099757",
   "metadata": {},
   "outputs": [
    {
     "data": {
      "text/plain": [
       "float"
      ]
     },
     "execution_count": 15,
     "metadata": {},
     "output_type": "execute_result"
    }
   ],
   "source": [
    "a = 3.14\n",
    "float(a)\n",
    "type(a)"
   ]
  },
  {
   "cell_type": "code",
   "execution_count": 16,
   "id": "4e15b074",
   "metadata": {},
   "outputs": [
    {
     "data": {
      "text/plain": [
       "1.0"
      ]
     },
     "execution_count": 16,
     "metadata": {},
     "output_type": "execute_result"
    }
   ],
   "source": [
    "a = 1\n",
    "float(a)"
   ]
  },
  {
   "cell_type": "code",
   "execution_count": 17,
   "id": "4e779958",
   "metadata": {},
   "outputs": [
    {
     "data": {
      "text/plain": [
       "True"
      ]
     },
     "execution_count": 17,
     "metadata": {},
     "output_type": "execute_result"
    }
   ],
   "source": [
    "a = 1\n",
    "a ==1"
   ]
  },
  {
   "cell_type": "markdown",
   "id": "10917627",
   "metadata": {},
   "source": [
    "#set는 add로 추가, update, remove"
   ]
  },
  {
   "cell_type": "code",
   "execution_count": 19,
   "id": "d3e8a790",
   "metadata": {},
   "outputs": [],
   "source": [
    "fruit = ['1', '2', '3', '4', '5', '6', '7', '8', '9', '10']"
   ]
  },
  {
   "cell_type": "code",
   "execution_count": 21,
   "id": "69b31004",
   "metadata": {},
   "outputs": [
    {
     "data": {
      "text/plain": [
       "['3', '4', '5']"
      ]
     },
     "execution_count": 21,
     "metadata": {},
     "output_type": "execute_result"
    }
   ],
   "source": [
    "fruit[2:5]"
   ]
  },
  {
   "cell_type": "code",
   "execution_count": 23,
   "id": "6c7e3465",
   "metadata": {},
   "outputs": [
    {
     "data": {
      "text/plain": [
       "['9', '10']"
      ]
     },
     "execution_count": 23,
     "metadata": {},
     "output_type": "execute_result"
    }
   ],
   "source": [
    "fruit[8:]"
   ]
  },
  {
   "cell_type": "code",
   "execution_count": 24,
   "id": "ceb4244e",
   "metadata": {},
   "outputs": [
    {
     "data": {
      "text/plain": [
       "['10', '9', '8', '7', '6', '5', '4', '3', '2', '1']"
      ]
     },
     "execution_count": 24,
     "metadata": {},
     "output_type": "execute_result"
    }
   ],
   "source": [
    "fruit[::-1]"
   ]
  },
  {
   "cell_type": "code",
   "execution_count": 33,
   "id": "f1f2a066",
   "metadata": {},
   "outputs": [
    {
     "data": {
      "text/plain": [
       "'1'"
      ]
     },
     "execution_count": 33,
     "metadata": {},
     "output_type": "execute_result"
    }
   ],
   "source": [
    "number = '991222-1234567'\n",
    "number[7]"
   ]
  },
  {
   "cell_type": "code",
   "execution_count": 35,
   "id": "756783f1",
   "metadata": {},
   "outputs": [
    {
     "data": {
      "text/plain": [
       "'7'"
      ]
     },
     "execution_count": 35,
     "metadata": {},
     "output_type": "execute_result"
    }
   ],
   "source": [
    "number[13]"
   ]
  },
  {
   "cell_type": "code",
   "execution_count": 40,
   "id": "9845f854",
   "metadata": {},
   "outputs": [
    {
     "name": "stdout",
     "output_type": "stream",
     "text": [
      "2021010\n",
      "Sunny\n"
     ]
    }
   ],
   "source": [
    "sample = '20210101Sunny'\n",
    "print(sample[:7])\n",
    "print(sample[8:])"
   ]
  },
  {
   "cell_type": "code",
   "execution_count": 42,
   "id": "13612592",
   "metadata": {},
   "outputs": [
    {
     "ename": "TypeError",
     "evalue": "'data' is an invalid keyword argument for print()",
     "output_type": "error",
     "traceback": [
      "\u001b[1;31m---------------------------------------------------------------------------\u001b[0m",
      "\u001b[1;31mTypeError\u001b[0m                                 Traceback (most recent call last)",
      "\u001b[1;32m~\\AppData\\Local\\Temp/ipykernel_10036/7192878.py\u001b[0m in \u001b[0;36m<module>\u001b[1;34m\u001b[0m\n\u001b[1;32m----> 1\u001b[1;33m \u001b[0mprint\u001b[0m\u001b[1;33m(\u001b[0m\u001b[0mdata\u001b[0m \u001b[1;33m=\u001b[0m \u001b[0msample\u001b[0m\u001b[1;33m[\u001b[0m\u001b[1;33m:\u001b[0m\u001b[1;36m7\u001b[0m\u001b[1;33m]\u001b[0m\u001b[1;33m)\u001b[0m\u001b[1;33m\u001b[0m\u001b[1;33m\u001b[0m\u001b[0m\n\u001b[0m",
      "\u001b[1;31mTypeError\u001b[0m: 'data' is an invalid keyword argument for print()"
     ]
    }
   ],
   "source": [
    "print(data = sample[:7])"
   ]
  },
  {
   "cell_type": "code",
   "execution_count": 46,
   "id": "d54ed0a2",
   "metadata": {},
   "outputs": [
    {
     "data": {
      "text/plain": [
       "{' ', 'd', 'l', 'o', 'r', 't', 'w'}"
      ]
     },
     "execution_count": 46,
     "metadata": {},
     "output_type": "execute_result"
    }
   ],
   "source": [
    "a = 'Hello, World'\n",
    "b = 'World to World'\n",
    "c = 'world to world'\n",
    "set(a and b and c)"
   ]
  },
  {
   "cell_type": "code",
   "execution_count": 52,
   "id": "35dd746c",
   "metadata": {},
   "outputs": [
    {
     "data": {
      "text/plain": [
       "{' ', 'd', 'l', 'o', 'r'}"
      ]
     },
     "execution_count": 52,
     "metadata": {},
     "output_type": "execute_result"
    }
   ],
   "source": [
    "a = set(a)\n",
    "b = set(b)\n",
    "c = set(c)\n",
    "a&b&c"
   ]
  },
  {
   "cell_type": "code",
   "execution_count": 54,
   "id": "4da534ad",
   "metadata": {},
   "outputs": [
    {
     "data": {
      "text/plain": [
       "{' ', 'd', 'l', 'o', 'r', 't', 'w'}"
      ]
     },
     "execution_count": 54,
     "metadata": {},
     "output_type": "execute_result"
    }
   ],
   "source": [
    "set(a and b and c)"
   ]
  },
  {
   "cell_type": "code",
   "execution_count": 58,
   "id": "1ab533dc",
   "metadata": {},
   "outputs": [
    {
     "data": {
      "text/plain": [
       "['this', 'is', 'a', 'pen']"
      ]
     },
     "execution_count": 58,
     "metadata": {},
     "output_type": "execute_result"
    }
   ],
   "source": [
    "a = 'this is a pen'\n",
    "a.split()"
   ]
  },
  {
   "cell_type": "code",
   "execution_count": 59,
   "id": "8ec5dc1f",
   "metadata": {},
   "outputs": [
    {
     "data": {
      "text/plain": [
       "'1020'"
      ]
     },
     "execution_count": 59,
     "metadata": {},
     "output_type": "execute_result"
    }
   ],
   "source": [
    "a = '10'\n",
    "b = '20'\n",
    "a + b"
   ]
  },
  {
   "cell_type": "code",
   "execution_count": 66,
   "id": "66b0ea3f",
   "metadata": {},
   "outputs": [
    {
     "name": "stdout",
     "output_type": "stream",
     "text": [
      "85\n",
      "B\n"
     ]
    }
   ],
   "source": [
    "a = int(input()) # input()은 문자열로 받기 때문에 원하는 타입으로 변경하자!\n",
    "if a > 100 or a <0:\n",
    "    print('Error')\n",
    "elif a >= 90:\n",
    "    print('A')\n",
    "elif a >= 80:\n",
    "    print('B')\n",
    "elif a >= 70:\n",
    "    print('C')\n",
    "else:\n",
    "    print('D')"
   ]
  },
  {
   "cell_type": "code",
   "execution_count": 87,
   "id": "7aab5789",
   "metadata": {},
   "outputs": [
    {
     "name": "stdout",
     "output_type": "stream",
     "text": [
      "2\n",
      "4\n",
      "6\n",
      "8\n",
      "10\n",
      "12\n",
      "14\n",
      "16\n",
      "18\n",
      "20\n",
      "22\n",
      "24\n",
      "26\n",
      "28\n",
      "30\n",
      "32\n",
      "34\n",
      "36\n",
      "38\n",
      "40\n",
      "42\n",
      "44\n",
      "46\n",
      "48\n",
      "50\n"
     ]
    }
   ],
   "source": [
    "for i in range(2,51,2):\n",
    "    print(i)"
   ]
  },
  {
   "cell_type": "code",
   "execution_count": 77,
   "id": "7ab7398f",
   "metadata": {},
   "outputs": [
    {
     "name": "stdout",
     "output_type": "stream",
     "text": [
      "d d d\n"
     ]
    }
   ],
   "source": [
    "print('d d d')"
   ]
  },
  {
   "cell_type": "code",
   "execution_count": 84,
   "id": "633465a9",
   "metadata": {},
   "outputs": [
    {
     "name": "stdout",
     "output_type": "stream",
     "text": [
      "50\n"
     ]
    }
   ],
   "source": [
    "if i % 2 == 0:\n",
    "    print(i)"
   ]
  },
  {
   "cell_type": "code",
   "execution_count": null,
   "id": "07354449",
   "metadata": {},
   "outputs": [],
   "source": []
  },
  {
   "cell_type": "markdown",
   "id": "4e616274",
   "metadata": {},
   "source": [
    "a = 1\n",
    "while True:\n",
    "    if a <= 5:\n",
    "        print('q')\n",
    "        a += 1\n",
    "    else:\n",
    "        break"
   ]
  },
  {
   "cell_type": "code",
   "execution_count": 1,
   "id": "8044de9e",
   "metadata": {},
   "outputs": [
    {
     "name": "stdout",
     "output_type": "stream",
     "text": [
      "d\n",
      "잘못됨ㅋ\n"
     ]
    }
   ],
   "source": [
    "a = input()\n",
    "while True:\n",
    "    if a == 'MALE' or a== 'FEMALE':\n",
    "        break\n",
    "    else:\n",
    "        print('잘못됨ㅋ')\n",
    "        break"
   ]
  },
  {
   "cell_type": "markdown",
   "id": "4d1f2b4c",
   "metadata": {},
   "source": [
    "# a = 0\n",
    "b = range(1,51)\n",
    "while True:\n",
    "    for i in b:\n",
    "        if i % 2 == 0:\n",
    "            a += i\n",
    "            print(f'number = {i}, sum = {a}')\n",
    "    break"
   ]
  },
  {
   "cell_type": "code",
   "execution_count": 3,
   "id": "0e794700",
   "metadata": {},
   "outputs": [
    {
     "data": {
      "text/plain": [
       "'ㄱㄴ'"
      ]
     },
     "execution_count": 3,
     "metadata": {},
     "output_type": "execute_result"
    }
   ],
   "source": [
    "def ab(a, b):\n",
    "    result = a + b\n",
    "    return result\n",
    "ab(2,3)\n",
    "ab('ㄱ','ㄴ')"
   ]
  },
  {
   "cell_type": "code",
   "execution_count": 4,
   "id": "7b11729f",
   "metadata": {},
   "outputs": [
    {
     "name": "stdout",
     "output_type": "stream",
     "text": [
      "2\n"
     ]
    }
   ],
   "source": [
    "a = 1; b = 1\n",
    "print(a+b)"
   ]
  },
  {
   "cell_type": "code",
   "execution_count": 6,
   "id": "d15ce7ee",
   "metadata": {},
   "outputs": [],
   "source": [
    "# 리스트안 튜플에서 acd로 변수 두개에 넣으려면 k:5가 아닌 k= 5로 입력해야 나옴."
   ]
  },
  {
   "cell_type": "code",
   "execution_count": 23,
   "id": "90fcfa9d",
   "metadata": {},
   "outputs": [],
   "source": [
    "def capital_letter(letter):\n",
    "    result = letter.upper()\n",
    "    return result"
   ]
  },
  {
   "cell_type": "code",
   "execution_count": 24,
   "id": "e3eb1001",
   "metadata": {},
   "outputs": [
    {
     "data": {
      "text/plain": [
       "'DLDLD'"
      ]
     },
     "execution_count": 24,
     "metadata": {},
     "output_type": "execute_result"
    }
   ],
   "source": [
    "capital_letter('dldld')"
   ]
  },
  {
   "cell_type": "code",
   "execution_count": 46,
   "id": "3edceeb5",
   "metadata": {},
   "outputs": [
    {
     "name": "stdout",
     "output_type": "stream",
     "text": [
      "i = 1, a = 1, c = sum\n",
      "i = 2, a = 3, c = sum\n",
      "i = 3, a = 6, c = sum\n",
      "i = 4, a = 10, c = sum\n",
      "i = 5, a = 15, c = sum\n"
     ]
    },
    {
     "data": {
      "text/plain": [
       "15"
      ]
     },
     "execution_count": 46,
     "metadata": {},
     "output_type": "execute_result"
    }
   ],
   "source": [
    "def acd(c, *agrs):\n",
    "    if c == 'sum':\n",
    "        a = 0\n",
    "    elif c == 'mul':\n",
    "        a = 1\n",
    "    for i in agrs:\n",
    "        if c == 'sum':\n",
    "            a += i\n",
    "        elif c == 'mul':\n",
    "            a *= i\n",
    "        print(f'i = {i}, a = {a}, c = {c}')\n",
    "    return a\n",
    "acd('sum', 1, 2, 3, 4, 5)"
   ]
  },
  {
   "cell_type": "code",
   "execution_count": 52,
   "id": "2f5233e0",
   "metadata": {},
   "outputs": [],
   "source": [
    "def acd(c, *agrs):\n",
    "    if c == 'sum':\n",
    "        a = 0\n",
    "        for i in agrs:\n",
    "            a += i\n",
    "    elif c == 'mul':\n",
    "        a = 1\n",
    "        for i in agrs:\n",
    "            a *= i            \n",
    "    return a"
   ]
  },
  {
   "cell_type": "code",
   "execution_count": 50,
   "id": "da85c5bf",
   "metadata": {},
   "outputs": [
    {
     "data": {
      "text/plain": [
       "15"
      ]
     },
     "execution_count": 50,
     "metadata": {},
     "output_type": "execute_result"
    }
   ],
   "source": [
    "acd('sum', 1, 2, 3, 4, 5)"
   ]
  },
  {
   "cell_type": "code",
   "execution_count": 51,
   "id": "a7103284",
   "metadata": {},
   "outputs": [
    {
     "data": {
      "text/plain": [
       "120"
      ]
     },
     "execution_count": 51,
     "metadata": {},
     "output_type": "execute_result"
    }
   ],
   "source": [
    "acd('mul', 1, 2, 3, 4, 5)"
   ]
  },
  {
   "cell_type": "code",
   "execution_count": null,
   "id": "873d700e",
   "metadata": {},
   "outputs": [],
   "source": []
  }
 ],
 "metadata": {
  "kernelspec": {
   "display_name": "Python 3 (ipykernel)",
   "language": "python",
   "name": "python3"
  },
  "language_info": {
   "codemirror_mode": {
    "name": "ipython",
    "version": 3
   },
   "file_extension": ".py",
   "mimetype": "text/x-python",
   "name": "python",
   "nbconvert_exporter": "python",
   "pygments_lexer": "ipython3",
   "version": "3.9.7"
  }
 },
 "nbformat": 4,
 "nbformat_minor": 5
}
