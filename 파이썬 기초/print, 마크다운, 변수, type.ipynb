{
 "cells": [
  {
   "cell_type": "markdown",
   "id": "05767da8",
   "metadata": {},
   "source": [
    "### 마크다운 상태\n",
    "- a : 위에 새로운 셀 추가\n",
    "- b : 아래에 새로운 셀 추가\n",
    "- c : 셀 복사하기\n",
    "- v : 셀 붙여넣기\n",
    "- x : 셀 잘라내기\n",
    "- dd : 셀 삭제하기\n",
    "- p : 셀 아래에 붙여넣기\n",
    "- o : 실행결과 열기/닫기\n",
    "- m : Markdown으로 변경\n",
    "- y : Code로 변경\n",
    "- Shift + m : 선택 셀과 아래 셀과 합치기\n",
    "- Ctrl + s 또는 s  : 파일 저장\n",
    "- Enter  : 선택 셀의 코드 입력 모드로 돌아가기"
   ]
  },
  {
   "cell_type": "markdown",
   "id": "dc3d33a3",
   "metadata": {},
   "source": [
    "## print (출력)\n",
    " - \"\", ''사용"
   ]
  },
  {
   "cell_type": "code",
   "execution_count": 3,
   "id": "d859a2c8",
   "metadata": {},
   "outputs": [
    {
     "name": "stdout",
     "output_type": "stream",
     "text": [
      "찜닭 먹고 싶다.\n"
     ]
    }
   ],
   "source": [
    "print('찜닭 먹고 싶다.')"
   ]
  },
  {
   "cell_type": "code",
   "execution_count": 5,
   "id": "bb9b9e3d",
   "metadata": {},
   "outputs": [
    {
     "name": "stdout",
     "output_type": "stream",
     "text": [
      "찜닭 먹고 싶다\n"
     ]
    }
   ],
   "source": [
    "print('찜닭', '먹고', '싶다')"
   ]
  },
  {
   "cell_type": "code",
   "execution_count": 8,
   "id": "683bcc3c",
   "metadata": {},
   "outputs": [
    {
     "name": "stdout",
     "output_type": "stream",
     "text": [
      "1 2 3 4\n"
     ]
    }
   ],
   "source": [
    "print(1, 2, 3, 4)"
   ]
  },
  {
   "cell_type": "markdown",
   "id": "72346691",
   "metadata": {},
   "source": [
    "### 마지막셀만 출력됨. 윗줄 출력을 원하면 print()사용."
   ]
  },
  {
   "cell_type": "code",
   "execution_count": 9,
   "id": "793ff7fb",
   "metadata": {},
   "outputs": [
    {
     "data": {
      "text/plain": [
       "3"
      ]
     },
     "execution_count": 9,
     "metadata": {},
     "output_type": "execute_result"
    }
   ],
   "source": [
    "333\n",
    "33\n",
    "3"
   ]
  },
  {
   "cell_type": "markdown",
   "id": "21350c80",
   "metadata": {},
   "source": [
    "## 변수"
   ]
  },
  {
   "cell_type": "markdown",
   "id": "07a98332",
   "metadata": {},
   "source": [
    "- 특수기호는 언더바만 가능\n",
    "- 숫자는 맨앞에 못옴\n",
    "- 예약어 사용 불가"
   ]
  },
  {
   "cell_type": "code",
   "execution_count": 13,
   "id": "32095d0e",
   "metadata": {},
   "outputs": [],
   "source": [
    "_a = 1"
   ]
  },
  {
   "cell_type": "code",
   "execution_count": 14,
   "id": "d6a70517",
   "metadata": {},
   "outputs": [
    {
     "ename": "SyntaxError",
     "evalue": "invalid syntax (Temp/ipykernel_13696/3794933871.py, line 1)",
     "output_type": "error",
     "traceback": [
      "\u001b[1;36m  File \u001b[1;32m\"C:\\Users\\xorud\\AppData\\Local\\Temp/ipykernel_13696/3794933871.py\"\u001b[1;36m, line \u001b[1;32m1\u001b[0m\n\u001b[1;33m    7a = 1\u001b[0m\n\u001b[1;37m     ^\u001b[0m\n\u001b[1;31mSyntaxError\u001b[0m\u001b[1;31m:\u001b[0m invalid syntax\n"
     ]
    }
   ],
   "source": [
    "7a = 1 # 숫자가 맨 앞 불가능"
   ]
  },
  {
   "cell_type": "code",
   "execution_count": 15,
   "id": "ddcabbbe",
   "metadata": {},
   "outputs": [
    {
     "ename": "SyntaxError",
     "evalue": "invalid syntax (Temp/ipykernel_13696/3812369993.py, line 1)",
     "output_type": "error",
     "traceback": [
      "\u001b[1;36m  File \u001b[1;32m\"C:\\Users\\xorud\\AppData\\Local\\Temp/ipykernel_13696/3812369993.py\"\u001b[1;36m, line \u001b[1;32m1\u001b[0m\n\u001b[1;33m    @a = 1\u001b[0m\n\u001b[1;37m       ^\u001b[0m\n\u001b[1;31mSyntaxError\u001b[0m\u001b[1;31m:\u001b[0m invalid syntax\n"
     ]
    }
   ],
   "source": [
    "@a = 1 # 언더바말고 다른 특수문자 불가능"
   ]
  },
  {
   "cell_type": "code",
   "execution_count": 16,
   "id": "a2c4fd2b",
   "metadata": {},
   "outputs": [
    {
     "ename": "SyntaxError",
     "evalue": "invalid syntax (Temp/ipykernel_13696/3627916873.py, line 1)",
     "output_type": "error",
     "traceback": [
      "\u001b[1;36m  File \u001b[1;32m\"C:\\Users\\xorud\\AppData\\Local\\Temp/ipykernel_13696/3627916873.py\"\u001b[1;36m, line \u001b[1;32m1\u001b[0m\n\u001b[1;33m    a b = 1\u001b[0m\n\u001b[1;37m      ^\u001b[0m\n\u001b[1;31mSyntaxError\u001b[0m\u001b[1;31m:\u001b[0m invalid syntax\n"
     ]
    }
   ],
   "source": [
    "a b = 1 # 공백 불가능"
   ]
  },
  {
   "cell_type": "code",
   "execution_count": 21,
   "id": "49a9a1aa",
   "metadata": {},
   "outputs": [
    {
     "ename": "SyntaxError",
     "evalue": "invalid syntax (Temp/ipykernel_13696/281340337.py, line 1)",
     "output_type": "error",
     "traceback": [
      "\u001b[1;36m  File \u001b[1;32m\"C:\\Users\\xorud\\AppData\\Local\\Temp/ipykernel_13696/281340337.py\"\u001b[1;36m, line \u001b[1;32m1\u001b[0m\n\u001b[1;33m    def = 1\u001b[0m\n\u001b[1;37m        ^\u001b[0m\n\u001b[1;31mSyntaxError\u001b[0m\u001b[1;31m:\u001b[0m invalid syntax\n"
     ]
    }
   ],
   "source": [
    "def = 1 # 예약어 불가능\n",
    "def"
   ]
  },
  {
   "cell_type": "markdown",
   "id": "a9c72e4d",
   "metadata": {},
   "source": [
    "## 데이터 타입"
   ]
  },
  {
   "cell_type": "markdown",
   "id": "055dea5c",
   "metadata": {},
   "source": [
    "- int (정수)\n",
    "- float (실수)\n",
    "- str (문자열)\n",
    "- bool (참/거짓)"
   ]
  },
  {
   "cell_type": "code",
   "execution_count": 23,
   "id": "0aaf897d",
   "metadata": {},
   "outputs": [
    {
     "data": {
      "text/plain": [
       "int"
      ]
     },
     "execution_count": 23,
     "metadata": {},
     "output_type": "execute_result"
    }
   ],
   "source": [
    "type(1)"
   ]
  },
  {
   "cell_type": "code",
   "execution_count": 24,
   "id": "af9c456c",
   "metadata": {},
   "outputs": [
    {
     "data": {
      "text/plain": [
       "float"
      ]
     },
     "execution_count": 24,
     "metadata": {},
     "output_type": "execute_result"
    }
   ],
   "source": [
    "type(1.1)"
   ]
  },
  {
   "cell_type": "code",
   "execution_count": 25,
   "id": "0d68568f",
   "metadata": {},
   "outputs": [
    {
     "data": {
      "text/plain": [
       "str"
      ]
     },
     "execution_count": 25,
     "metadata": {},
     "output_type": "execute_result"
    }
   ],
   "source": [
    "type('1')"
   ]
  },
  {
   "cell_type": "code",
   "execution_count": 26,
   "id": "f3b1e6e7",
   "metadata": {},
   "outputs": [
    {
     "data": {
      "text/plain": [
       "bool"
      ]
     },
     "execution_count": 26,
     "metadata": {},
     "output_type": "execute_result"
    }
   ],
   "source": [
    "type(1==1)"
   ]
  },
  {
   "cell_type": "markdown",
   "id": "127f6b34",
   "metadata": {},
   "source": [
    "### 여러 줄로 입력 하고 싶을 때 '''  '''활용"
   ]
  },
  {
   "cell_type": "code",
   "execution_count": 28,
   "id": "472e9a4c",
   "metadata": {},
   "outputs": [
    {
     "data": {
      "text/plain": [
       "'ㅇㅇㅇㅇㅇㅇ\\nㅇㅇㅇ\\nㅇㅇㅇ\\nㅇㅇㅇ'"
      ]
     },
     "execution_count": 28,
     "metadata": {},
     "output_type": "execute_result"
    }
   ],
   "source": [
    "'''ㅇㅇㅇㅇㅇㅇ\n",
    "ㅇㅇㅇ\n",
    "ㅇㅇㅇ\n",
    "ㅇㅇㅇ'''"
   ]
  },
  {
   "cell_type": "markdown",
   "id": "dbc08fc3",
   "metadata": {},
   "source": [
    "### 같다 =="
   ]
  },
  {
   "cell_type": "markdown",
   "id": "92b00eca",
   "metadata": {},
   "source": [
    "## 타입 변환"
   ]
  },
  {
   "cell_type": "code",
   "execution_count": 31,
   "id": "5f754a07",
   "metadata": {},
   "outputs": [
    {
     "data": {
      "text/plain": [
       "int"
      ]
     },
     "execution_count": 31,
     "metadata": {},
     "output_type": "execute_result"
    }
   ],
   "source": [
    "type(1)"
   ]
  },
  {
   "cell_type": "code",
   "execution_count": 32,
   "id": "a22d4db1",
   "metadata": {},
   "outputs": [
    {
     "data": {
      "text/plain": [
       "1.0"
      ]
     },
     "execution_count": 32,
     "metadata": {},
     "output_type": "execute_result"
    }
   ],
   "source": [
    "float(1)"
   ]
  },
  {
   "cell_type": "code",
   "execution_count": 33,
   "id": "71a12d5c",
   "metadata": {},
   "outputs": [
    {
     "data": {
      "text/plain": [
       "3"
      ]
     },
     "execution_count": 33,
     "metadata": {},
     "output_type": "execute_result"
    }
   ],
   "source": [
    "int(3.99) # 내림"
   ]
  },
  {
   "cell_type": "code",
   "execution_count": 34,
   "id": "2386508d",
   "metadata": {},
   "outputs": [
    {
     "data": {
      "text/plain": [
       "1"
      ]
     },
     "execution_count": 34,
     "metadata": {},
     "output_type": "execute_result"
    }
   ],
   "source": [
    "int(True) # True는 1 False는 0"
   ]
  },
  {
   "cell_type": "code",
   "execution_count": 35,
   "id": "7e70adf5",
   "metadata": {},
   "outputs": [
    {
     "data": {
      "text/plain": [
       "True"
      ]
     },
     "execution_count": 35,
     "metadata": {},
     "output_type": "execute_result"
    }
   ],
   "source": [
    "bool(101) # bool은 0이 아닌 값은 다 True로 간주"
   ]
  },
  {
   "cell_type": "markdown",
   "id": "e633c4d3",
   "metadata": {},
   "source": [
    "## 연습문제"
   ]
  },
  {
   "cell_type": "markdown",
   "id": "e9cda59c",
   "metadata": {},
   "source": [
    "- 타입 확인"
   ]
  },
  {
   "cell_type": "code",
   "execution_count": 37,
   "id": "98c5fa10",
   "metadata": {},
   "outputs": [],
   "source": [
    "a = 1.1"
   ]
  },
  {
   "cell_type": "code",
   "execution_count": 38,
   "id": "f01be844",
   "metadata": {},
   "outputs": [
    {
     "data": {
      "text/plain": [
       "float"
      ]
     },
     "execution_count": 38,
     "metadata": {},
     "output_type": "execute_result"
    }
   ],
   "source": [
    "type(a)"
   ]
  },
  {
   "cell_type": "markdown",
   "id": "49f38023",
   "metadata": {},
   "source": [
    "- 타입 변경"
   ]
  },
  {
   "cell_type": "code",
   "execution_count": 40,
   "id": "c8e273de",
   "metadata": {},
   "outputs": [
    {
     "data": {
      "text/plain": [
       "1"
      ]
     },
     "execution_count": 40,
     "metadata": {},
     "output_type": "execute_result"
    }
   ],
   "source": [
    "int(a)"
   ]
  },
  {
   "cell_type": "code",
   "execution_count": 41,
   "id": "26698eee",
   "metadata": {},
   "outputs": [],
   "source": [
    "a= 1"
   ]
  },
  {
   "cell_type": "code",
   "execution_count": 42,
   "id": "0d6ba03c",
   "metadata": {},
   "outputs": [
    {
     "data": {
      "text/plain": [
       "True"
      ]
     },
     "execution_count": 42,
     "metadata": {},
     "output_type": "execute_result"
    }
   ],
   "source": [
    "bool(a)"
   ]
  },
  {
   "cell_type": "code",
   "execution_count": 44,
   "id": "b4a18425",
   "metadata": {},
   "outputs": [
    {
     "data": {
      "text/plain": [
       "0"
      ]
     },
     "execution_count": 44,
     "metadata": {},
     "output_type": "execute_result"
    }
   ],
   "source": [
    "a= False\n",
    "int(a)"
   ]
  },
  {
   "cell_type": "code",
   "execution_count": 45,
   "id": "785c6239",
   "metadata": {},
   "outputs": [
    {
     "data": {
      "text/plain": [
       "'123'"
      ]
     },
     "execution_count": 45,
     "metadata": {},
     "output_type": "execute_result"
    }
   ],
   "source": [
    "a = 123\n",
    "str(a)"
   ]
  },
  {
   "cell_type": "markdown",
   "id": "223b4448",
   "metadata": {},
   "source": []
  },
  {
   "cell_type": "code",
   "execution_count": null,
   "id": "7d52f5a6",
   "metadata": {},
   "outputs": [],
   "source": []
  }
 ],
 "metadata": {
  "kernelspec": {
   "display_name": "Python 3 (ipykernel)",
   "language": "python",
   "name": "python3"
  },
  "language_info": {
   "codemirror_mode": {
    "name": "ipython",
    "version": 3
   },
   "file_extension": ".py",
   "mimetype": "text/x-python",
   "name": "python",
   "nbconvert_exporter": "python",
   "pygments_lexer": "ipython3",
   "version": "3.9.7"
  }
 },
 "nbformat": 4,
 "nbformat_minor": 5
}
