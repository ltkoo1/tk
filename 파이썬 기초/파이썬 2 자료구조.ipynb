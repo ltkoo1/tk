{
 "cells": [
  {
   "cell_type": "markdown",
   "id": "a53ba972",
   "metadata": {},
   "source": [
    "# 자료 구조\n",
    "- list는 순서가 있고, 가변 []\n",
    "- tuple은 순서가 있고, 불변 ()\n",
    "- set는 순서가 없고, 중복 허용 안함 {}\n",
    "- dict는 순서가 없고 key,value 쌍으로 이루어짐 {:}"
   ]
  },
  {
   "cell_type": "code",
   "execution_count": 2,
   "id": "b6c4869a",
   "metadata": {},
   "outputs": [
    {
     "data": {
      "text/plain": [
       "[1, 3.4, 'hello', [1, 'hell']]"
      ]
     },
     "execution_count": 2,
     "metadata": {},
     "output_type": "execute_result"
    }
   ],
   "source": [
    "a = [1 , 3.4, 'hello', [1,'hell']]\n",
    "a # 리스트 안 리스트 가능"
   ]
  },
  {
   "cell_type": "markdown",
   "id": "65cdae39",
   "metadata": {},
   "source": [
    "### append() : 값 추가"
   ]
  },
  {
   "cell_type": "code",
   "execution_count": 11,
   "id": "a6e813d7",
   "metadata": {},
   "outputs": [],
   "source": [
    "mylist = []"
   ]
  },
  {
   "cell_type": "code",
   "execution_count": 12,
   "id": "776119a8",
   "metadata": {},
   "outputs": [
    {
     "data": {
      "text/plain": [
       "[1]"
      ]
     },
     "execution_count": 12,
     "metadata": {},
     "output_type": "execute_result"
    }
   ],
   "source": [
    "mylist.append(1)\n",
    "mylist"
   ]
  },
  {
   "cell_type": "code",
   "execution_count": 13,
   "id": "24e05e96",
   "metadata": {},
   "outputs": [
    {
     "data": {
      "text/plain": [
       "[1, 3, 3]"
      ]
     },
     "execution_count": 13,
     "metadata": {},
     "output_type": "execute_result"
    }
   ],
   "source": [
    "mylist.append(3)\n",
    "mylist.append(3)\n",
    "mylist"
   ]
  },
  {
   "cell_type": "markdown",
   "id": "cb17549e",
   "metadata": {},
   "source": [
    "## sort() : 정렬\n",
    "- 오름차순으로 정리\n",
    "- 문자열도 가능"
   ]
  },
  {
   "cell_type": "code",
   "execution_count": 16,
   "id": "a0b863a5",
   "metadata": {},
   "outputs": [
    {
     "data": {
      "text/plain": [
       "[1, 2, 3, 4]"
      ]
     },
     "execution_count": 16,
     "metadata": {},
     "output_type": "execute_result"
    }
   ],
   "source": [
    "mylist = [1,4,2,3]\n",
    "mylist.sort()\n",
    "mylist"
   ]
  },
  {
   "cell_type": "markdown",
   "id": "69c927a4",
   "metadata": {},
   "source": [
    "## sorted() : 정렬\n",
    "- 점 연산자와 다르게 원본을 건들지 않는다."
   ]
  },
  {
   "cell_type": "code",
   "execution_count": 17,
   "id": "c0a5fc61",
   "metadata": {},
   "outputs": [
    {
     "name": "stdout",
     "output_type": "stream",
     "text": [
      "[1, 4, 5, 6]\n"
     ]
    },
    {
     "data": {
      "text/plain": [
       "[1, 6, 4, 5]"
      ]
     },
     "execution_count": 17,
     "metadata": {},
     "output_type": "execute_result"
    }
   ],
   "source": [
    "mylist = [1, 6, 4, 5]\n",
    "mylist1 = sorted(mylist)\n",
    "print(mylist1)\n",
    "mylist"
   ]
  },
  {
   "cell_type": "code",
   "execution_count": 18,
   "id": "a394b232",
   "metadata": {},
   "outputs": [
    {
     "name": "stdout",
     "output_type": "stream",
     "text": [
      "None\n"
     ]
    },
    {
     "data": {
      "text/plain": [
       "[1, 2, 3, 4, 6, 7]"
      ]
     },
     "execution_count": 18,
     "metadata": {},
     "output_type": "execute_result"
    }
   ],
   "source": [
    "mylist = [ 1,7,2,3,4,6]\n",
    "mylist1 = mylist.sort()\n",
    "print(mylist1)\n",
    "mylist # mylist.sort()가 작용되어 mylist가 바뀜."
   ]
  },
  {
   "cell_type": "markdown",
   "id": "58e03f0f",
   "metadata": {},
   "source": [
    "## reverse() : 역정렬"
   ]
  },
  {
   "cell_type": "code",
   "execution_count": 27,
   "id": "409473ef",
   "metadata": {},
   "outputs": [
    {
     "data": {
      "text/plain": [
       "[4, 3, 2, 1]"
      ]
     },
     "execution_count": 27,
     "metadata": {},
     "output_type": "execute_result"
    }
   ],
   "source": [
    "mylist = [1, 2, 3, 4]\n",
    "mylist.reverse()\n",
    "mylist"
   ]
  },
  {
   "cell_type": "code",
   "execution_count": 35,
   "id": "c6c720d7",
   "metadata": {},
   "outputs": [
    {
     "name": "stdout",
     "output_type": "stream",
     "text": [
      "[5, 4, 3, 2, 1]\n"
     ]
    },
    {
     "data": {
      "text/plain": [
       "[1, 2, 3, 4, 5]"
      ]
     },
     "execution_count": 35,
     "metadata": {},
     "output_type": "execute_result"
    }
   ],
   "source": [
    "mylist = [1, 2, 3, 4, 5]\n",
    "print(mylist[::-1])\n",
    "mylist"
   ]
  },
  {
   "cell_type": "markdown",
   "id": "6f83cd11",
   "metadata": {},
   "source": [
    "## len() : 항목의 개수 세기"
   ]
  },
  {
   "cell_type": "code",
   "execution_count": 38,
   "id": "db466b68",
   "metadata": {},
   "outputs": [
    {
     "name": "stdout",
     "output_type": "stream",
     "text": [
      "3\n"
     ]
    },
    {
     "data": {
      "text/plain": [
       "[1, 2, 3]"
      ]
     },
     "execution_count": 38,
     "metadata": {},
     "output_type": "execute_result"
    }
   ],
   "source": [
    "mylist = [1, 2, 3]\n",
    "print(len(mylist))\n",
    "mylist"
   ]
  },
  {
   "cell_type": "markdown",
   "id": "f2eb5880",
   "metadata": {},
   "source": [
    "## insert() : 값 추가\n",
    "- 지정한 인덱스에 값 추가"
   ]
  },
  {
   "cell_type": "code",
   "execution_count": 41,
   "id": "a114514f",
   "metadata": {},
   "outputs": [
    {
     "data": {
      "text/plain": [
       "[1, 2, 3, 4, 5]"
      ]
     },
     "execution_count": 41,
     "metadata": {},
     "output_type": "execute_result"
    }
   ],
   "source": [
    "mylist = [1, 3, 4, 5]\n",
    "mylist.insert(1, 2)\n",
    "mylist"
   ]
  },
  {
   "cell_type": "markdown",
   "id": "320321a9",
   "metadata": {},
   "source": [
    "## remove() : 값 제거\n",
    "- 첫 번째 나오는 해당 값 제거"
   ]
  },
  {
   "cell_type": "code",
   "execution_count": 45,
   "id": "02d0182b",
   "metadata": {},
   "outputs": [
    {
     "data": {
      "text/plain": [
       "[1, 2, 2, 3, 4]"
      ]
     },
     "execution_count": 45,
     "metadata": {},
     "output_type": "execute_result"
    }
   ],
   "source": [
    "mylist = [1, 2, 2, 2, 3, 4]\n",
    "mylist.remove(2)\n",
    "mylist"
   ]
  },
  {
   "cell_type": "markdown",
   "id": "2bf3d28d",
   "metadata": {},
   "source": [
    "## pop() : 요소 꺼내기\n",
    "-  해당 요소를 꺼내고 요소 삭제"
   ]
  },
  {
   "cell_type": "code",
   "execution_count": 47,
   "id": "12015327",
   "metadata": {},
   "outputs": [
    {
     "data": {
      "text/plain": [
       "[1, 2, 3, 4, 4, 5]"
      ]
     },
     "execution_count": 47,
     "metadata": {},
     "output_type": "execute_result"
    }
   ],
   "source": [
    "mylist = [1, 2, 3, 4, 4, 4, 5]\n",
    "mylist.pop(4)\n",
    "mylist"
   ]
  },
  {
   "cell_type": "markdown",
   "id": "c05ae735",
   "metadata": {},
   "source": [
    "## del : 요소 삭제"
   ]
  },
  {
   "cell_type": "code",
   "execution_count": 50,
   "id": "a6483223",
   "metadata": {},
   "outputs": [
    {
     "data": {
      "text/plain": [
       "[2, 3, 4]"
      ]
     },
     "execution_count": 50,
     "metadata": {},
     "output_type": "execute_result"
    }
   ],
   "source": [
    "mylist = [1, 2, 3, 4]\n",
    "del mylist[0] # 인덱스로 활용\n",
    "mylist"
   ]
  },
  {
   "cell_type": "markdown",
   "id": "b6a7a7d0",
   "metadata": {},
   "source": [
    "## count() : 갯수 세기"
   ]
  },
  {
   "cell_type": "code",
   "execution_count": 52,
   "id": "c486d9d3",
   "metadata": {},
   "outputs": [
    {
     "data": {
      "text/plain": [
       "3"
      ]
     },
     "execution_count": 52,
     "metadata": {},
     "output_type": "execute_result"
    }
   ],
   "source": [
    "mylist = [1, 1, 1, 2, 2, 3, 4, 5]\n",
    "mylist.count(1) # 해당 요소 갯수를 세줌."
   ]
  },
  {
   "cell_type": "markdown",
   "id": "afa6efaf",
   "metadata": {},
   "source": [
    "## extend() : 리스트 확장"
   ]
  },
  {
   "cell_type": "code",
   "execution_count": 56,
   "id": "1ff0a13b",
   "metadata": {},
   "outputs": [
    {
     "data": {
      "text/plain": [
       "[1, 2, 3, 1, 4]"
      ]
     },
     "execution_count": 56,
     "metadata": {},
     "output_type": "execute_result"
    }
   ],
   "source": [
    "a = [1, 2, 3]\n",
    "a.extend([1,4])\n",
    "a"
   ]
  },
  {
   "cell_type": "code",
   "execution_count": 57,
   "id": "23b1020d",
   "metadata": {},
   "outputs": [
    {
     "data": {
      "text/plain": [
       "[1, 2, 1, 2]"
      ]
     },
     "execution_count": 57,
     "metadata": {},
     "output_type": "execute_result"
    }
   ],
   "source": [
    "a = [1, 2]\n",
    "a + [1, 2]"
   ]
  },
  {
   "cell_type": "markdown",
   "id": "b2a9f1c8",
   "metadata": {},
   "source": [
    "## 연습문제"
   ]
  },
  {
   "cell_type": "code",
   "execution_count": 69,
   "id": "f926d272",
   "metadata": {},
   "outputs": [
    {
     "data": {
      "text/plain": [
       "[1, 2, 3, 5, 1, 2]"
      ]
     },
     "execution_count": 69,
     "metadata": {},
     "output_type": "execute_result"
    }
   ],
   "source": [
    "number = [1, 2, 3, 5]\n",
    "number.extend([1, 2])\n",
    "number"
   ]
  },
  {
   "cell_type": "code",
   "execution_count": 70,
   "id": "c3b9e8fd",
   "metadata": {},
   "outputs": [
    {
     "data": {
      "text/plain": [
       "[1, 2, 2, 3, 5, 1, 2]"
      ]
     },
     "execution_count": 70,
     "metadata": {},
     "output_type": "execute_result"
    }
   ],
   "source": [
    "number.insert(1, 2)\n",
    "number"
   ]
  },
  {
   "cell_type": "code",
   "execution_count": 71,
   "id": "938107f2",
   "metadata": {},
   "outputs": [
    {
     "data": {
      "text/plain": [
       "[2, 2, 3, 5, 1, 2]"
      ]
     },
     "execution_count": 71,
     "metadata": {},
     "output_type": "execute_result"
    }
   ],
   "source": [
    "number.remove(1)\n",
    "number"
   ]
  },
  {
   "cell_type": "code",
   "execution_count": 72,
   "id": "f1e45650",
   "metadata": {},
   "outputs": [
    {
     "data": {
      "text/plain": [
       "[2, 2, 5, 1, 2]"
      ]
     },
     "execution_count": 72,
     "metadata": {},
     "output_type": "execute_result"
    }
   ],
   "source": [
    "del number[2]\n",
    "number"
   ]
  },
  {
   "cell_type": "code",
   "execution_count": 74,
   "id": "c9e02d5e",
   "metadata": {},
   "outputs": [
    {
     "name": "stdout",
     "output_type": "stream",
     "text": [
      "[2, 2, 5, 1, 2, 1, 2, 3, 1, 2, 3]\n"
     ]
    },
    {
     "data": {
      "text/plain": [
       "[2, 2, 5, 1, 2, 1, 2, 3, 1, 2, 3]"
      ]
     },
     "execution_count": 74,
     "metadata": {},
     "output_type": "execute_result"
    }
   ],
   "source": [
    "number1 = [1, 2, 3]\n",
    "print(number + number1)\n",
    "number.extend(number1)\n",
    "number"
   ]
  },
  {
   "cell_type": "code",
   "execution_count": 83,
   "id": "850b8b0b",
   "metadata": {},
   "outputs": [
    {
     "data": {
      "text/plain": [
       "['한국', '중국', '일본', '호주', '가나']"
      ]
     },
     "execution_count": 83,
     "metadata": {},
     "output_type": "execute_result"
    }
   ],
   "source": [
    "str_ = ['한국', '중국', '일본', '호주', '가나']\n",
    "str_"
   ]
  },
  {
   "cell_type": "code",
   "execution_count": 84,
   "id": "6a0a829c",
   "metadata": {},
   "outputs": [
    {
     "data": {
      "text/plain": [
       "['가나', '일본', '중국', '한국', '호주']"
      ]
     },
     "execution_count": 84,
     "metadata": {},
     "output_type": "execute_result"
    }
   ],
   "source": [
    "str_.sort()\n",
    "str_"
   ]
  },
  {
   "cell_type": "markdown",
   "id": "4dd45e19",
   "metadata": {},
   "source": [
    "## index\n",
    "- 처음이 0"
   ]
  },
  {
   "cell_type": "code",
   "execution_count": 85,
   "id": "e0593834",
   "metadata": {},
   "outputs": [
    {
     "data": {
      "text/plain": [
       "1"
      ]
     },
     "execution_count": 85,
     "metadata": {},
     "output_type": "execute_result"
    }
   ],
   "source": [
    "a = [1, 2, 3, 4]\n",
    "a[0]"
   ]
  },
  {
   "cell_type": "code",
   "execution_count": 86,
   "id": "40005345",
   "metadata": {},
   "outputs": [
    {
     "data": {
      "text/plain": [
       "4"
      ]
     },
     "execution_count": 86,
     "metadata": {},
     "output_type": "execute_result"
    }
   ],
   "source": [
    "a[-1]"
   ]
  },
  {
   "cell_type": "code",
   "execution_count": 89,
   "id": "12b4edd4",
   "metadata": {},
   "outputs": [
    {
     "data": {
      "text/plain": [
       "[2, 2, 3, 4]"
      ]
     },
     "execution_count": 89,
     "metadata": {},
     "output_type": "execute_result"
    }
   ],
   "source": [
    "a[0] = 2\n",
    "a"
   ]
  },
  {
   "cell_type": "code",
   "execution_count": 90,
   "id": "bcf496d4",
   "metadata": {},
   "outputs": [
    {
     "data": {
      "text/plain": [
       "[1, 2, 3]"
      ]
     },
     "execution_count": 90,
     "metadata": {},
     "output_type": "execute_result"
    }
   ],
   "source": [
    "a = [[1, 2, 3],[1, 2], 4, 5]\n",
    "a[0]"
   ]
  },
  {
   "cell_type": "code",
   "execution_count": 91,
   "id": "bc0917b4",
   "metadata": {},
   "outputs": [
    {
     "data": {
      "text/plain": [
       "1"
      ]
     },
     "execution_count": 91,
     "metadata": {},
     "output_type": "execute_result"
    }
   ],
   "source": [
    "a[0][0]"
   ]
  },
  {
   "cell_type": "markdown",
   "id": "3f0eddae",
   "metadata": {},
   "source": [
    "## 슬라이싱 : 범위 추출 [start:stop:step]"
   ]
  },
  {
   "cell_type": "code",
   "execution_count": 92,
   "id": "f5371a12",
   "metadata": {},
   "outputs": [
    {
     "data": {
      "text/plain": [
       "[1, 2, 3, 4, 5]"
      ]
     },
     "execution_count": 92,
     "metadata": {},
     "output_type": "execute_result"
    }
   ],
   "source": [
    "a = [1, 2, 3, 4, 5]\n",
    "a[:]"
   ]
  },
  {
   "cell_type": "code",
   "execution_count": 93,
   "id": "eb79d5ca",
   "metadata": {},
   "outputs": [
    {
     "data": {
      "text/plain": [
       "[3, 4, 5]"
      ]
     },
     "execution_count": 93,
     "metadata": {},
     "output_type": "execute_result"
    }
   ],
   "source": [
    "a[2:]"
   ]
  },
  {
   "cell_type": "code",
   "execution_count": 94,
   "id": "64230c0e",
   "metadata": {},
   "outputs": [
    {
     "data": {
      "text/plain": [
       "[1, 2]"
      ]
     },
     "execution_count": 94,
     "metadata": {},
     "output_type": "execute_result"
    }
   ],
   "source": [
    "a[:2]"
   ]
  },
  {
   "cell_type": "code",
   "execution_count": 95,
   "id": "eaaf3e06",
   "metadata": {},
   "outputs": [
    {
     "data": {
      "text/plain": [
       "[2, 3]"
      ]
     },
     "execution_count": 95,
     "metadata": {},
     "output_type": "execute_result"
    }
   ],
   "source": [
    "a[1:3]"
   ]
  },
  {
   "cell_type": "markdown",
   "id": "8f6e4b0e",
   "metadata": {},
   "source": [
    "## list 덧셈, 곱셈"
   ]
  },
  {
   "cell_type": "code",
   "execution_count": 96,
   "id": "ddc2ccb0",
   "metadata": {},
   "outputs": [
    {
     "data": {
      "text/plain": [
       "[1, 2, 3, 4]"
      ]
     },
     "execution_count": 96,
     "metadata": {},
     "output_type": "execute_result"
    }
   ],
   "source": [
    "a = [1, 2]\n",
    "b = [3, 4]\n",
    "a + b"
   ]
  },
  {
   "cell_type": "code",
   "execution_count": 97,
   "id": "cb22247c",
   "metadata": {},
   "outputs": [
    {
     "data": {
      "text/plain": [
       "[1, 2, 1, 2]"
      ]
     },
     "execution_count": 97,
     "metadata": {},
     "output_type": "execute_result"
    }
   ],
   "source": [
    "a * 2"
   ]
  },
  {
   "cell_type": "code",
   "execution_count": 98,
   "id": "50130acc",
   "metadata": {},
   "outputs": [
    {
     "ename": "TypeError",
     "evalue": "can't multiply sequence by non-int of type 'list'",
     "output_type": "error",
     "traceback": [
      "\u001b[1;31m---------------------------------------------------------------------------\u001b[0m",
      "\u001b[1;31mTypeError\u001b[0m                                 Traceback (most recent call last)",
      "\u001b[1;32m~\\AppData\\Local\\Temp/ipykernel_12356/937666681.py\u001b[0m in \u001b[0;36m<module>\u001b[1;34m\u001b[0m\n\u001b[1;32m----> 1\u001b[1;33m \u001b[0ma\u001b[0m \u001b[1;33m*\u001b[0m \u001b[0mb\u001b[0m\u001b[1;33m\u001b[0m\u001b[1;33m\u001b[0m\u001b[0m\n\u001b[0m",
      "\u001b[1;31mTypeError\u001b[0m: can't multiply sequence by non-int of type 'list'"
     ]
    }
   ],
   "source": [
    "a * b # a를 b번 곱하는건 말이 안됨 다만 b가 숫자면 가능"
   ]
  },
  {
   "cell_type": "code",
   "execution_count": 99,
   "id": "3642a836",
   "metadata": {},
   "outputs": [
    {
     "data": {
      "text/plain": [
       "[1, 2, 1, 2]"
      ]
     },
     "execution_count": 99,
     "metadata": {},
     "output_type": "execute_result"
    }
   ],
   "source": [
    "b = 2\n",
    "a * b"
   ]
  },
  {
   "cell_type": "code",
   "execution_count": 103,
   "id": "f5c750e3",
   "metadata": {},
   "outputs": [
    {
     "name": "stdout",
     "output_type": "stream",
     "text": [
      "[5, 1]\n"
     ]
    },
    {
     "data": {
      "text/plain": [
       "[5, 1]"
      ]
     },
     "execution_count": 103,
     "metadata": {},
     "output_type": "execute_result"
    }
   ],
   "source": [
    "sample = [1, 3, 5, 4, 2]\n",
    "print(sample[-3::-2])\n",
    "sample[2::-2]"
   ]
  },
  {
   "cell_type": "code",
   "execution_count": null,
   "id": "d8edfd68",
   "metadata": {},
   "outputs": [],
   "source": []
  }
 ],
 "metadata": {
  "kernelspec": {
   "display_name": "Python 3 (ipykernel)",
   "language": "python",
   "name": "python3"
  },
  "language_info": {
   "codemirror_mode": {
    "name": "ipython",
    "version": 3
   },
   "file_extension": ".py",
   "mimetype": "text/x-python",
   "name": "python",
   "nbconvert_exporter": "python",
   "pygments_lexer": "ipython3",
   "version": "3.9.7"
  }
 },
 "nbformat": 4,
 "nbformat_minor": 5
}
