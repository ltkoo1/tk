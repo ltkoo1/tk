{
 "cells": [
  {
   "cell_type": "code",
   "execution_count": 1,
   "id": "b995fd06",
   "metadata": {},
   "outputs": [],
   "source": [
    "import pandas as pd\n",
    "import numpy as np\n",
    "import matplotlib.pyplot as plt\n",
    "from collections import Counter\n",
    "import seaborn as sns\n",
    "import matplotlib.font_manager as fm"
   ]
  },
  {
   "cell_type": "code",
   "execution_count": 2,
   "id": "d470398f",
   "metadata": {},
   "outputs": [],
   "source": [
    "df = pd.read_csv('C:\\\\Users\\\\xorud\\\\Desktop\\\\동아리\\\\train.csv')"
   ]
  },
  {
   "cell_type": "markdown",
   "id": "1125b4ae",
   "metadata": {},
   "source": [
    "데이터를 불러옴 , 데이터에 대한 정보를 확인한다 .\n",
    "확인하는 이유 : "
   ]
  },
  {
   "cell_type": "code",
   "execution_count": 3,
   "id": "13b71112",
   "metadata": {},
   "outputs": [
    {
     "data": {
      "text/html": [
       "<div>\n",
       "<style scoped>\n",
       "    .dataframe tbody tr th:only-of-type {\n",
       "        vertical-align: middle;\n",
       "    }\n",
       "\n",
       "    .dataframe tbody tr th {\n",
       "        vertical-align: top;\n",
       "    }\n",
       "\n",
       "    .dataframe thead th {\n",
       "        text-align: right;\n",
       "    }\n",
       "</style>\n",
       "<table border=\"1\" class=\"dataframe\">\n",
       "  <thead>\n",
       "    <tr style=\"text-align: right;\">\n",
       "      <th></th>\n",
       "      <th>PassengerId</th>\n",
       "      <th>Survived</th>\n",
       "      <th>Pclass</th>\n",
       "      <th>Name</th>\n",
       "      <th>Sex</th>\n",
       "      <th>Age</th>\n",
       "      <th>SibSp</th>\n",
       "      <th>Parch</th>\n",
       "      <th>Ticket</th>\n",
       "      <th>Fare</th>\n",
       "      <th>Cabin</th>\n",
       "      <th>Embarked</th>\n",
       "    </tr>\n",
       "  </thead>\n",
       "  <tbody>\n",
       "    <tr>\n",
       "      <th>0</th>\n",
       "      <td>1</td>\n",
       "      <td>0</td>\n",
       "      <td>3</td>\n",
       "      <td>Braund, Mr. Owen Harris</td>\n",
       "      <td>male</td>\n",
       "      <td>22.0</td>\n",
       "      <td>1</td>\n",
       "      <td>0</td>\n",
       "      <td>A/5 21171</td>\n",
       "      <td>7.2500</td>\n",
       "      <td>NaN</td>\n",
       "      <td>S</td>\n",
       "    </tr>\n",
       "    <tr>\n",
       "      <th>1</th>\n",
       "      <td>2</td>\n",
       "      <td>1</td>\n",
       "      <td>1</td>\n",
       "      <td>Cumings, Mrs. John Bradley (Florence Briggs Th...</td>\n",
       "      <td>female</td>\n",
       "      <td>38.0</td>\n",
       "      <td>1</td>\n",
       "      <td>0</td>\n",
       "      <td>PC 17599</td>\n",
       "      <td>71.2833</td>\n",
       "      <td>C85</td>\n",
       "      <td>C</td>\n",
       "    </tr>\n",
       "    <tr>\n",
       "      <th>2</th>\n",
       "      <td>3</td>\n",
       "      <td>1</td>\n",
       "      <td>3</td>\n",
       "      <td>Heikkinen, Miss. Laina</td>\n",
       "      <td>female</td>\n",
       "      <td>26.0</td>\n",
       "      <td>0</td>\n",
       "      <td>0</td>\n",
       "      <td>STON/O2. 3101282</td>\n",
       "      <td>7.9250</td>\n",
       "      <td>NaN</td>\n",
       "      <td>S</td>\n",
       "    </tr>\n",
       "    <tr>\n",
       "      <th>3</th>\n",
       "      <td>4</td>\n",
       "      <td>1</td>\n",
       "      <td>1</td>\n",
       "      <td>Futrelle, Mrs. Jacques Heath (Lily May Peel)</td>\n",
       "      <td>female</td>\n",
       "      <td>35.0</td>\n",
       "      <td>1</td>\n",
       "      <td>0</td>\n",
       "      <td>113803</td>\n",
       "      <td>53.1000</td>\n",
       "      <td>C123</td>\n",
       "      <td>S</td>\n",
       "    </tr>\n",
       "    <tr>\n",
       "      <th>4</th>\n",
       "      <td>5</td>\n",
       "      <td>0</td>\n",
       "      <td>3</td>\n",
       "      <td>Allen, Mr. William Henry</td>\n",
       "      <td>male</td>\n",
       "      <td>35.0</td>\n",
       "      <td>0</td>\n",
       "      <td>0</td>\n",
       "      <td>373450</td>\n",
       "      <td>8.0500</td>\n",
       "      <td>NaN</td>\n",
       "      <td>S</td>\n",
       "    </tr>\n",
       "  </tbody>\n",
       "</table>\n",
       "</div>"
      ],
      "text/plain": [
       "   PassengerId  Survived  Pclass  \\\n",
       "0            1         0       3   \n",
       "1            2         1       1   \n",
       "2            3         1       3   \n",
       "3            4         1       1   \n",
       "4            5         0       3   \n",
       "\n",
       "                                                Name     Sex   Age  SibSp  \\\n",
       "0                            Braund, Mr. Owen Harris    male  22.0      1   \n",
       "1  Cumings, Mrs. John Bradley (Florence Briggs Th...  female  38.0      1   \n",
       "2                             Heikkinen, Miss. Laina  female  26.0      0   \n",
       "3       Futrelle, Mrs. Jacques Heath (Lily May Peel)  female  35.0      1   \n",
       "4                           Allen, Mr. William Henry    male  35.0      0   \n",
       "\n",
       "   Parch            Ticket     Fare Cabin Embarked  \n",
       "0      0         A/5 21171   7.2500   NaN        S  \n",
       "1      0          PC 17599  71.2833   C85        C  \n",
       "2      0  STON/O2. 3101282   7.9250   NaN        S  \n",
       "3      0            113803  53.1000  C123        S  \n",
       "4      0            373450   8.0500   NaN        S  "
      ]
     },
     "execution_count": 3,
     "metadata": {},
     "output_type": "execute_result"
    }
   ],
   "source": [
    "df.head()"
   ]
  },
  {
   "cell_type": "code",
   "execution_count": 4,
   "id": "38bd356e",
   "metadata": {},
   "outputs": [
    {
     "name": "stdout",
     "output_type": "stream",
     "text": [
      "<class 'pandas.core.frame.DataFrame'>\n",
      "RangeIndex: 891 entries, 0 to 890\n",
      "Data columns (total 12 columns):\n",
      " #   Column       Non-Null Count  Dtype  \n",
      "---  ------       --------------  -----  \n",
      " 0   PassengerId  891 non-null    int64  \n",
      " 1   Survived     891 non-null    int64  \n",
      " 2   Pclass       891 non-null    int64  \n",
      " 3   Name         891 non-null    object \n",
      " 4   Sex          891 non-null    object \n",
      " 5   Age          714 non-null    float64\n",
      " 6   SibSp        891 non-null    int64  \n",
      " 7   Parch        891 non-null    int64  \n",
      " 8   Ticket       891 non-null    object \n",
      " 9   Fare         891 non-null    float64\n",
      " 10  Cabin        204 non-null    object \n",
      " 11  Embarked     889 non-null    object \n",
      "dtypes: float64(2), int64(5), object(5)\n",
      "memory usage: 83.7+ KB\n"
     ]
    }
   ],
   "source": [
    "df.info()"
   ]
  },
  {
   "cell_type": "code",
   "execution_count": 13,
   "id": "afb0c7a8",
   "metadata": {},
   "outputs": [
    {
     "name": "stdout",
     "output_type": "stream",
     "text": [
      "       PassengerId    Survived      Pclass         Age       SibSp  \\\n",
      "count   891.000000  891.000000  891.000000  714.000000  891.000000   \n",
      "mean    446.000000    0.383838    2.308642   29.699118    0.523008   \n",
      "std     257.353842    0.486592    0.836071   14.526497    1.102743   \n",
      "min       1.000000    0.000000    1.000000    0.420000    0.000000   \n",
      "25%     223.500000    0.000000    2.000000   20.125000    0.000000   \n",
      "50%     446.000000    0.000000    3.000000   28.000000    0.000000   \n",
      "75%     668.500000    1.000000    3.000000   38.000000    1.000000   \n",
      "max     891.000000    1.000000    3.000000   80.000000    8.000000   \n",
      "\n",
      "            Parch        Fare  \n",
      "count  891.000000  891.000000  \n",
      "mean     0.381594   32.204208  \n",
      "std      0.806057   49.693429  \n",
      "min      0.000000    0.000000  \n",
      "25%      0.000000    7.910400  \n",
      "50%      0.000000   14.454200  \n",
      "75%      0.000000   31.000000  \n",
      "max      6.000000  512.329200  \n",
      "                           Name   Sex  Ticket    Cabin Embarked\n",
      "count                       891   891     891      204      889\n",
      "unique                      891     2     681      147        3\n",
      "top     Braund, Mr. Owen Harris  male  347082  B96 B98        S\n",
      "freq                          1   577       7        4      644\n"
     ]
    }
   ],
   "source": [
    "print(df.describe())\n",
    "print(df.describe(include = object))"
   ]
  },
  {
   "cell_type": "markdown",
   "id": "c24c17fb",
   "metadata": {},
   "source": [
    "describe는 데이터의 통계량을 보여주는 코드\n",
    "여기서 확인해야 할것 count에서 Age가 891이 아니라 714 인 점\n",
    "cabin이 204인 점 \n",
    "Embarked가 889 인 점 \n",
    "null 값이 있다는 것을 알고 시작 "
   ]
  },
  {
   "cell_type": "code",
   "execution_count": 6,
   "id": "78fe4897",
   "metadata": {},
   "outputs": [
    {
     "data": {
      "text/plain": [
       "PassengerId      0\n",
       "Survived         0\n",
       "Pclass           0\n",
       "Name             0\n",
       "Sex              0\n",
       "Age            177\n",
       "SibSp            0\n",
       "Parch            0\n",
       "Ticket           0\n",
       "Fare             0\n",
       "Cabin          687\n",
       "Embarked         2\n",
       "dtype: int64"
      ]
     },
     "execution_count": 6,
     "metadata": {},
     "output_type": "execute_result"
    }
   ],
   "source": [
    "df.isnull().sum()"
   ]
  },
  {
   "cell_type": "markdown",
   "id": "681600b0",
   "metadata": {},
   "source": [
    "좀 더 명확하게 알기 위해서 isnull().sum()을 이용하여 null값이 있는지 확인을 해본다 .\n",
    "Age Cabin Embarked 확인 "
   ]
  },
  {
   "cell_type": "markdown",
   "id": "21021816",
   "metadata": {},
   "source": [
    "# 시각화"
   ]
  },
  {
   "cell_type": "code",
   "execution_count": 10,
   "id": "d826e5d9",
   "metadata": {},
   "outputs": [],
   "source": [
    "age = df['Age']"
   ]
  },
  {
   "cell_type": "code",
   "execution_count": 13,
   "id": "121d1734",
   "metadata": {},
   "outputs": [
    {
     "data": {
      "image/png": "[encoded data removed]",
      "text/plain": [
       "<Figure size 432x288 with 1 Axes>"
      ]
     },
     "metadata": {
      "needs_background": "light"
     },
     "output_type": "display_data"
    }
   ],
   "source": [
    "plt.hist(age, bins = [0, 10, 20, 30 , 40, 50, 60, 70, 80, 90, 100])\n",
    "plt.xlabel('age')\n",
    "plt.ylabel('count')\n",
    "plt.show()"
   ]
  },
  {
   "cell_type": "code",
   "execution_count": 8,
   "id": "8da806c2",
   "metadata": {},
   "outputs": [
    {
     "data": {
      "text/plain": [
       "<AxesSubplot:xlabel='Cabin', ylabel='count'>"
      ]
     },
     "execution_count": 8,
     "metadata": {},
     "output_type": "execute_result"
    },
    {
     "data": {
      "image/png": "[encoded data removed]",
      "text/plain": [
       "<Figure size 432x288 with 1 Axes>"
      ]
     },
     "metadata": {
      "needs_background": "light"
     },
     "output_type": "display_data"
    }
   ],
   "source": [
    "sns.countplot(x = 'Cabin',data = df)"
   ]
  },
  {
   "cell_type": "code",
   "execution_count": 9,
   "id": "20139a4a",
   "metadata": {},
   "outputs": [
    {
     "data": {
      "text/plain": [
       "<AxesSubplot:xlabel='Pclass', ylabel='count'>"
      ]
     },
     "execution_count": 9,
     "metadata": {},
     "output_type": "execute_result"
    },
    {
     "data": {
      "image/png": "[encoded data removed]",
      "text/plain": [
       "<Figure size 432x288 with 1 Axes>"
      ]
     },
     "metadata": {
      "needs_background": "light"
     },
     "output_type": "display_data"
    }
   ],
   "source": [
    "sns.countplot(x = 'Pclass',data = df)"
   ]
  },
  {
   "cell_type": "code",
   "execution_count": 10,
   "id": "1d793f75",
   "metadata": {},
   "outputs": [
    {
     "data": {
      "text/plain": [
       "<AxesSubplot:xlabel='Sex', ylabel='count'>"
      ]
     },
     "execution_count": 10,
     "metadata": {},
     "output_type": "execute_result"
    },
    {
     "data": {
      "image/png": "[encoded data removed]",
      "text/plain": [
       "<Figure size 432x288 with 1 Axes>"
      ]
     },
     "metadata": {
      "needs_background": "light"
     },
     "output_type": "display_data"
    }
   ],
   "source": [
    "sns.countplot(x = 'Sex',data = df)"
   ]
  },
  {
   "cell_type": "code",
   "execution_count": 11,
   "id": "2f00ed46",
   "metadata": {},
   "outputs": [
    {
     "data": {
      "text/plain": [
       "<AxesSubplot:xlabel='Survived', ylabel='count'>"
      ]
     },
     "execution_count": 11,
     "metadata": {},
     "output_type": "execute_result"
    },
    {
     "data": {
      "image/png": "[encoded data removed]",
      "text/plain": [
       "<Figure size 432x288 with 1 Axes>"
      ]
     },
     "metadata": {
      "needs_background": "light"
     },
     "output_type": "display_data"
    }
   ],
   "source": [
    "sns.countplot(x = 'Survived',data = df)"
   ]
  },
  {
   "cell_type": "code",
   "execution_count": 12,
   "id": "9335ec97",
   "metadata": {},
   "outputs": [
    {
     "data": {
      "text/plain": [
       "<AxesSubplot:xlabel='Embarked', ylabel='count'>"
      ]
     },
     "execution_count": 12,
     "metadata": {},
     "output_type": "execute_result"
    },
    {
     "data": {
      "image/png": "[encoded data removed]",
      "text/plain": [
       "<Figure size 432x288 with 1 Axes>"
      ]
     },
     "metadata": {
      "needs_background": "light"
     },
     "output_type": "display_data"
    }
   ],
   "source": [
    "sns.countplot(x = 'Embarked',data = df)"
   ]
  },
  {
   "cell_type": "code",
   "execution_count": 13,
   "id": "483b6041",
   "metadata": {},
   "outputs": [
    {
     "data": {
      "text/plain": [
       "<AxesSubplot:xlabel='Parch', ylabel='count'>"
      ]
     },
     "execution_count": 13,
     "metadata": {},
     "output_type": "execute_result"
    },
    {
     "data": {
      "image/png": "[encoded data removed]",
      "text/plain": [
       "<Figure size 432x288 with 1 Axes>"
      ]
     },
     "metadata": {
      "needs_background": "light"
     },
     "output_type": "display_data"
    }
   ],
   "source": [
    "sns.countplot(x = 'Parch',data = df)"
   ]
  },
  {
   "cell_type": "code",
   "execution_count": 14,
   "id": "ae1f42a8",
   "metadata": {},
   "outputs": [
    {
     "data": {
      "text/plain": [
       "<AxesSubplot:xlabel='SibSp', ylabel='count'>"
      ]
     },
     "execution_count": 14,
     "metadata": {},
     "output_type": "execute_result"
    },
    {
     "data": {
      "image/png": "[encoded data removed]",
      "text/plain": [
       "<Figure size 432x288 with 1 Axes>"
      ]
     },
     "metadata": {
      "needs_background": "light"
     },
     "output_type": "display_data"
    }
   ],
   "source": [
    "sns.countplot(x = 'SibSp',data = df)"
   ]
  },
  {
   "cell_type": "code",
   "execution_count": 14,
   "id": "d6948fe5",
   "metadata": {},
   "outputs": [
    {
     "data": {
      "text/plain": [
       "{'whiskers': [<matplotlib.lines.Line2D at 0x2d9df88f430>,\n",
       "  <matplotlib.lines.Line2D at 0x2d9df88f700>],\n",
       " 'caps': [<matplotlib.lines.Line2D at 0x2d9df88fa90>,\n",
       "  <matplotlib.lines.Line2D at 0x2d9df88fe20>],\n",
       " 'boxes': [<matplotlib.lines.Line2D at 0x2d9df88f100>],\n",
       " 'medians': [<matplotlib.lines.Line2D at 0x2d9df89d1f0>],\n",
       " 'fliers': [<matplotlib.lines.Line2D at 0x2d9df89d580>],\n",
       " 'means': []}"
      ]
     },
     "execution_count": 14,
     "metadata": {},
     "output_type": "execute_result"
    },
    {
     "data": {
      "image/png": "[encoded data removed]",
      "text/plain": [
       "<Figure size 432x288 with 1 Axes>"
      ]
     },
     "metadata": {
      "needs_background": "light"
     },
     "output_type": "display_data"
    }
   ],
   "source": [
    "plt.boxplot(x = 'Fare', data = df)"
   ]
  },
  {
   "cell_type": "markdown",
   "id": "1e37c12c",
   "metadata": {},
   "source": [
    "# Cabin 결측치를 처리 "
   ]
  },
  {
   "cell_type": "code",
   "execution_count": 16,
   "id": "d59ea2f0",
   "metadata": {},
   "outputs": [
    {
     "data": {
      "text/plain": [
       "array([nan, 'C85', 'C123', 'E46', 'G6', 'C103', 'D56', 'A6',\n",
       "       'C23 C25 C27', 'B78', 'D33', 'B30', 'C52', 'B28', 'C83', 'F33',\n",
       "       'F G73', 'E31', 'A5', 'D10 D12', 'D26', 'C110', 'B58 B60', 'E101',\n",
       "       'F E69', 'D47', 'B86', 'F2', 'C2', 'E33', 'B19', 'A7', 'C49', 'F4',\n",
       "       'A32', 'B4', 'B80', 'A31', 'D36', 'D15', 'C93', 'C78', 'D35',\n",
       "       'C87', 'B77', 'E67', 'B94', 'C125', 'C99', 'C118', 'D7', 'A19',\n",
       "       'B49', 'D', 'C22 C26', 'C106', 'C65', 'E36', 'C54',\n",
       "       'B57 B59 B63 B66', 'C7', 'E34', 'C32', 'B18', 'C124', 'C91', 'E40',\n",
       "       'T', 'C128', 'D37', 'B35', 'E50', 'C82', 'B96 B98', 'E10', 'E44',\n",
       "       'A34', 'C104', 'C111', 'C92', 'E38', 'D21', 'E12', 'E63', 'A14',\n",
       "       'B37', 'C30', 'D20', 'B79', 'E25', 'D46', 'B73', 'C95', 'B38',\n",
       "       'B39', 'B22', 'C86', 'C70', 'A16', 'C101', 'C68', 'A10', 'E68',\n",
       "       'B41', 'A20', 'D19', 'D50', 'D9', 'A23', 'B50', 'A26', 'D48',\n",
       "       'E58', 'C126', 'B71', 'B51 B53 B55', 'D49', 'B5', 'B20', 'F G63',\n",
       "       'C62 C64', 'E24', 'C90', 'C45', 'E8', 'B101', 'D45', 'C46', 'D30',\n",
       "       'E121', 'D11', 'E77', 'F38', 'B3', 'D6', 'B82 B84', 'D17', 'A36',\n",
       "       'B102', 'B69', 'E49', 'C47', 'D28', 'E17', 'A24', 'C50', 'B42',\n",
       "       'C148'], dtype=object)"
      ]
     },
     "execution_count": 16,
     "metadata": {},
     "output_type": "execute_result"
    }
   ],
   "source": [
    "df['Cabin'].unique()"
   ]
  },
  {
   "cell_type": "markdown",
   "id": "df425b61",
   "metadata": {},
   "source": [
    "Cabin의 결츨치에 어떤 값을 넣을까 고민하기 위해 중복이 되지 않는 값을 보기 위해 unique()를 사용"
   ]
  },
  {
   "cell_type": "code",
   "execution_count": 17,
   "id": "8b848fc2",
   "metadata": {
    "scrolled": true
   },
   "outputs": [
    {
     "data": {
      "text/html": [
       "<div>\n",
       "<style scoped>\n",
       "    .dataframe tbody tr th:only-of-type {\n",
       "        vertical-align: middle;\n",
       "    }\n",
       "\n",
       "    .dataframe tbody tr th {\n",
       "        vertical-align: top;\n",
       "    }\n",
       "\n",
       "    .dataframe thead th {\n",
       "        text-align: right;\n",
       "    }\n",
       "</style>\n",
       "<table border=\"1\" class=\"dataframe\">\n",
       "  <thead>\n",
       "    <tr style=\"text-align: right;\">\n",
       "      <th></th>\n",
       "      <th>PassengerId</th>\n",
       "      <th>Survived</th>\n",
       "      <th>Pclass</th>\n",
       "      <th>Name</th>\n",
       "      <th>Sex</th>\n",
       "      <th>Age</th>\n",
       "      <th>SibSp</th>\n",
       "      <th>Parch</th>\n",
       "      <th>Ticket</th>\n",
       "      <th>Fare</th>\n",
       "      <th>Cabin</th>\n",
       "      <th>Embarked</th>\n",
       "    </tr>\n",
       "  </thead>\n",
       "  <tbody>\n",
       "    <tr>\n",
       "      <th>5</th>\n",
       "      <td>6</td>\n",
       "      <td>0</td>\n",
       "      <td>3</td>\n",
       "      <td>Moran, Mr. James</td>\n",
       "      <td>male</td>\n",
       "      <td>NaN</td>\n",
       "      <td>0</td>\n",
       "      <td>0</td>\n",
       "      <td>330877</td>\n",
       "      <td>8.4583</td>\n",
       "      <td>NaN</td>\n",
       "      <td>Q</td>\n",
       "    </tr>\n",
       "    <tr>\n",
       "      <th>17</th>\n",
       "      <td>18</td>\n",
       "      <td>1</td>\n",
       "      <td>2</td>\n",
       "      <td>Williams, Mr. Charles Eugene</td>\n",
       "      <td>male</td>\n",
       "      <td>NaN</td>\n",
       "      <td>0</td>\n",
       "      <td>0</td>\n",
       "      <td>244373</td>\n",
       "      <td>13.0000</td>\n",
       "      <td>NaN</td>\n",
       "      <td>S</td>\n",
       "    </tr>\n",
       "    <tr>\n",
       "      <th>19</th>\n",
       "      <td>20</td>\n",
       "      <td>1</td>\n",
       "      <td>3</td>\n",
       "      <td>Masselmani, Mrs. Fatima</td>\n",
       "      <td>female</td>\n",
       "      <td>NaN</td>\n",
       "      <td>0</td>\n",
       "      <td>0</td>\n",
       "      <td>2649</td>\n",
       "      <td>7.2250</td>\n",
       "      <td>NaN</td>\n",
       "      <td>C</td>\n",
       "    </tr>\n",
       "    <tr>\n",
       "      <th>26</th>\n",
       "      <td>27</td>\n",
       "      <td>0</td>\n",
       "      <td>3</td>\n",
       "      <td>Emir, Mr. Farred Chehab</td>\n",
       "      <td>male</td>\n",
       "      <td>NaN</td>\n",
       "      <td>0</td>\n",
       "      <td>0</td>\n",
       "      <td>2631</td>\n",
       "      <td>7.2250</td>\n",
       "      <td>NaN</td>\n",
       "      <td>C</td>\n",
       "    </tr>\n",
       "    <tr>\n",
       "      <th>28</th>\n",
       "      <td>29</td>\n",
       "      <td>1</td>\n",
       "      <td>3</td>\n",
       "      <td>O'Dwyer, Miss. Ellen \"Nellie\"</td>\n",
       "      <td>female</td>\n",
       "      <td>NaN</td>\n",
       "      <td>0</td>\n",
       "      <td>0</td>\n",
       "      <td>330959</td>\n",
       "      <td>7.8792</td>\n",
       "      <td>NaN</td>\n",
       "      <td>Q</td>\n",
       "    </tr>\n",
       "    <tr>\n",
       "      <th>...</th>\n",
       "      <td>...</td>\n",
       "      <td>...</td>\n",
       "      <td>...</td>\n",
       "      <td>...</td>\n",
       "      <td>...</td>\n",
       "      <td>...</td>\n",
       "      <td>...</td>\n",
       "      <td>...</td>\n",
       "      <td>...</td>\n",
       "      <td>...</td>\n",
       "      <td>...</td>\n",
       "      <td>...</td>\n",
       "    </tr>\n",
       "    <tr>\n",
       "      <th>859</th>\n",
       "      <td>860</td>\n",
       "      <td>0</td>\n",
       "      <td>3</td>\n",
       "      <td>Razi, Mr. Raihed</td>\n",
       "      <td>male</td>\n",
       "      <td>NaN</td>\n",
       "      <td>0</td>\n",
       "      <td>0</td>\n",
       "      <td>2629</td>\n",
       "      <td>7.2292</td>\n",
       "      <td>NaN</td>\n",
       "      <td>C</td>\n",
       "    </tr>\n",
       "    <tr>\n",
       "      <th>863</th>\n",
       "      <td>864</td>\n",
       "      <td>0</td>\n",
       "      <td>3</td>\n",
       "      <td>Sage, Miss. Dorothy Edith \"Dolly\"</td>\n",
       "      <td>female</td>\n",
       "      <td>NaN</td>\n",
       "      <td>8</td>\n",
       "      <td>2</td>\n",
       "      <td>CA. 2343</td>\n",
       "      <td>69.5500</td>\n",
       "      <td>NaN</td>\n",
       "      <td>S</td>\n",
       "    </tr>\n",
       "    <tr>\n",
       "      <th>868</th>\n",
       "      <td>869</td>\n",
       "      <td>0</td>\n",
       "      <td>3</td>\n",
       "      <td>van Melkebeke, Mr. Philemon</td>\n",
       "      <td>male</td>\n",
       "      <td>NaN</td>\n",
       "      <td>0</td>\n",
       "      <td>0</td>\n",
       "      <td>345777</td>\n",
       "      <td>9.5000</td>\n",
       "      <td>NaN</td>\n",
       "      <td>S</td>\n",
       "    </tr>\n",
       "    <tr>\n",
       "      <th>878</th>\n",
       "      <td>879</td>\n",
       "      <td>0</td>\n",
       "      <td>3</td>\n",
       "      <td>Laleff, Mr. Kristo</td>\n",
       "      <td>male</td>\n",
       "      <td>NaN</td>\n",
       "      <td>0</td>\n",
       "      <td>0</td>\n",
       "      <td>349217</td>\n",
       "      <td>7.8958</td>\n",
       "      <td>NaN</td>\n",
       "      <td>S</td>\n",
       "    </tr>\n",
       "    <tr>\n",
       "      <th>888</th>\n",
       "      <td>889</td>\n",
       "      <td>0</td>\n",
       "      <td>3</td>\n",
       "      <td>Johnston, Miss. Catherine Helen \"Carrie\"</td>\n",
       "      <td>female</td>\n",
       "      <td>NaN</td>\n",
       "      <td>1</td>\n",
       "      <td>2</td>\n",
       "      <td>W./C. 6607</td>\n",
       "      <td>23.4500</td>\n",
       "      <td>NaN</td>\n",
       "      <td>S</td>\n",
       "    </tr>\n",
       "  </tbody>\n",
       "</table>\n",
       "<p>158 rows × 12 columns</p>\n",
       "</div>"
      ],
      "text/plain": [
       "     PassengerId  Survived  Pclass                                      Name  \\\n",
       "5              6         0       3                          Moran, Mr. James   \n",
       "17            18         1       2              Williams, Mr. Charles Eugene   \n",
       "19            20         1       3                   Masselmani, Mrs. Fatima   \n",
       "26            27         0       3                   Emir, Mr. Farred Chehab   \n",
       "28            29         1       3             O'Dwyer, Miss. Ellen \"Nellie\"   \n",
       "..           ...       ...     ...                                       ...   \n",
       "859          860         0       3                          Razi, Mr. Raihed   \n",
       "863          864         0       3         Sage, Miss. Dorothy Edith \"Dolly\"   \n",
       "868          869         0       3               van Melkebeke, Mr. Philemon   \n",
       "878          879         0       3                        Laleff, Mr. Kristo   \n",
       "888          889         0       3  Johnston, Miss. Catherine Helen \"Carrie\"   \n",
       "\n",
       "        Sex  Age  SibSp  Parch      Ticket     Fare Cabin Embarked  \n",
       "5      male  NaN      0      0      330877   8.4583   NaN        Q  \n",
       "17     male  NaN      0      0      244373  13.0000   NaN        S  \n",
       "19   female  NaN      0      0        2649   7.2250   NaN        C  \n",
       "26     male  NaN      0      0        2631   7.2250   NaN        C  \n",
       "28   female  NaN      0      0      330959   7.8792   NaN        Q  \n",
       "..      ...  ...    ...    ...         ...      ...   ...      ...  \n",
       "859    male  NaN      0      0        2629   7.2292   NaN        C  \n",
       "863  female  NaN      8      2    CA. 2343  69.5500   NaN        S  \n",
       "868    male  NaN      0      0      345777   9.5000   NaN        S  \n",
       "878    male  NaN      0      0      349217   7.8958   NaN        S  \n",
       "888  female  NaN      1      2  W./C. 6607  23.4500   NaN        S  \n",
       "\n",
       "[158 rows x 12 columns]"
      ]
     },
     "execution_count": 17,
     "metadata": {},
     "output_type": "execute_result"
    }
   ],
   "source": [
    "df[df['Age'].isnull() &df['Cabin'].isnull()]  # 177개중 158개가 cabin이 null "
   ]
  },
  {
   "cell_type": "markdown",
   "id": "23ea645c",
   "metadata": {},
   "source": [
    "Age와 Cabin이 중복적으로 결측치가 존재하는지 확인 "
   ]
  },
  {
   "cell_type": "markdown",
   "id": "d4a0865b",
   "metadata": {},
   "source": [
    "Cabin은 객실인데 객실은 돈,ticket,pclass 에 대해서 확인을 하였음 ticket은 너무 복잡했고 돈은 관련이 없었음 그래서 PCLASS 별로 확인"
   ]
  },
  {
   "cell_type": "code",
   "execution_count": 18,
   "id": "35e4f5e7",
   "metadata": {},
   "outputs": [],
   "source": [
    "df1 = df[['Pclass','Cabin']]"
   ]
  },
  {
   "cell_type": "code",
   "execution_count": 19,
   "id": "8a4afe3d",
   "metadata": {},
   "outputs": [
    {
     "data": {
      "text/plain": [
       "Pclass      0\n",
       "Cabin     479\n",
       "dtype: int64"
      ]
     },
     "execution_count": 19,
     "metadata": {},
     "output_type": "execute_result"
    }
   ],
   "source": [
    "df1[df1['Pclass'] == 3].isnull().sum()   #1은 nan 40 2 nan 168  3  479"
   ]
  },
  {
   "cell_type": "markdown",
   "id": "cbf92764",
   "metadata": {},
   "source": [
    "Pclass 별로 Cabin의 결측치를 확인 "
   ]
  },
  {
   "cell_type": "code",
   "execution_count": 20,
   "id": "be73060f",
   "metadata": {},
   "outputs": [
    {
     "data": {
      "text/plain": [
       "array(['C85', 'C123', 'E46', 'C103', 'A6', 'C23 C25 C27', nan, 'B78',\n",
       "       'D33', 'B30', 'C52', 'B28', 'C83', 'E31', 'A5', 'D10 D12', 'D26',\n",
       "       'C110', 'B58 B60', 'D47', 'B86', 'C2', 'E33', 'B19', 'A7', 'C49',\n",
       "       'A32', 'B4', 'B80', 'A31', 'D36', 'D15', 'C93', 'C78', 'D35',\n",
       "       'C87', 'B77', 'E67', 'B94', 'C125', 'C99', 'C118', 'D7', 'A19',\n",
       "       'B49', 'C22 C26', 'C106', 'C65', 'E36', 'C54', 'B57 B59 B63 B66',\n",
       "       'C7', 'E34', 'C32', 'B18', 'C124', 'C91', 'E40', 'T', 'C128',\n",
       "       'D37', 'B35', 'E50', 'C82', 'B96 B98', 'E44', 'A34', 'C104',\n",
       "       'C111', 'C92', 'E38', 'D21', 'E12', 'E63', 'A14', 'B37', 'C30',\n",
       "       'D20', 'B79', 'E25', 'D46', 'B73', 'C95', 'B38', 'B39', 'B22',\n",
       "       'C86', 'C70', 'A16', 'C101', 'C68', 'A10', 'E68', 'B41', 'A20',\n",
       "       'D19', 'D50', 'D9', 'A23', 'B50', 'A26', 'D48', 'E58', 'C126',\n",
       "       'B71', 'B51 B53 B55', 'D49', 'B5', 'B20', 'C62 C64', 'E24', 'C90',\n",
       "       'C45', 'E8', 'B101', 'D45', 'C46', 'D30', 'D11', 'B3', 'D6',\n",
       "       'B82 B84', 'D17', 'A36', 'B102', 'B69', 'E49', 'C47', 'D28', 'E17',\n",
       "       'A24', 'C50', 'B42', 'C148'], dtype=object)"
      ]
     },
     "execution_count": 20,
     "metadata": {},
     "output_type": "execute_result"
    }
   ],
   "source": [
    "df1[df1['Pclass'] ==1]['Cabin'].unique() # 2: D56', 'F33', 'E101', 'F2', 'F4', 'D', 'E77\n",
    "                                         # 3 : 'G6', 'F G73', 'F E69', 'E10', 'F G63', 'E121', 'F38'"
   ]
  },
  {
   "cell_type": "markdown",
   "id": "7d8adc29",
   "metadata": {},
   "source": [
    "pclass 별로 Cabin의 값을 확인하였음 1은 정말 많이 나와서 2,3을 확인 하였는데 \n",
    "중복이 되는게 없었음 "
   ]
  },
  {
   "cell_type": "code",
   "execution_count": 21,
   "id": "0154caf5",
   "metadata": {},
   "outputs": [
    {
     "name": "stdout",
     "output_type": "stream",
     "text": [
      "    Pclass Cabin\n",
      "21       2   D56\n",
      "     Pclass Cabin\n",
      "66        2   F33\n",
      "345       2   F33\n",
      "516       2   F33\n",
      "     Pclass Cabin\n",
      "123       2  E101\n",
      "303       2  E101\n",
      "717       2  E101\n",
      "     Pclass Cabin\n",
      "148       2    F2\n",
      "193       2    F2\n",
      "340       2    F2\n",
      "     Pclass Cabin\n",
      "183       2    F4\n",
      "618       2    F4\n",
      "     Pclass Cabin\n",
      "292       2     D\n",
      "327       2     D\n",
      "473       2     D\n",
      "     Pclass Cabin\n",
      "772       2   E77\n"
     ]
    }
   ],
   "source": [
    "for i in ['D56', 'F33', 'E101', 'F2', 'F4', 'D', 'E77']:\n",
    "    df2 = df1[df1['Cabin']== i]\n",
    "    print(df2)     # 2와 3이 1이랑은 중복이 없다 ."
   ]
  },
  {
   "cell_type": "markdown",
   "id": "6ef37418",
   "metadata": {},
   "source": [
    "혹시나 눈대중으로 해서 확인이 되지 않았을까 싶어서 반복문을 이용하여 중복이 되는지 안 되는지 확인 \n",
    "결과 : 중복 X"
   ]
  },
  {
   "cell_type": "markdown",
   "id": "8f83fe4a",
   "metadata": {},
   "source": [
    "이번에는 Age의 결측치를 채우는 과정 나이를 기준을 정할 수 있는게 무엇일까 싶어서 영어 앞에 붙는 MR,MRS,Miss 를 별로 나누기로 했음"
   ]
  },
  {
   "cell_type": "markdown",
   "id": "d1f1f8e6",
   "metadata": {},
   "source": [
    "# Age 결측치 처리"
   ]
  },
  {
   "cell_type": "code",
   "execution_count": 22,
   "id": "23032a43",
   "metadata": {},
   "outputs": [],
   "source": [
    "Mrage = df[df['Name'].str.contains('Mr',case = False)] "
   ]
  },
  {
   "cell_type": "code",
   "execution_count": 23,
   "id": "c7771b64",
   "metadata": {},
   "outputs": [],
   "source": [
    "# Mr라고 쓰여져 있는 값들을 불러왔음 "
   ]
  },
  {
   "cell_type": "code",
   "execution_count": 24,
   "id": "2fbb12bf",
   "metadata": {},
   "outputs": [],
   "source": [
    "# 문제 발생  Mr만 포함한 값들을 불러올려고 했는데 Mrs 값까지 불러오게 됨"
   ]
  },
  {
   "cell_type": "code",
   "execution_count": 25,
   "id": "22aa7c0d",
   "metadata": {
    "scrolled": true
   },
   "outputs": [
    {
     "name": "stderr",
     "output_type": "stream",
     "text": [
      "C:\\ProgramData\\Anaconda3\\lib\\site-packages\\pandas\\core\\frame.py:4906: SettingWithCopyWarning: \n",
      "A value is trying to be set on a copy of a slice from a DataFrame\n",
      "\n",
      "See the caveats in the documentation: https://pandas.pydata.org/pandas-docs/stable/user_guide/indexing.html#returning-a-view-versus-a-copy\n",
      "  return super().drop(\n"
     ]
    }
   ],
   "source": [
    "mrsaind = Mrage[Mrage['Name'].str.contains('Mrs')].index\n",
    "Mrage.drop(mrsaind,inplace = True)"
   ]
  },
  {
   "cell_type": "code",
   "execution_count": 26,
   "id": "e8613c34",
   "metadata": {},
   "outputs": [],
   "source": [
    "# Mrs라는 값을 포함한 값의 index를 따로 뽑아서 Mr의 값에서 빼 주었음"
   ]
  },
  {
   "cell_type": "code",
   "execution_count": 27,
   "id": "92ebd8f3",
   "metadata": {},
   "outputs": [
    {
     "data": {
      "text/plain": [
       "array(['male'], dtype=object)"
      ]
     },
     "execution_count": 27,
     "metadata": {},
     "output_type": "execute_result"
    }
   ],
   "source": [
    "Mrage['Sex'].unique()"
   ]
  },
  {
   "cell_type": "code",
   "execution_count": 28,
   "id": "8414e9c4",
   "metadata": {},
   "outputs": [],
   "source": [
    "# 그래서 오로지 남자 밖에 안 남게 되었고 "
   ]
  },
  {
   "cell_type": "code",
   "execution_count": 29,
   "id": "c97e0f06",
   "metadata": {},
   "outputs": [
    {
     "data": {
      "text/plain": [
       "119"
      ]
     },
     "execution_count": 29,
     "metadata": {},
     "output_type": "execute_result"
    }
   ],
   "source": [
    "Mrage['Age'].isnull().sum()"
   ]
  },
  {
   "cell_type": "code",
   "execution_count": 30,
   "id": "b3305641",
   "metadata": {},
   "outputs": [],
   "source": [
    "#이름에 MR인 사람들에서 결측치가 있는 값을 확인"
   ]
  },
  {
   "cell_type": "code",
   "execution_count": 31,
   "id": "16e42cc9",
   "metadata": {},
   "outputs": [],
   "source": [
    "# Miss 가 적힌 값들을 확인"
   ]
  },
  {
   "cell_type": "code",
   "execution_count": 32,
   "id": "6ac33980",
   "metadata": {},
   "outputs": [],
   "source": [
    "Missage = df[df['Name'].str.contains('Miss')]"
   ]
  },
  {
   "cell_type": "code",
   "execution_count": 33,
   "id": "b275070b",
   "metadata": {
    "scrolled": true
   },
   "outputs": [
    {
     "data": {
      "text/plain": [
       "PassengerId      0\n",
       "Survived         0\n",
       "Pclass           0\n",
       "Name             0\n",
       "Sex              0\n",
       "Age             36\n",
       "SibSp            0\n",
       "Parch            0\n",
       "Ticket           0\n",
       "Fare             0\n",
       "Cabin          135\n",
       "Embarked         1\n",
       "dtype: int64"
      ]
     },
     "execution_count": 33,
     "metadata": {},
     "output_type": "execute_result"
    }
   ],
   "source": [
    "Missage.isnull().sum()"
   ]
  },
  {
   "cell_type": "code",
   "execution_count": 34,
   "id": "ebf753bc",
   "metadata": {},
   "outputs": [],
   "source": [
    "Mrsage = df[df['Name'].str.contains('Mrs')]"
   ]
  },
  {
   "cell_type": "code",
   "execution_count": 35,
   "id": "774fa776",
   "metadata": {},
   "outputs": [
    {
     "data": {
      "text/plain": [
       "17"
      ]
     },
     "execution_count": 35,
     "metadata": {},
     "output_type": "execute_result"
    }
   ],
   "source": [
    "Mrsage['Age'].isnull().sum()"
   ]
  },
  {
   "cell_type": "code",
   "execution_count": 36,
   "id": "8210e0e3",
   "metadata": {},
   "outputs": [],
   "source": [
    "from scipy.stats import mode"
   ]
  },
  {
   "cell_type": "code",
   "execution_count": 37,
   "id": "7cb8b4dc",
   "metadata": {},
   "outputs": [
    {
     "data": {
      "text/plain": [
       "array([38., 35., 27., 14., 55., 31., nan, 40., 18., 49., 29., 33., 34.,\n",
       "       47., 24., 22., 45., 32., 44., 41., 50., 58., 19., 17., 26., 36.,\n",
       "       60., 28., 42., 23., 63., 25., 54., 48., 39., 53., 52., 43., 30.,\n",
       "       51., 57., 62., 15., 56.])"
      ]
     },
     "execution_count": 37,
     "metadata": {},
     "output_type": "execute_result"
    }
   ],
   "source": [
    "Mrsage['Age'].unique()"
   ]
  },
  {
   "cell_type": "code",
   "execution_count": 38,
   "id": "5bba0165",
   "metadata": {},
   "outputs": [],
   "source": [
    "# 문제 발생 총 177개 중 ( 17+119+36)  = 172 (?) : 5개 손실  == MR Miss MRS 제외한 값들이 존재하구나 "
   ]
  },
  {
   "cell_type": "code",
   "execution_count": 39,
   "id": "85d62c44",
   "metadata": {},
   "outputs": [],
   "source": [
    "other =ageother = df[df['Name'].str.contains('Mrs')| df['Name'].str.contains('Mr')|df['Name'].str.contains('Miss') == False]"
   ]
  },
  {
   "cell_type": "code",
   "execution_count": 40,
   "id": "5170709b",
   "metadata": {},
   "outputs": [],
   "source": [
    "# Mr값과 Mrs,Miss 값을 제외한 값을 확인 "
   ]
  },
  {
   "cell_type": "code",
   "execution_count": 41,
   "id": "e3c7e05c",
   "metadata": {},
   "outputs": [
    {
     "data": {
      "text/html": [
       "<div>\n",
       "<style scoped>\n",
       "    .dataframe tbody tr th:only-of-type {\n",
       "        vertical-align: middle;\n",
       "    }\n",
       "\n",
       "    .dataframe tbody tr th {\n",
       "        vertical-align: top;\n",
       "    }\n",
       "\n",
       "    .dataframe thead th {\n",
       "        text-align: right;\n",
       "    }\n",
       "</style>\n",
       "<table border=\"1\" class=\"dataframe\">\n",
       "  <thead>\n",
       "    <tr style=\"text-align: right;\">\n",
       "      <th></th>\n",
       "      <th>PassengerId</th>\n",
       "      <th>Survived</th>\n",
       "      <th>Pclass</th>\n",
       "      <th>Name</th>\n",
       "      <th>Sex</th>\n",
       "      <th>Age</th>\n",
       "      <th>SibSp</th>\n",
       "      <th>Parch</th>\n",
       "      <th>Ticket</th>\n",
       "      <th>Fare</th>\n",
       "      <th>Cabin</th>\n",
       "      <th>Embarked</th>\n",
       "    </tr>\n",
       "  </thead>\n",
       "  <tbody>\n",
       "    <tr>\n",
       "      <th>7</th>\n",
       "      <td>8</td>\n",
       "      <td>0</td>\n",
       "      <td>3</td>\n",
       "      <td>Palsson, Master. Gosta Leonard</td>\n",
       "      <td>male</td>\n",
       "      <td>2.00</td>\n",
       "      <td>3</td>\n",
       "      <td>1</td>\n",
       "      <td>349909</td>\n",
       "      <td>21.0750</td>\n",
       "      <td>NaN</td>\n",
       "      <td>S</td>\n",
       "    </tr>\n",
       "    <tr>\n",
       "      <th>16</th>\n",
       "      <td>17</td>\n",
       "      <td>0</td>\n",
       "      <td>3</td>\n",
       "      <td>Rice, Master. Eugene</td>\n",
       "      <td>male</td>\n",
       "      <td>2.00</td>\n",
       "      <td>4</td>\n",
       "      <td>1</td>\n",
       "      <td>382652</td>\n",
       "      <td>29.1250</td>\n",
       "      <td>NaN</td>\n",
       "      <td>Q</td>\n",
       "    </tr>\n",
       "    <tr>\n",
       "      <th>30</th>\n",
       "      <td>31</td>\n",
       "      <td>0</td>\n",
       "      <td>1</td>\n",
       "      <td>Uruchurtu, Don. Manuel E</td>\n",
       "      <td>male</td>\n",
       "      <td>40.00</td>\n",
       "      <td>0</td>\n",
       "      <td>0</td>\n",
       "      <td>PC 17601</td>\n",
       "      <td>27.7208</td>\n",
       "      <td>NaN</td>\n",
       "      <td>C</td>\n",
       "    </tr>\n",
       "    <tr>\n",
       "      <th>50</th>\n",
       "      <td>51</td>\n",
       "      <td>0</td>\n",
       "      <td>3</td>\n",
       "      <td>Panula, Master. Juha Niilo</td>\n",
       "      <td>male</td>\n",
       "      <td>7.00</td>\n",
       "      <td>4</td>\n",
       "      <td>1</td>\n",
       "      <td>3101295</td>\n",
       "      <td>39.6875</td>\n",
       "      <td>NaN</td>\n",
       "      <td>S</td>\n",
       "    </tr>\n",
       "    <tr>\n",
       "      <th>59</th>\n",
       "      <td>60</td>\n",
       "      <td>0</td>\n",
       "      <td>3</td>\n",
       "      <td>Goodwin, Master. William Frederick</td>\n",
       "      <td>male</td>\n",
       "      <td>11.00</td>\n",
       "      <td>5</td>\n",
       "      <td>2</td>\n",
       "      <td>CA 2144</td>\n",
       "      <td>46.9000</td>\n",
       "      <td>NaN</td>\n",
       "      <td>S</td>\n",
       "    </tr>\n",
       "    <tr>\n",
       "      <th>...</th>\n",
       "      <td>...</td>\n",
       "      <td>...</td>\n",
       "      <td>...</td>\n",
       "      <td>...</td>\n",
       "      <td>...</td>\n",
       "      <td>...</td>\n",
       "      <td>...</td>\n",
       "      <td>...</td>\n",
       "      <td>...</td>\n",
       "      <td>...</td>\n",
       "      <td>...</td>\n",
       "      <td>...</td>\n",
       "    </tr>\n",
       "    <tr>\n",
       "      <th>831</th>\n",
       "      <td>832</td>\n",
       "      <td>1</td>\n",
       "      <td>2</td>\n",
       "      <td>Richards, Master. George Sibley</td>\n",
       "      <td>male</td>\n",
       "      <td>0.83</td>\n",
       "      <td>1</td>\n",
       "      <td>1</td>\n",
       "      <td>29106</td>\n",
       "      <td>18.7500</td>\n",
       "      <td>NaN</td>\n",
       "      <td>S</td>\n",
       "    </tr>\n",
       "    <tr>\n",
       "      <th>848</th>\n",
       "      <td>849</td>\n",
       "      <td>0</td>\n",
       "      <td>2</td>\n",
       "      <td>Harper, Rev. John</td>\n",
       "      <td>male</td>\n",
       "      <td>28.00</td>\n",
       "      <td>0</td>\n",
       "      <td>1</td>\n",
       "      <td>248727</td>\n",
       "      <td>33.0000</td>\n",
       "      <td>NaN</td>\n",
       "      <td>S</td>\n",
       "    </tr>\n",
       "    <tr>\n",
       "      <th>850</th>\n",
       "      <td>851</td>\n",
       "      <td>0</td>\n",
       "      <td>3</td>\n",
       "      <td>Andersson, Master. Sigvard Harald Elias</td>\n",
       "      <td>male</td>\n",
       "      <td>4.00</td>\n",
       "      <td>4</td>\n",
       "      <td>2</td>\n",
       "      <td>347082</td>\n",
       "      <td>31.2750</td>\n",
       "      <td>NaN</td>\n",
       "      <td>S</td>\n",
       "    </tr>\n",
       "    <tr>\n",
       "      <th>869</th>\n",
       "      <td>870</td>\n",
       "      <td>1</td>\n",
       "      <td>3</td>\n",
       "      <td>Johnson, Master. Harold Theodor</td>\n",
       "      <td>male</td>\n",
       "      <td>4.00</td>\n",
       "      <td>1</td>\n",
       "      <td>1</td>\n",
       "      <td>347742</td>\n",
       "      <td>11.1333</td>\n",
       "      <td>NaN</td>\n",
       "      <td>S</td>\n",
       "    </tr>\n",
       "    <tr>\n",
       "      <th>886</th>\n",
       "      <td>887</td>\n",
       "      <td>0</td>\n",
       "      <td>2</td>\n",
       "      <td>Montvila, Rev. Juozas</td>\n",
       "      <td>male</td>\n",
       "      <td>27.00</td>\n",
       "      <td>0</td>\n",
       "      <td>0</td>\n",
       "      <td>211536</td>\n",
       "      <td>13.0000</td>\n",
       "      <td>NaN</td>\n",
       "      <td>S</td>\n",
       "    </tr>\n",
       "  </tbody>\n",
       "</table>\n",
       "<p>64 rows × 12 columns</p>\n",
       "</div>"
      ],
      "text/plain": [
       "     PassengerId  Survived  Pclass                                     Name  \\\n",
       "7              8         0       3           Palsson, Master. Gosta Leonard   \n",
       "16            17         0       3                     Rice, Master. Eugene   \n",
       "30            31         0       1                 Uruchurtu, Don. Manuel E   \n",
       "50            51         0       3               Panula, Master. Juha Niilo   \n",
       "59            60         0       3       Goodwin, Master. William Frederick   \n",
       "..           ...       ...     ...                                      ...   \n",
       "831          832         1       2          Richards, Master. George Sibley   \n",
       "848          849         0       2                        Harper, Rev. John   \n",
       "850          851         0       3  Andersson, Master. Sigvard Harald Elias   \n",
       "869          870         1       3          Johnson, Master. Harold Theodor   \n",
       "886          887         0       2                    Montvila, Rev. Juozas   \n",
       "\n",
       "      Sex    Age  SibSp  Parch    Ticket     Fare Cabin Embarked  \n",
       "7    male   2.00      3      1    349909  21.0750   NaN        S  \n",
       "16   male   2.00      4      1    382652  29.1250   NaN        Q  \n",
       "30   male  40.00      0      0  PC 17601  27.7208   NaN        C  \n",
       "50   male   7.00      4      1   3101295  39.6875   NaN        S  \n",
       "59   male  11.00      5      2   CA 2144  46.9000   NaN        S  \n",
       "..    ...    ...    ...    ...       ...      ...   ...      ...  \n",
       "831  male   0.83      1      1     29106  18.7500   NaN        S  \n",
       "848  male  28.00      0      1    248727  33.0000   NaN        S  \n",
       "850  male   4.00      4      2    347082  31.2750   NaN        S  \n",
       "869  male   4.00      1      1    347742  11.1333   NaN        S  \n",
       "886  male  27.00      0      0    211536  13.0000   NaN        S  \n",
       "\n",
       "[64 rows x 12 columns]"
      ]
     },
     "execution_count": 41,
     "metadata": {},
     "output_type": "execute_result"
    }
   ],
   "source": [
    "other"
   ]
  },
  {
   "cell_type": "code",
   "execution_count": 42,
   "id": "abfb84dd",
   "metadata": {},
   "outputs": [],
   "source": [
    "# 이름에 master가 있는게 있고 호칭을 나타내는 말이 없는 사람도 존재"
   ]
  },
  {
   "cell_type": "code",
   "execution_count": 43,
   "id": "64f48eb3",
   "metadata": {},
   "outputs": [
    {
     "data": {
      "text/plain": [
       "PassengerId     0\n",
       "Survived        0\n",
       "Pclass          0\n",
       "Name            0\n",
       "Sex             0\n",
       "Age             4\n",
       "SibSp           0\n",
       "Parch           0\n",
       "Ticket          0\n",
       "Fare            0\n",
       "Cabin          33\n",
       "Embarked        0\n",
       "dtype: int64"
      ]
     },
     "execution_count": 43,
     "metadata": {},
     "output_type": "execute_result"
    }
   ],
   "source": [
    "master = df[df['Name'].str.contains('Master')]\n",
    "master.isnull().sum()"
   ]
  },
  {
   "cell_type": "code",
   "execution_count": 44,
   "id": "7f6bcb29",
   "metadata": {},
   "outputs": [
    {
     "data": {
      "text/plain": [
       "array([ 2.  ,  7.  , 11.  ,  4.  ,   nan,  0.83, 12.  ,  1.  ,  9.  ,\n",
       "        3.  ,  0.92,  8.  ,  6.  ,  0.67,  0.42, 10.  ])"
      ]
     },
     "execution_count": 44,
     "metadata": {},
     "output_type": "execute_result"
    }
   ],
   "source": [
    "master['Age'].unique()"
   ]
  },
  {
   "cell_type": "code",
   "execution_count": 45,
   "id": "5114adab",
   "metadata": {},
   "outputs": [],
   "source": [
    "# master라는 이름을 가진 사람은 주로 아이들(후손)에게 쓰여진다는 것, 결측치는 4개라는 점 확인"
   ]
  },
  {
   "cell_type": "code",
   "execution_count": 46,
   "id": "88a81e4f",
   "metadata": {},
   "outputs": [],
   "source": [
    "ageother = df[df['Name'].str.contains('Mrs')| df['Name'].str.contains('Mr')|df['Name'].str.contains('Miss')|df['Name'].str.contains('Master') == False]"
   ]
  },
  {
   "cell_type": "code",
   "execution_count": 47,
   "id": "086f93f5",
   "metadata": {},
   "outputs": [],
   "source": [
    "# 앞에 있던 모든값들을 제외한 값을 뽑아냄 "
   ]
  },
  {
   "cell_type": "code",
   "execution_count": 48,
   "id": "322769e4",
   "metadata": {},
   "outputs": [
    {
     "data": {
      "text/plain": [
       "PassengerId     0\n",
       "Survived        0\n",
       "Pclass          0\n",
       "Name            0\n",
       "Sex             0\n",
       "Age             1\n",
       "SibSp           0\n",
       "Parch           0\n",
       "Ticket          0\n",
       "Fare            0\n",
       "Cabin          14\n",
       "Embarked        0\n",
       "dtype: int64"
      ]
     },
     "execution_count": 48,
     "metadata": {},
     "output_type": "execute_result"
    }
   ],
   "source": [
    "ageother.isnull().sum()"
   ]
  },
  {
   "cell_type": "code",
   "execution_count": 49,
   "id": "469a836b",
   "metadata": {},
   "outputs": [
    {
     "data": {
      "text/plain": [
       "array([40., 42., 51., 44., 54., 24., 23., 28., 52., 45., 57., 32., 56.,\n",
       "       50., 60., 70., 33., nan, 49., 38., 27.])"
      ]
     },
     "execution_count": 49,
     "metadata": {},
     "output_type": "execute_result"
    }
   ],
   "source": [
    "ageother['Age'].unique()"
   ]
  },
  {
   "cell_type": "code",
   "execution_count": 50,
   "id": "199defcc",
   "metadata": {},
   "outputs": [],
   "source": [
    "# 나이가 어느정도 있는 일꾼들이 많다는 것을 알게 됨"
   ]
  },
  {
   "cell_type": "code",
   "execution_count": 51,
   "id": "9cac0569",
   "metadata": {},
   "outputs": [
    {
     "data": {
      "text/plain": [
       "42.65217391304348"
      ]
     },
     "execution_count": 51,
     "metadata": {},
     "output_type": "execute_result"
    }
   ],
   "source": [
    "np.mean(ageother['Age'])"
   ]
  },
  {
   "cell_type": "code",
   "execution_count": 52,
   "id": "990c1c38",
   "metadata": {},
   "outputs": [],
   "source": [
    "# 일꾼들의 나이는 다양하다 그래서 평균값을 넣어 결측치를 대체 할 것이다 ."
   ]
  },
  {
   "cell_type": "code",
   "execution_count": 53,
   "id": "2ae09481",
   "metadata": {
    "scrolled": true
   },
   "outputs": [
    {
     "data": {
      "text/plain": [
       "ModeResult(mode=array([1.]), count=array([5]))"
      ]
     },
     "execution_count": 53,
     "metadata": {},
     "output_type": "execute_result"
    }
   ],
   "source": [
    "mode(master['Age'])"
   ]
  },
  {
   "cell_type": "code",
   "execution_count": 54,
   "id": "768493ae",
   "metadata": {},
   "outputs": [],
   "source": [
    "# master 최빈값은 1이다 1의 값이 5개 있다는 것 영유아도 있었고 최대9실인 경우도 있어서 1살로 지정 "
   ]
  },
  {
   "cell_type": "code",
   "execution_count": 55,
   "id": "21ae3915",
   "metadata": {},
   "outputs": [
    {
     "data": {
      "text/plain": [
       "ModeResult(mode=array([19.]), count=array([18]))"
      ]
     },
     "execution_count": 55,
     "metadata": {},
     "output_type": "execute_result"
    }
   ],
   "source": [
    "mode(Mrage['Age']) # 최빈값"
   ]
  },
  {
   "cell_type": "code",
   "execution_count": 56,
   "id": "86be2f8d",
   "metadata": {},
   "outputs": [],
   "source": [
    "# Mr의 Age는 최빈값으로 대체"
   ]
  },
  {
   "cell_type": "code",
   "execution_count": 57,
   "id": "831aad2a",
   "metadata": {},
   "outputs": [
    {
     "data": {
      "text/plain": [
       "ModeResult(mode=array([24.]), count=array([9]))"
      ]
     },
     "execution_count": 57,
     "metadata": {},
     "output_type": "execute_result"
    }
   ],
   "source": [
    "mode(Mrsage['Age'])"
   ]
  },
  {
   "cell_type": "code",
   "execution_count": 58,
   "id": "7f43f14a",
   "metadata": {},
   "outputs": [],
   "source": [
    "# Mrsage 성별 최빈값으로 대체"
   ]
  },
  {
   "cell_type": "code",
   "execution_count": 59,
   "id": "75ff6ed6",
   "metadata": {},
   "outputs": [
    {
     "data": {
      "text/plain": [
       "ModeResult(mode=array([18.]), count=array([10]))"
      ]
     },
     "execution_count": 59,
     "metadata": {},
     "output_type": "execute_result"
    }
   ],
   "source": [
    "mode(Missage['Age'])"
   ]
  },
  {
   "cell_type": "code",
   "execution_count": 60,
   "id": "73894252",
   "metadata": {},
   "outputs": [],
   "source": [
    "# Missage나이 최빈값으로 대체"
   ]
  },
  {
   "cell_type": "code",
   "execution_count": 61,
   "id": "03c9843b",
   "metadata": {},
   "outputs": [],
   "source": [
    "# Cabin 값 변경하기 \n",
    "data =df.copy()"
   ]
  },
  {
   "cell_type": "code",
   "execution_count": 62,
   "id": "5a1615dc",
   "metadata": {},
   "outputs": [],
   "source": [
    "#filㅣna는 결측치에 값을 대체하는 코드 아까 앞에서 결측치를 대체하겠다는 값들을 모두 넣어준다."
   ]
  },
  {
   "cell_type": "code",
   "execution_count": 63,
   "id": "7b373f81",
   "metadata": {},
   "outputs": [
    {
     "name": "stderr",
     "output_type": "stream",
     "text": [
      "C:\\Users\\kio02\\AppData\\Local\\Temp/ipykernel_1196/2781805761.py:1: SettingWithCopyWarning: \n",
      "A value is trying to be set on a copy of a slice from a DataFrame.\n",
      "Try using .loc[row_indexer,col_indexer] = value instead\n",
      "\n",
      "See the caveats in the documentation: https://pandas.pydata.org/pandas-docs/stable/user_guide/indexing.html#returning-a-view-versus-a-copy\n",
      "  ageother['Age'] = ageother['Age'].fillna(42)\n"
     ]
    }
   ],
   "source": [
    "ageother['Age'] = ageother['Age'].fillna(42)"
   ]
  },
  {
   "cell_type": "code",
   "execution_count": 64,
   "id": "3ea1a40a",
   "metadata": {},
   "outputs": [
    {
     "name": "stderr",
     "output_type": "stream",
     "text": [
      "C:\\Users\\kio02\\AppData\\Local\\Temp/ipykernel_1196/1298966967.py:1: SettingWithCopyWarning: \n",
      "A value is trying to be set on a copy of a slice from a DataFrame.\n",
      "Try using .loc[row_indexer,col_indexer] = value instead\n",
      "\n",
      "See the caveats in the documentation: https://pandas.pydata.org/pandas-docs/stable/user_guide/indexing.html#returning-a-view-versus-a-copy\n",
      "  master['Age'] = master['Age'].fillna(1)\n"
     ]
    }
   ],
   "source": [
    "master['Age'] = master['Age'].fillna(1)"
   ]
  },
  {
   "cell_type": "code",
   "execution_count": 65,
   "id": "bc89d305",
   "metadata": {},
   "outputs": [
    {
     "name": "stderr",
     "output_type": "stream",
     "text": [
      "C:\\Users\\kio02\\AppData\\Local\\Temp/ipykernel_1196/2520182207.py:1: SettingWithCopyWarning: \n",
      "A value is trying to be set on a copy of a slice from a DataFrame.\n",
      "Try using .loc[row_indexer,col_indexer] = value instead\n",
      "\n",
      "See the caveats in the documentation: https://pandas.pydata.org/pandas-docs/stable/user_guide/indexing.html#returning-a-view-versus-a-copy\n",
      "  Mrage['Age'] = Mrage['Age'].fillna(19)\n"
     ]
    }
   ],
   "source": [
    "Mrage['Age'] = Mrage['Age'].fillna(19)"
   ]
  },
  {
   "cell_type": "code",
   "execution_count": 66,
   "id": "89d5d207",
   "metadata": {},
   "outputs": [
    {
     "name": "stderr",
     "output_type": "stream",
     "text": [
      "C:\\Users\\kio02\\AppData\\Local\\Temp/ipykernel_1196/116471909.py:1: SettingWithCopyWarning: \n",
      "A value is trying to be set on a copy of a slice from a DataFrame.\n",
      "Try using .loc[row_indexer,col_indexer] = value instead\n",
      "\n",
      "See the caveats in the documentation: https://pandas.pydata.org/pandas-docs/stable/user_guide/indexing.html#returning-a-view-versus-a-copy\n",
      "  Mrsage['Age'] = Mrsage['Age'].fillna(24)\n",
      "C:\\Users\\kio02\\AppData\\Local\\Temp/ipykernel_1196/116471909.py:2: SettingWithCopyWarning: \n",
      "A value is trying to be set on a copy of a slice from a DataFrame.\n",
      "Try using .loc[row_indexer,col_indexer] = value instead\n",
      "\n",
      "See the caveats in the documentation: https://pandas.pydata.org/pandas-docs/stable/user_guide/indexing.html#returning-a-view-versus-a-copy\n",
      "  Missage['Age'] = Missage['Age'].fillna(18)\n"
     ]
    }
   ],
   "source": [
    "Mrsage['Age'] = Mrsage['Age'].fillna(24)\n",
    "Missage['Age'] = Missage['Age'].fillna(18)"
   ]
  },
  {
   "cell_type": "code",
   "execution_count": 67,
   "id": "cc29bb7c",
   "metadata": {},
   "outputs": [
    {
     "name": "stdout",
     "output_type": "stream",
     "text": [
      "0\n",
      "0\n",
      "0\n",
      "0\n",
      "0\n"
     ]
    }
   ],
   "source": [
    "print(Mrsage['Age'].isnull().sum())\n",
    "print(Missage['Age'].isnull().sum())\n",
    "print(ageother['Age'].isnull().sum())\n",
    "print(master['Age'].isnull().sum())\n",
    "print(Mrage['Age'].isnull().sum())"
   ]
  },
  {
   "cell_type": "code",
   "execution_count": 68,
   "id": "529ba74c",
   "metadata": {},
   "outputs": [],
   "source": [
    "#혹사나 값에 null 값이 있는지 확인"
   ]
  },
  {
   "cell_type": "code",
   "execution_count": 69,
   "id": "afab0d35",
   "metadata": {},
   "outputs": [],
   "source": [
    "dat1 = pd.concat([Mrage,Mrsage,Missage,ageother,master],axis = 0)"
   ]
  },
  {
   "cell_type": "code",
   "execution_count": 70,
   "id": "baea058e",
   "metadata": {},
   "outputs": [],
   "source": [
    "# 그리고 데이터를 합쳐준다. axis =0  행으로 연결 axis = 1 열로 연결 "
   ]
  },
  {
   "cell_type": "code",
   "execution_count": 71,
   "id": "390f92ab",
   "metadata": {
    "scrolled": true
   },
   "outputs": [
    {
     "data": {
      "text/plain": [
       "PassengerId      0\n",
       "Survived         0\n",
       "Pclass           0\n",
       "Name             0\n",
       "Sex              0\n",
       "Age              0\n",
       "SibSp            0\n",
       "Parch            0\n",
       "Ticket           0\n",
       "Fare             0\n",
       "Cabin          689\n",
       "Embarked         2\n",
       "dtype: int64"
      ]
     },
     "execution_count": 71,
     "metadata": {},
     "output_type": "execute_result"
    }
   ],
   "source": [
    "dat1.isnull().sum()"
   ]
  },
  {
   "cell_type": "code",
   "execution_count": 72,
   "id": "8221698f",
   "metadata": {},
   "outputs": [],
   "source": [
    "data= dat1.sort_index(ascending = True )"
   ]
  },
  {
   "cell_type": "code",
   "execution_count": 73,
   "id": "0775b4af",
   "metadata": {},
   "outputs": [],
   "source": [
    "#데이터를 index 별로 정리"
   ]
  },
  {
   "cell_type": "code",
   "execution_count": 74,
   "id": "e0e8c373",
   "metadata": {},
   "outputs": [
    {
     "data": {
      "text/plain": [
       "ModeResult(mode=array([200], dtype=int64), count=array([2]))"
      ]
     },
     "execution_count": 74,
     "metadata": {},
     "output_type": "execute_result"
    }
   ],
   "source": [
    "mode(data['PassengerId'])"
   ]
  },
  {
   "cell_type": "code",
   "execution_count": 75,
   "id": "edc95d46",
   "metadata": {},
   "outputs": [],
   "source": [
    "#Passid가 겹치는게 있네"
   ]
  },
  {
   "cell_type": "code",
   "execution_count": 76,
   "id": "10e34182",
   "metadata": {},
   "outputs": [
    {
     "data": {
      "text/html": [
       "<div>\n",
       "<style scoped>\n",
       "    .dataframe tbody tr th:only-of-type {\n",
       "        vertical-align: middle;\n",
       "    }\n",
       "\n",
       "    .dataframe tbody tr th {\n",
       "        vertical-align: top;\n",
       "    }\n",
       "\n",
       "    .dataframe thead th {\n",
       "        text-align: right;\n",
       "    }\n",
       "</style>\n",
       "<table border=\"1\" class=\"dataframe\">\n",
       "  <thead>\n",
       "    <tr style=\"text-align: right;\">\n",
       "      <th></th>\n",
       "      <th>PassengerId</th>\n",
       "      <th>Survived</th>\n",
       "      <th>Pclass</th>\n",
       "      <th>Name</th>\n",
       "      <th>Sex</th>\n",
       "      <th>Age</th>\n",
       "      <th>SibSp</th>\n",
       "      <th>Parch</th>\n",
       "      <th>Ticket</th>\n",
       "      <th>Fare</th>\n",
       "      <th>Cabin</th>\n",
       "      <th>Embarked</th>\n",
       "    </tr>\n",
       "  </thead>\n",
       "  <tbody>\n",
       "    <tr>\n",
       "      <th>199</th>\n",
       "      <td>200</td>\n",
       "      <td>0</td>\n",
       "      <td>2</td>\n",
       "      <td>Yrois, Miss. Henriette (\"Mrs Harbeck\")</td>\n",
       "      <td>female</td>\n",
       "      <td>24.0</td>\n",
       "      <td>0</td>\n",
       "      <td>0</td>\n",
       "      <td>248747</td>\n",
       "      <td>13.0</td>\n",
       "      <td>NaN</td>\n",
       "      <td>S</td>\n",
       "    </tr>\n",
       "    <tr>\n",
       "      <th>199</th>\n",
       "      <td>200</td>\n",
       "      <td>0</td>\n",
       "      <td>2</td>\n",
       "      <td>Yrois, Miss. Henriette (\"Mrs Harbeck\")</td>\n",
       "      <td>female</td>\n",
       "      <td>24.0</td>\n",
       "      <td>0</td>\n",
       "      <td>0</td>\n",
       "      <td>248747</td>\n",
       "      <td>13.0</td>\n",
       "      <td>NaN</td>\n",
       "      <td>S</td>\n",
       "    </tr>\n",
       "    <tr>\n",
       "      <th>427</th>\n",
       "      <td>428</td>\n",
       "      <td>1</td>\n",
       "      <td>2</td>\n",
       "      <td>Phillips, Miss. Kate Florence (\"Mrs Kate Louis...</td>\n",
       "      <td>female</td>\n",
       "      <td>19.0</td>\n",
       "      <td>0</td>\n",
       "      <td>0</td>\n",
       "      <td>250655</td>\n",
       "      <td>26.0</td>\n",
       "      <td>NaN</td>\n",
       "      <td>S</td>\n",
       "    </tr>\n",
       "    <tr>\n",
       "      <th>427</th>\n",
       "      <td>428</td>\n",
       "      <td>1</td>\n",
       "      <td>2</td>\n",
       "      <td>Phillips, Miss. Kate Florence (\"Mrs Kate Louis...</td>\n",
       "      <td>female</td>\n",
       "      <td>19.0</td>\n",
       "      <td>0</td>\n",
       "      <td>0</td>\n",
       "      <td>250655</td>\n",
       "      <td>26.0</td>\n",
       "      <td>NaN</td>\n",
       "      <td>S</td>\n",
       "    </tr>\n",
       "  </tbody>\n",
       "</table>\n",
       "</div>"
      ],
      "text/plain": [
       "     PassengerId  Survived  Pclass  \\\n",
       "199          200         0       2   \n",
       "199          200         0       2   \n",
       "427          428         1       2   \n",
       "427          428         1       2   \n",
       "\n",
       "                                                  Name     Sex   Age  SibSp  \\\n",
       "199             Yrois, Miss. Henriette (\"Mrs Harbeck\")  female  24.0      0   \n",
       "199             Yrois, Miss. Henriette (\"Mrs Harbeck\")  female  24.0      0   \n",
       "427  Phillips, Miss. Kate Florence (\"Mrs Kate Louis...  female  19.0      0   \n",
       "427  Phillips, Miss. Kate Florence (\"Mrs Kate Louis...  female  19.0      0   \n",
       "\n",
       "     Parch  Ticket  Fare Cabin Embarked  \n",
       "199      0  248747  13.0   NaN        S  \n",
       "199      0  248747  13.0   NaN        S  \n",
       "427      0  250655  26.0   NaN        S  \n",
       "427      0  250655  26.0   NaN        S  "
      ]
     },
     "execution_count": 76,
     "metadata": {},
     "output_type": "execute_result"
    }
   ],
   "source": [
    "data[data.duplicated(['PassengerId'],keep = False)]"
   ]
  },
  {
   "cell_type": "code",
   "execution_count": 77,
   "id": "60d537c2",
   "metadata": {},
   "outputs": [],
   "source": [
    "data = data.drop_duplicates(['PassengerId'] ,keep = 'first') # 겹치는거 제외"
   ]
  },
  {
   "cell_type": "code",
   "execution_count": 78,
   "id": "78100be6",
   "metadata": {},
   "outputs": [],
   "source": [
    "# 데이터는 891 개 존재 "
   ]
  },
  {
   "cell_type": "code",
   "execution_count": 79,
   "id": "0bfb031f",
   "metadata": {},
   "outputs": [],
   "source": [
    "# cabin 값을 pclass 값으로 변경 ( 데이터 변수를 생성을 함)"
   ]
  },
  {
   "cell_type": "code",
   "execution_count": 80,
   "id": "f687086a",
   "metadata": {},
   "outputs": [],
   "source": [
    "pclass = list(data['Pclass'])\n",
    "cabin = []\n",
    "for i in pclass:\n",
    "    cabin.append(i)"
   ]
  },
  {
   "cell_type": "code",
   "execution_count": 81,
   "id": "67fafe2b",
   "metadata": {},
   "outputs": [],
   "source": [
    "data['cabin'] = cabin"
   ]
  },
  {
   "cell_type": "code",
   "execution_count": 82,
   "id": "3c883481",
   "metadata": {},
   "outputs": [],
   "source": [
    "# pclass랑 cabin의 값이 다른지 확인"
   ]
  },
  {
   "cell_type": "code",
   "execution_count": 83,
   "id": "0252c7ea",
   "metadata": {},
   "outputs": [
    {
     "data": {
      "text/html": [
       "<div>\n",
       "<style scoped>\n",
       "    .dataframe tbody tr th:only-of-type {\n",
       "        vertical-align: middle;\n",
       "    }\n",
       "\n",
       "    .dataframe tbody tr th {\n",
       "        vertical-align: top;\n",
       "    }\n",
       "\n",
       "    .dataframe thead th {\n",
       "        text-align: right;\n",
       "    }\n",
       "</style>\n",
       "<table border=\"1\" class=\"dataframe\">\n",
       "  <thead>\n",
       "    <tr style=\"text-align: right;\">\n",
       "      <th></th>\n",
       "      <th>PassengerId</th>\n",
       "      <th>Survived</th>\n",
       "      <th>Pclass</th>\n",
       "      <th>Name</th>\n",
       "      <th>Sex</th>\n",
       "      <th>Age</th>\n",
       "      <th>SibSp</th>\n",
       "      <th>Parch</th>\n",
       "      <th>Ticket</th>\n",
       "      <th>Fare</th>\n",
       "      <th>Cabin</th>\n",
       "      <th>Embarked</th>\n",
       "      <th>cabin</th>\n",
       "    </tr>\n",
       "  </thead>\n",
       "  <tbody>\n",
       "  </tbody>\n",
       "</table>\n",
       "</div>"
      ],
      "text/plain": [
       "Empty DataFrame\n",
       "Columns: [PassengerId, Survived, Pclass, Name, Sex, Age, SibSp, Parch, Ticket, Fare, Cabin, Embarked, cabin]\n",
       "Index: []"
      ]
     },
     "execution_count": 83,
     "metadata": {},
     "output_type": "execute_result"
    }
   ],
   "source": [
    "data[data['Pclass'] != data['cabin']]"
   ]
  },
  {
   "cell_type": "code",
   "execution_count": 84,
   "id": "753e5a21",
   "metadata": {},
   "outputs": [
    {
     "name": "stdout",
     "output_type": "stream",
     "text": [
      "<class 'pandas.core.frame.DataFrame'>\n",
      "Int64Index: 891 entries, 0 to 890\n",
      "Data columns (total 13 columns):\n",
      " #   Column       Non-Null Count  Dtype  \n",
      "---  ------       --------------  -----  \n",
      " 0   PassengerId  891 non-null    int64  \n",
      " 1   Survived     891 non-null    int64  \n",
      " 2   Pclass       891 non-null    int64  \n",
      " 3   Name         891 non-null    object \n",
      " 4   Sex          891 non-null    object \n",
      " 5   Age          891 non-null    float64\n",
      " 6   SibSp        891 non-null    int64  \n",
      " 7   Parch        891 non-null    int64  \n",
      " 8   Ticket       891 non-null    object \n",
      " 9   Fare         891 non-null    float64\n",
      " 10  Cabin        204 non-null    object \n",
      " 11  Embarked     889 non-null    object \n",
      " 12  cabin        891 non-null    int64  \n",
      "dtypes: float64(2), int64(6), object(5)\n",
      "memory usage: 97.5+ KB\n"
     ]
    }
   ],
   "source": [
    "data.info()"
   ]
  },
  {
   "cell_type": "markdown",
   "id": "97c96f9b",
   "metadata": {},
   "source": [
    "# Embarked 처리  "
   ]
  },
  {
   "cell_type": "code",
   "execution_count": 85,
   "id": "152ccdc2",
   "metadata": {},
   "outputs": [
    {
     "data": {
      "text/plain": [
       "S    644\n",
       "C    168\n",
       "Q     77\n",
       "Name: Embarked, dtype: int64"
      ]
     },
     "execution_count": 85,
     "metadata": {},
     "output_type": "execute_result"
    }
   ],
   "source": [
    "data['Embarked'].value_counts() # 얼마나 분포 되었있는지 확인 "
   ]
  },
  {
   "cell_type": "code",
   "execution_count": 86,
   "id": "1e1e3392",
   "metadata": {},
   "outputs": [],
   "source": [
    "data['Embarked'] = data['Embarked'].fillna('S')  # S가 월등히 많아서 결측값을 S로 대체를 함 "
   ]
  },
  {
   "cell_type": "code",
   "execution_count": 87,
   "id": "8a5f1cc9",
   "metadata": {},
   "outputs": [
    {
     "data": {
      "text/plain": [
       "PassengerId      0\n",
       "Survived         0\n",
       "Pclass           0\n",
       "Name             0\n",
       "Sex              0\n",
       "Age              0\n",
       "SibSp            0\n",
       "Parch            0\n",
       "Ticket           0\n",
       "Fare             0\n",
       "Cabin          687\n",
       "Embarked         0\n",
       "cabin            0\n",
       "dtype: int64"
      ]
     },
     "execution_count": 87,
     "metadata": {},
     "output_type": "execute_result"
    }
   ],
   "source": [
    "data.isnull().sum()"
   ]
  },
  {
   "cell_type": "code",
   "execution_count": 88,
   "id": "4bbb41db",
   "metadata": {},
   "outputs": [],
   "source": [
    "data = data.drop(['Cabin'],axis = 1) # Cabin값은 이제 필요가 없으니 삭제"
   ]
  },
  {
   "cell_type": "code",
   "execution_count": 89,
   "id": "c61f4865",
   "metadata": {},
   "outputs": [
    {
     "data": {
      "text/plain": [
       "PassengerId    0\n",
       "Survived       0\n",
       "Pclass         0\n",
       "Name           0\n",
       "Sex            0\n",
       "Age            0\n",
       "SibSp          0\n",
       "Parch          0\n",
       "Ticket         0\n",
       "Fare           0\n",
       "Embarked       0\n",
       "cabin          0\n",
       "dtype: int64"
      ]
     },
     "execution_count": 89,
     "metadata": {},
     "output_type": "execute_result"
    }
   ],
   "source": [
    "data.isnull().sum()"
   ]
  },
  {
   "cell_type": "markdown",
   "id": "c3cd5e10",
   "metadata": {},
   "source": [
    "# 데이터 완성"
   ]
  },
  {
   "cell_type": "code",
   "execution_count": 90,
   "id": "b919759f",
   "metadata": {},
   "outputs": [
    {
     "data": {
      "image/png": "[encoded data removed]",
      "text/plain": [
       "<Figure size 432x288 with 1 Axes>"
      ]
     },
     "metadata": {
      "needs_background": "light"
     },
     "output_type": "display_data"
    }
   ],
   "source": [
    "plt.figure()\n",
    "sns.countplot()\n",
    "plt.show()"
   ]
  },
  {
   "cell_type": "code",
   "execution_count": 91,
   "id": "a7103e0a",
   "metadata": {},
   "outputs": [],
   "source": [
    "titanic = data.copy()"
   ]
  },
  {
   "cell_type": "code",
   "execution_count": 92,
   "id": "98d6bfe7",
   "metadata": {},
   "outputs": [],
   "source": [
    "# 상관분석을 돌리기 위해 명목형 변수를 더미변수를 만든다 .\n",
    "# 더미변수 ? "
   ]
  },
  {
   "cell_type": "code",
   "execution_count": 93,
   "id": "11e8adcc",
   "metadata": {},
   "outputs": [],
   "source": [
    "titanic_embark = pd.get_dummies(titanic['Embarked'])"
   ]
  },
  {
   "cell_type": "code",
   "execution_count": 94,
   "id": "84dd7bf7",
   "metadata": {},
   "outputs": [],
   "source": [
    "titanic = titanic.join(titanic_embark)"
   ]
  },
  {
   "cell_type": "code",
   "execution_count": 95,
   "id": "bae2583c",
   "metadata": {},
   "outputs": [],
   "source": [
    "titanic['Sex'] = titanic['Sex'].apply(lambda x : x.replace('male','1'))\n",
    "titanic['Sex'] = titanic['Sex'].apply(lambda x : x.replace('fe1','0'))\n",
    "titanic['Sex'] = list(map(int,titanic['Sex']))"
   ]
  },
  {
   "cell_type": "code",
   "execution_count": 96,
   "id": "40ebab27",
   "metadata": {},
   "outputs": [
    {
     "data": {
      "text/plain": [
       "array([1, 0], dtype=int64)"
      ]
     },
     "execution_count": 96,
     "metadata": {},
     "output_type": "execute_result"
    }
   ],
   "source": [
    "titanic['Sex'].unique()"
   ]
  },
  {
   "cell_type": "code",
   "execution_count": 97,
   "id": "0ae0bed9",
   "metadata": {},
   "outputs": [
    {
     "data": {
      "text/plain": [
       "0      1\n",
       "1      0\n",
       "2      0\n",
       "3      0\n",
       "4      1\n",
       "      ..\n",
       "886    1\n",
       "887    0\n",
       "888    0\n",
       "889    1\n",
       "890    1\n",
       "Name: Sex, Length: 891, dtype: int64"
      ]
     },
     "execution_count": 97,
     "metadata": {},
     "output_type": "execute_result"
    }
   ],
   "source": [
    "titanic['Sex']"
   ]
  },
  {
   "cell_type": "code",
   "execution_count": 98,
   "id": "4cd89444",
   "metadata": {},
   "outputs": [],
   "source": [
    "titanic.drop(['Embarked'],axis = 1 , inplace =True) # titanic 변수에 Embarked 값은 필요가 없으니 삭제"
   ]
  },
  {
   "cell_type": "code",
   "execution_count": 99,
   "id": "18140097",
   "metadata": {},
   "outputs": [],
   "source": [
    "titanic = titanic.drop(['Ticket','Name'],axis = 1) # ticket Name은 상관분석에 못 넣으니 삭제"
   ]
  },
  {
   "cell_type": "code",
   "execution_count": 100,
   "id": "ef14653c",
   "metadata": {},
   "outputs": [],
   "source": [
    "titanic_corr = titanic.corr() # 상관분석 \n",
    "# 상관분석 하는 이유 ?"
   ]
  },
  {
   "cell_type": "code",
   "execution_count": 101,
   "id": "765e0a00",
   "metadata": {},
   "outputs": [
    {
     "data": {
      "text/plain": [
       "<AxesSubplot:>"
      ]
     },
     "execution_count": 101,
     "metadata": {},
     "output_type": "execute_result"
    },
    {
     "data": {
      "image/png": "[encoded data removed]",
      "text/plain": [
       "<Figure size 1440x360 with 2 Axes>"
      ]
     },
     "metadata": {
      "needs_background": "light"
     },
     "output_type": "display_data"
    }
   ],
   "source": [
    "plt.rcParams['figure.figsize'] = [20, 5]\n",
    "sns.heatmap(titanic_corr,annot = True)   #  c랑 s 가 -0.79 관련이 어느정도는 있네(?) pclass,cabin은 상황을 보면서 지우는 식으로 한다."
   ]
  },
  {
   "cell_type": "code",
   "execution_count": 102,
   "id": "b750a860",
   "metadata": {},
   "outputs": [],
   "source": [
    "from sklearn.model_selection import train_test_split\n",
    "from sklearn.linear_model import LogisticRegression\n",
    "from sklearn import tree\n",
    "from sklearn.metrics import accuracy_score"
   ]
  },
  {
   "cell_type": "code",
   "execution_count": 103,
   "id": "8f4efbd2",
   "metadata": {},
   "outputs": [],
   "source": [
    "X = titanic.drop(['PassengerId','Survived','cabin'],axis = 1 )    # X인 변수와 Y 값을 분리를 해준다 .\n",
    "\n",
    "Y= titanic['Survived']"
   ]
  },
  {
   "cell_type": "code",
   "execution_count": 104,
   "id": "ccaea8c2",
   "metadata": {},
   "outputs": [],
   "source": [
    "x_train,x_test,y_train,y_test = train_test_split(X,Y,test_size = 0.2 ,shuffle = True) # 666 , 167 # 왜 4개로 나누는 걸까?"
   ]
  },
  {
   "cell_type": "code",
   "execution_count": 105,
   "id": "62ff8c72",
   "metadata": {},
   "outputs": [],
   "source": [
    "Logistic_fit = Logistic = LogisticRegression()\n",
    "Decision = tree.DecisionTreeClassifier()  "
   ]
  },
  {
   "cell_type": "markdown",
   "id": "278c3b24",
   "metadata": {},
   "source": [
    "# Logistic regression : 로지스틱 회귀분석 이란 \n",
    "# Decision tree : 의사결정나무 "
   ]
  },
  {
   "cell_type": "code",
   "execution_count": 106,
   "id": "27b54943",
   "metadata": {},
   "outputs": [
    {
     "name": "stderr",
     "output_type": "stream",
     "text": [
      "C:\\ProgramData\\Anaconda3\\lib\\site-packages\\sklearn\\linear_model\\_logistic.py:814: ConvergenceWarning: lbfgs failed to converge (status=1):\n",
      "STOP: TOTAL NO. of ITERATIONS REACHED LIMIT.\n",
      "\n",
      "Increase the number of iterations (max_iter) or scale the data as shown in:\n",
      "    https://scikit-learn.org/stable/modules/preprocessing.html\n",
      "Please also refer to the documentation for alternative solver options:\n",
      "    https://scikit-learn.org/stable/modules/linear_model.html#logistic-regression\n",
      "  n_iter_i = _check_optimize_result(\n"
     ]
    },
    {
     "data": {
      "text/plain": [
       "DecisionTreeClassifier()"
      ]
     },
     "execution_count": 106,
     "metadata": {},
     "output_type": "execute_result"
    }
   ],
   "source": [
    "Logistic.fit(x_train,y_train)\n",
    "Decision.fit(x_train,y_train)"
   ]
  },
  {
   "cell_type": "markdown",
   "id": "4ee7c242",
   "metadata": {},
   "source": [
    "# logistic regression "
   ]
  },
  {
   "cell_type": "code",
   "execution_count": 107,
   "id": "d65124a5",
   "metadata": {},
   "outputs": [
    {
     "name": "stdout",
     "output_type": "stream",
     "text": [
      "Accuracy: 0.83\n"
     ]
    }
   ],
   "source": [
    "Logistic_pred = Logistic.predict(x_test)\n",
    "print( 'Accuracy: %.2f'% accuracy_score(y_test,Logistic_pred))"
   ]
  },
  {
   "cell_type": "code",
   "execution_count": 108,
   "id": "87750fce",
   "metadata": {},
   "outputs": [],
   "source": [
    "from sklearn.metrics import confusion_matrix\n",
    "from sklearn.metrics import roc_curve, roc_auc_score"
   ]
  },
  {
   "cell_type": "code",
   "execution_count": 109,
   "id": "9d3c5824",
   "metadata": {},
   "outputs": [],
   "source": [
    "lr_pred_probability = Logistic.predict_proba(x_test)[:,1]"
   ]
  },
  {
   "cell_type": "code",
   "execution_count": 110,
   "id": "00951c77",
   "metadata": {},
   "outputs": [],
   "source": [
    "fpr_lr, tpr_lr, thresholds_lr = roc_curve(y_test, lr_pred_probability )"
   ]
  },
  {
   "cell_type": "code",
   "execution_count": 111,
   "id": "a9cd0bff",
   "metadata": {},
   "outputs": [
    {
     "data": {
      "text/plain": [
       "[<matplotlib.lines.Line2D at 0x10fc1f75dc0>]"
      ]
     },
     "execution_count": 111,
     "metadata": {},
     "output_type": "execute_result"
    },
    {
     "data": {
      "image/png": "[encoded data removed]",
      "text/plain": [
       "<Figure size 1440x360 with 1 Axes>"
      ]
     },
     "metadata": {
      "needs_background": "light"
     },
     "output_type": "display_data"
    }
   ],
   "source": [
    "plt.plot(fpr_lr, tpr_lr, label='ROC')"
   ]
  },
  {
   "cell_type": "code",
   "execution_count": 112,
   "id": "af412d5b",
   "metadata": {
    "scrolled": false
   },
   "outputs": [
    {
     "data": {
      "text/plain": [
       "array([[96, 14],\n",
       "       [16, 53]], dtype=int64)"
      ]
     },
     "execution_count": 112,
     "metadata": {},
     "output_type": "execute_result"
    }
   ],
   "source": [
    "confusion_matrix(y_true = y_test,y_pred = Logistic_pred ) # confusion matrix 혼동행령"
   ]
  },
  {
   "cell_type": "code",
   "execution_count": 113,
   "id": "9e9222e7",
   "metadata": {},
   "outputs": [],
   "source": [
    "# precision 정밀도 (진짜라고 예측한것중 진짜 ) TP/(TP + FP)\n",
    "# recall ,sensitivity ,Tpr(True postive rate) 정확히 맞춘 값중 true 값 (TP + FN)\n",
    "#specificity 특이도 1- FPR  실제 False 인값을 False로 예측한 값\n",
    "# FPR 실제 False 인도 True 로 예측한 값\n",
    "# TPR 이 높아지면 FPR 이 높아짐 비레적으로 잘 만든게 Roc Curve 그림 면적이 AUC\n",
    "# thresholds : 임계값 임계값보다 낮은면 False 높은면 True "
   ]
  },
  {
   "cell_type": "code",
   "execution_count": 114,
   "id": "2e3de1cf",
   "metadata": {},
   "outputs": [
    {
     "name": "stdout",
     "output_type": "stream",
     "text": [
      "AUC : 0.820\n"
     ]
    }
   ],
   "source": [
    "roc_auc = roc_auc_score(y_test, Logistic_pred)\n",
    "print(\"AUC : %.3f\" % roc_auc)"
   ]
  },
  {
   "cell_type": "code",
   "execution_count": 121,
   "id": "356321de",
   "metadata": {},
   "outputs": [
    {
     "name": "stdout",
     "output_type": "stream",
     "text": [
      "훈련 세트 정확도: 0.794\n",
      "테스트 세트 정확도: 0.832\n"
     ]
    }
   ],
   "source": [
    "print(\"훈련 세트 정확도: {:.3f}\".format(Logistic.score(x_train, y_train)))\n",
    "print(\"테스트 세트 정확도: {:.3f}\".format(Logistic.score(x_test, y_test)))"
   ]
  },
  {
   "cell_type": "markdown",
   "id": "47ba0bc1",
   "metadata": {},
   "source": [
    "# DecisionTree"
   ]
  },
  {
   "cell_type": "code",
   "execution_count": 115,
   "id": "25cafd97",
   "metadata": {
    "scrolled": true
   },
   "outputs": [
    {
     "name": "stdout",
     "output_type": "stream",
     "text": [
      "Accuracy: 0.75\n"
     ]
    }
   ],
   "source": [
    "`Decision_pred = Decision.predict(x_test)\n",
    "print('Accuracy: %.2f'% accuracy_score(y_test,Decision_pred))"
   ]
  },
  {
   "cell_type": "code",
   "execution_count": 116,
   "id": "7be49d3c",
   "metadata": {},
   "outputs": [
    {
     "data": {
      "text/plain": [
       "array([[82, 28],\n",
       "       [16, 53]], dtype=int64)"
      ]
     },
     "execution_count": 116,
     "metadata": {},
     "output_type": "execute_result"
    }
   ],
   "source": [
    "dt_pred_probability = Decision.predict_proba(x_test)[:,1]\n",
    "confusion_matrix(y_true = y_test,y_pred = Decision_pred )"
   ]
  },
  {
   "cell_type": "code",
   "execution_count": 117,
   "id": "60e089be",
   "metadata": {},
   "outputs": [
    {
     "name": "stdout",
     "output_type": "stream",
     "text": [
      "AUC : 0.757\n"
     ]
    }
   ],
   "source": [
    "roc_auc = roc_auc_score(y_test, Decision_pred)\n",
    "print(\"AUC : %.3f\" % roc_auc)"
   ]
  },
  {
   "cell_type": "code",
   "execution_count": 120,
   "id": "04ec930e",
   "metadata": {},
   "outputs": [
    {
     "name": "stdout",
     "output_type": "stream",
     "text": [
      "훈련 세트 정확도: 0.980\n",
      "테스트 세트 정확도: 0.754\n"
     ]
    }
   ],
   "source": [
    "print(\"훈련 세트 정확도: {:.3f}\".format(Decision.score(x_train, y_train)))\n",
    "print(\"테스트 세트 정확도: {:.3f}\".format(Decision.score(x_test, y_test)))"
   ]
  },
  {
   "cell_type": "code",
   "execution_count": 122,
   "id": "5abdd90f",
   "metadata": {},
   "outputs": [],
   "source": [
    "from sklearn.ensemble  import RandomForestClassifier"
   ]
  },
  {
   "cell_type": "markdown",
   "id": "cbc599a3",
   "metadata": {},
   "source": [
    "# RandomForest"
   ]
  },
  {
   "cell_type": "code",
   "execution_count": 123,
   "id": "7880bbaa",
   "metadata": {},
   "outputs": [],
   "source": [
    "rf = RandomForestClassifier(n_estimators=100, random_state=42)"
   ]
  },
  {
   "cell_type": "code",
   "execution_count": 124,
   "id": "4569c076",
   "metadata": {},
   "outputs": [
    {
     "data": {
      "text/plain": [
       "RandomForestClassifier(random_state=42)"
      ]
     },
     "execution_count": 124,
     "metadata": {},
     "output_type": "execute_result"
    }
   ],
   "source": [
    " rf.fit(x_train,y_train)"
   ]
  },
  {
   "cell_type": "code",
   "execution_count": 125,
   "id": "198f35ae",
   "metadata": {},
   "outputs": [
    {
     "name": "stdout",
     "output_type": "stream",
     "text": [
      "Accuracy: 0.832402\n"
     ]
    }
   ],
   "source": [
    "rf_pred = rf.predict(x_test)\n",
    "print('Accuracy: %2f' % accuracy_score(y_test,rf_pred))"
   ]
  },
  {
   "cell_type": "code",
   "execution_count": 126,
   "id": "80d80ed1",
   "metadata": {},
   "outputs": [
    {
     "name": "stdout",
     "output_type": "stream",
     "text": [
      "Auc 0.825823\n"
     ]
    }
   ],
   "source": [
    "roc_auc = roc_auc_score(y_test,rf_pred)\n",
    "print('Auc %2f' % roc_auc)"
   ]
  },
  {
   "cell_type": "code",
   "execution_count": 127,
   "id": "ce931c28",
   "metadata": {},
   "outputs": [
    {
     "name": "stdout",
     "output_type": "stream",
     "text": [
      "훈련 세트 정확도: 0.980\n",
      "테스트 세트 정확도: 0.832\n"
     ]
    }
   ],
   "source": [
    "print(\"훈련 세트 정확도: {:.3f}\".format(rf.score(x_train, y_train)))\n",
    "print(\"테스트 세트 정확도: {:.3f}\".format(rf.score(x_test, y_test)))"
   ]
  },
  {
   "cell_type": "markdown",
   "id": "0fed8707",
   "metadata": {},
   "source": [
    "# 추가"
   ]
  },
  {
   "cell_type": "markdown",
   "id": "154c5659",
   "metadata": {},
   "source": [
    " # K-Fold"
   ]
  },
  {
   "cell_type": "code",
   "execution_count": 128,
   "id": "e71f1fad",
   "metadata": {},
   "outputs": [],
   "source": [
    "from sklearn.model_selection import KFold, cross_val_score"
   ]
  },
  {
   "cell_type": "code",
   "execution_count": 129,
   "id": "e529c7ae",
   "metadata": {},
   "outputs": [],
   "source": [
    "X_array = np.array(X)\n",
    "Y_array = np.array(Y)"
   ]
  },
  {
   "cell_type": "code",
   "execution_count": 130,
   "id": "db1ef85c",
   "metadata": {},
   "outputs": [
    {
     "name": "stderr",
     "output_type": "stream",
     "text": [
      "C:\\ProgramData\\Anaconda3\\lib\\site-packages\\sklearn\\linear_model\\_logistic.py:814: ConvergenceWarning: lbfgs failed to converge (status=1):\n",
      "STOP: TOTAL NO. of ITERATIONS REACHED LIMIT.\n",
      "\n",
      "Increase the number of iterations (max_iter) or scale the data as shown in:\n",
      "    https://scikit-learn.org/stable/modules/preprocessing.html\n",
      "Please also refer to the documentation for alternative solver options:\n",
      "    https://scikit-learn.org/stable/modules/linear_model.html#logistic-regression\n",
      "  n_iter_i = _check_optimize_result(\n",
      "C:\\ProgramData\\Anaconda3\\lib\\site-packages\\sklearn\\linear_model\\_logistic.py:814: ConvergenceWarning: lbfgs failed to converge (status=1):\n",
      "STOP: TOTAL NO. of ITERATIONS REACHED LIMIT.\n",
      "\n",
      "Increase the number of iterations (max_iter) or scale the data as shown in:\n",
      "    https://scikit-learn.org/stable/modules/preprocessing.html\n",
      "Please also refer to the documentation for alternative solver options:\n",
      "    https://scikit-learn.org/stable/modules/linear_model.html#logistic-regression\n",
      "  n_iter_i = _check_optimize_result(\n",
      "C:\\ProgramData\\Anaconda3\\lib\\site-packages\\sklearn\\linear_model\\_logistic.py:814: ConvergenceWarning: lbfgs failed to converge (status=1):\n",
      "STOP: TOTAL NO. of ITERATIONS REACHED LIMIT.\n",
      "\n",
      "Increase the number of iterations (max_iter) or scale the data as shown in:\n",
      "    https://scikit-learn.org/stable/modules/preprocessing.html\n",
      "Please also refer to the documentation for alternative solver options:\n",
      "    https://scikit-learn.org/stable/modules/linear_model.html#logistic-regression\n",
      "  n_iter_i = _check_optimize_result(\n",
      "C:\\ProgramData\\Anaconda3\\lib\\site-packages\\sklearn\\linear_model\\_logistic.py:814: ConvergenceWarning: lbfgs failed to converge (status=1):\n",
      "STOP: TOTAL NO. of ITERATIONS REACHED LIMIT.\n",
      "\n",
      "Increase the number of iterations (max_iter) or scale the data as shown in:\n",
      "    https://scikit-learn.org/stable/modules/preprocessing.html\n",
      "Please also refer to the documentation for alternative solver options:\n",
      "    https://scikit-learn.org/stable/modules/linear_model.html#logistic-regression\n",
      "  n_iter_i = _check_optimize_result(\n",
      "C:\\ProgramData\\Anaconda3\\lib\\site-packages\\sklearn\\linear_model\\_logistic.py:814: ConvergenceWarning: lbfgs failed to converge (status=1):\n",
      "STOP: TOTAL NO. of ITERATIONS REACHED LIMIT.\n",
      "\n",
      "Increase the number of iterations (max_iter) or scale the data as shown in:\n",
      "    https://scikit-learn.org/stable/modules/preprocessing.html\n",
      "Please also refer to the documentation for alternative solver options:\n",
      "    https://scikit-learn.org/stable/modules/linear_model.html#logistic-regression\n",
      "  n_iter_i = _check_optimize_result(\n",
      "C:\\ProgramData\\Anaconda3\\lib\\site-packages\\sklearn\\linear_model\\_logistic.py:814: ConvergenceWarning: lbfgs failed to converge (status=1):\n",
      "STOP: TOTAL NO. of ITERATIONS REACHED LIMIT.\n",
      "\n",
      "Increase the number of iterations (max_iter) or scale the data as shown in:\n",
      "    https://scikit-learn.org/stable/modules/preprocessing.html\n",
      "Please also refer to the documentation for alternative solver options:\n",
      "    https://scikit-learn.org/stable/modules/linear_model.html#logistic-regression\n",
      "  n_iter_i = _check_optimize_result(\n"
     ]
    },
    {
     "name": "stdout",
     "output_type": "stream",
     "text": [
      "\n",
      "#1 교차 검증 정확도 : 0.8047,  학습 데이터 크기 : 763,  검증 데이터 크기 : 128\n",
      "#1 검증 세트 인덱스 : [  0  11  18  29  31  46  81  82 120 122 129 131 132 140 149 155 158 170\n",
      " 171 180 181 187 196 199 202 220 223 228 233 236 241 243 246 249 250 252\n",
      " 265 267 275 279 284 289 292 316 321 322 328 331 332 333 339 350 352 373\n",
      " 377 378 380 391 392 399 400 411 416 427 433 440 447 456 457 469 478 483\n",
      " 491 504 506 518 519 530 531 548 551 555 557 569 574 586 601 606 612 621\n",
      " 623 636 637 639 641 643 659 665 670 680 688 704 707 727 736 747 754 768\n",
      " 769 780 787 788 796 797 798 801 805 813 817 824 832 833 839 849 867 868\n",
      " 882 884]\n",
      "\n",
      "#2 교차 검증 정확도 : 0.7969,  학습 데이터 크기 : 763,  검증 데이터 크기 : 128\n",
      "#2 검증 세트 인덱스 : [  8  13  24  36  43  45  54  60  62  65  71  75  76 110 127 133 138 165\n",
      " 167 172 185 195 203 204 205 208 225 231 237 240 260 262 270 274 277 278\n",
      " 285 293 295 296 299 300 309 311 313 318 329 334 344 345 347 349 388 406\n",
      " 419 424 426 436 439 451 453 454 459 460 461 470 474 479 480 484 499 503\n",
      " 510 532 533 534 535 537 556 561 563 602 603 608 610 615 628 661 664 672\n",
      " 673 678 689 690 693 697 709 714 715 723 725 726 742 750 764 765 781 783\n",
      " 785 786 794 800 802 804 806 820 831 842 846 848 850 851 853 857 860 869\n",
      " 876 881]\n",
      "\n",
      "#3 교차 검증 정확도 : 0.7953,  학습 데이터 크기 : 764,  검증 데이터 크기 : 127\n",
      "#3 검증 세트 인덱스 : [  5   9  10  20  22  34  37  40  48  51  52  63  64  72  77  86  97  99\n",
      " 102 112 115 118 121 161 164 173 179 182 183 186 189 207 219 229 235 244\n",
      " 245 247 248 255 257 261 287 297 308 317 319 325 337 348 362 366 370 386\n",
      " 389 393 398 401 403 408 410 421 423 428 441 442 450 466 471 475 492 500\n",
      " 502 520 523 525 528 542 549 554 560 566 570 571 578 580 588 592 599 600\n",
      " 604 607 611 617 620 624 645 646 649 657 668 676 677 682 694 695 712 728\n",
      " 738 745 746 748 778 779 803 808 816 819 823 828 837 838 863 870 871 873\n",
      " 875]\n",
      "\n",
      "#4 교차 검증 정확도 : 0.811,  학습 데이터 크기 : 764,  검증 데이터 크기 : 127\n",
      "#4 검증 세트 인덱스 : [  2   6   7  23  27  32  33  61  67  70  87  89  96 103 111 116 119 128\n",
      " 137 141 142 144 146 152 168 191 197 206 209 212 216 218 232 259 273 276\n",
      " 281 282 288 298 302 310 320 324 326 330 335 340 346 357 358 361 363 371\n",
      " 375 384 387 418 429 430 434 435 438 444 448 464 465 472 482 493 508 513\n",
      " 515 517 521 544 547 550 558 559 564 568 590 593 594 609 622 632 635 638\n",
      " 640 652 658 666 675 681 685 691 692 696 698 702 705 708 729 733 744 753\n",
      " 767 789 791 793 807 810 826 827 829 830 840 841 855 858 866 874 877 886\n",
      " 888]\n",
      "\n",
      "#5 교차 검증 정확도 : 0.811,  학습 데이터 크기 : 764,  검증 데이터 크기 : 127\n",
      "#5 검증 세트 인덱스 : [ 12  21  25  28  35  39  44  50  56  74  79  88  95 100 105 106 126 130\n",
      " 139 150 154 162 169 175 194 211 214 226 227 234 238 242 251 269 271 272\n",
      " 290 291 301 303 304 305 306 307 315 342 354 367 368 374 382 385 394 404\n",
      " 405 407 415 425 443 449 452 458 462 468 477 494 495 498 501 507 512 514\n",
      " 516 522 526 527 529 545 562 582 583 595 597 598 625 626 630 631 642 647\n",
      " 650 651 653 654 656 667 684 687 699 719 731 737 739 756 758 760 763 771\n",
      " 773 776 784 799 811 812 815 818 835 843 845 852 856 865 872 878 880 887\n",
      " 890]\n",
      "\n",
      "#6 교차 검증 정확도 : 0.7874,  학습 데이터 크기 : 764,  검증 데이터 크기 : 127\n",
      "#6 검증 세트 인덱스 : [  4  30  41  58  59  68  69  73  83  85  91  93 101 107 109 117 123 136\n",
      " 145 147 148 151 156 157 159 160 176 177 190 192 215 217 221 230 239 254\n",
      " 256 258 263 264 268 280 283 294 323 327 338 351 353 355 356 364 369 379\n",
      " 381 390 395 409 413 414 417 422 445 455 481 485 487 488 489 496 509 511\n",
      " 524 536 538 540 543 565 567 575 577 579 581 584 589 596 605 616 619 633\n",
      " 634 644 660 663 683 686 701 703 713 717 720 722 730 732 734 741 743 751\n",
      " 752 755 757 759 762 766 772 777 782 790 809 821 822 834 864 879 883 885\n",
      " 889]\n",
      "\n",
      "#7 교차 검증 정확도 : 0.8189,  학습 데이터 크기 : 764,  검증 데이터 크기 : 127\n",
      "#7 검증 세트 인덱스 : [  1   3  14  15  16  17  19  26  38  42  47  49  53  55  57  66  78  80\n",
      "  84  90  92  94  98 104 108 113 114 124 125 134 135 143 153 163 166 174\n",
      " 178 184 188 193 198 200 201 210 213 222 224 253 266 286 312 314 336 341\n",
      " 343 359 360 365 372 376 383 396 397 402 412 420 431 432 437 446 463 467\n",
      " 473 476 486 490 497 505 539 541 546 552 553 572 573 576 585 587 591 613\n",
      " 614 618 627 629 648 655 662 669 671 674 679 700 706 710 711 716 718 721\n",
      " 724 735 740 749 761 770 774 775 792 795 814 825 836 844 847 854 859 861\n",
      " 862]\n",
      "\n",
      "## 평균 검증 정확도: 0.8036\n"
     ]
    },
    {
     "name": "stderr",
     "output_type": "stream",
     "text": [
      "C:\\ProgramData\\Anaconda3\\lib\\site-packages\\sklearn\\linear_model\\_logistic.py:814: ConvergenceWarning: lbfgs failed to converge (status=1):\n",
      "STOP: TOTAL NO. of ITERATIONS REACHED LIMIT.\n",
      "\n",
      "Increase the number of iterations (max_iter) or scale the data as shown in:\n",
      "    https://scikit-learn.org/stable/modules/preprocessing.html\n",
      "Please also refer to the documentation for alternative solver options:\n",
      "    https://scikit-learn.org/stable/modules/linear_model.html#logistic-regression\n",
      "  n_iter_i = _check_optimize_result(\n"
     ]
    }
   ],
   "source": [
    "kfold = KFold(n_splits=7, shuffle=True)\n",
    "cv_accuracy = []\n",
    "n_iter = 0\n",
    "for train_index, test_index in kfold.split(X_array):  # X 데이터를 위에서 지정한 kfold 숫자로 분할\n",
    "    x_train, x_test = X_array[train_index], X_array[test_index]\n",
    "    y_train, y_test = Y_array[train_index], Y_array[test_index]\n",
    "    \n",
    "    Logistic.fit(x_train, y_train)\n",
    "    pred = Logistic.predict(x_test)\n",
    "    n_iter += 1\n",
    "    \n",
    "    accuracy = np.round(accuracy_score(y_test, pred), 4)\n",
    "    cv_accuracy.append(accuracy)\n",
    "    train_size = x_train.shape[0]\n",
    "    test_size = x_test.shape[0]\n",
    "    \n",
    "    print('\\n#{0} 교차 검증 정확도 : {1},  학습 데이터 크기 : {2},  검증 데이터 크기 : {3}'\n",
    "          .format(n_iter, accuracy, train_size, test_size))\n",
    "    print('#{0} 검증 세트 인덱스 : {1}'.format(n_iter,test_index))\n",
    "    cv_accuracy.append(accuracy)\n",
    "    \n",
    "print('\\n## 평균 검증 정확도:', np.mean(cv_accuracy))"
   ]
  },
  {
   "cell_type": "code",
   "execution_count": 131,
   "id": "3b3e6f88",
   "metadata": {
    "scrolled": true
   },
   "outputs": [
    {
     "name": "stdout",
     "output_type": "stream",
     "text": [
      "\n",
      "#1 교차 검증 정확도 : 0.7734,  학습 데이터 크기 : 763,  검증 데이터 크기 : 128\n",
      "#1 검증 세트 인덱스 : [  5  17  18  46  48  57  59  60  69  80  82  85  86  88  98 109 114 121\n",
      " 127 128 131 133 150 157 159 160 163 166 171 175 176 179 193 195 197 200\n",
      " 201 208 240 246 261 268 270 285 312 313 321 327 328 332 334 348 349 354\n",
      " 358 359 360 369 370 398 401 415 423 433 440 441 483 491 493 495 502 509\n",
      " 513 519 523 524 534 540 560 561 562 564 578 588 593 601 612 621 638 649\n",
      " 653 662 667 671 681 686 710 723 727 728 730 731 734 745 747 751 754 755\n",
      " 758 759 760 762 779 782 786 795 809 822 828 830 834 835 837 869 875 880\n",
      " 885 889]\n",
      "\n",
      "#2 교차 검증 정확도 : 0.8125,  학습 데이터 크기 : 763,  검증 데이터 크기 : 128\n",
      "#2 검증 세트 인덱스 : [  3  13  19  24  28  31  35  42  52  63  66  68  84  93 100 106 116 123\n",
      " 126 135 136 137 174 186 187 190 196 199 207 210 214 217 224 226 230 238\n",
      " 243 244 252 258 264 266 292 293 294 299 303 306 309 317 319 322 324 366\n",
      " 367 368 376 385 387 400 406 407 411 420 421 424 429 436 439 451 454 472\n",
      " 482 487 499 500 507 508 511 521 525 549 579 583 592 595 605 606 623 626\n",
      " 627 643 646 658 669 672 673 676 691 692 694 707 711 726 732 736 763 765\n",
      " 775 777 778 787 790 793 794 798 806 808 811 818 823 824 831 832 855 864\n",
      " 865 868]\n",
      "\n",
      "#3 교차 검증 정확도 : 0.7874,  학습 데이터 크기 : 764,  검증 데이터 크기 : 127\n",
      "#3 검증 세트 인덱스 : [  7  10  21  25  26  34  54  55  58  67  73  77  90 107 110 113 132 141\n",
      " 143 147 149 152 156 161 162 167 170 181 182 183 189 213 221 229 255 259\n",
      " 277 281 291 296 301 311 314 331 337 339 341 353 357 364 373 374 375 384\n",
      " 386 388 404 405 425 428 457 463 466 471 474 479 497 514 515 517 518 522\n",
      " 535 541 548 550 553 570 571 577 580 603 608 609 613 615 618 629 651 652\n",
      " 657 659 677 679 683 696 702 705 721 739 741 742 743 752 761 767 773 796\n",
      " 802 805 813 814 816 819 825 833 836 839 844 845 850 857 858 862 876 883\n",
      " 887]\n",
      "\n",
      "#4 교차 검증 정확도 : 0.7165,  학습 데이터 크기 : 764,  검증 데이터 크기 : 127\n",
      "#4 검증 세트 인덱스 : [ 16  20  23  30  32  33  36  37  38  43  50  62  65  72  75  95  99 101\n",
      " 102 111 117 120 124 130 144 153 155 165 169 172 180 184 209 222 228 231\n",
      " 232 233 234 235 248 251 265 271 272 275 279 282 287 288 300 302 307 316\n",
      " 325 330 335 343 361 365 377 380 391 392 402 408 410 412 418 419 432 438\n",
      " 458 461 476 498 501 503 512 516 526 530 531 552 555 556 558 559 572 573\n",
      " 575 585 586 591 604 620 622 625 631 632 660 665 680 688 695 704 708 709\n",
      " 713 715 720 724 729 744 749 769 771 781 784 791 800 817 847 853 856 886\n",
      " 890]\n",
      "\n",
      "#5 교차 검증 정확도 : 0.748,  학습 데이터 크기 : 764,  검증 데이터 크기 : 127\n",
      "#5 검증 세트 인덱스 : [  6   8  22  45  56  61  71  78  79  91  92  94 103 105 108 118 119 140\n",
      " 146 154 158 164 185 191 192 194 206 212 220 236 253 256 257 262 269 274\n",
      " 276 280 284 295 297 315 323 333 338 340 345 347 378 390 394 397 399 416\n",
      " 422 437 442 446 448 459 464 465 467 470 480 481 484 485 489 490 492 504\n",
      " 528 532 543 545 551 554 568 589 599 607 610 614 617 624 628 635 637 639\n",
      " 641 655 661 674 675 682 685 689 690 698 716 718 719 738 750 756 764 766\n",
      " 772 780 788 797 801 804 810 815 826 827 860 866 867 871 874 878 879 882\n",
      " 884]\n",
      "\n",
      "#6 교차 검증 정확도 : 0.7559,  학습 데이터 크기 : 764,  검증 데이터 크기 : 127\n",
      "#6 검증 세트 인덱스 : [  0   1   2  12  14  27  29  44  47  49  51  53  74  81  89  97 115 122\n",
      " 125 129 134 139 148 168 173 178 188 211 218 219 227 239 241 249 254 267\n",
      " 273 286 318 320 326 329 336 350 351 352 355 362 371 372 383 389 395 396\n",
      " 413 417 427 430 434 435 447 452 453 456 478 486 488 505 510 520 527 533\n",
      " 537 539 542 544 547 563 566 567 574 582 597 611 616 636 640 644 645 650\n",
      " 656 664 668 670 678 687 693 697 699 700 701 703 714 717 725 735 740 748\n",
      " 768 774 785 789 803 821 829 840 841 846 848 849 851 852 854 859 873 877\n",
      " 888]\n",
      "\n",
      "#7 교차 검증 정확도 : 0.8189,  학습 데이터 크기 : 764,  검증 데이터 크기 : 127\n",
      "#7 검증 세트 인덱스 : [  4   9  11  15  39  40  41  64  70  76  83  87  96 104 112 138 142 145\n",
      " 151 177 198 202 203 204 205 215 216 223 225 237 242 245 247 250 260 263\n",
      " 278 283 289 290 298 304 305 308 310 342 344 346 356 363 379 381 382 393\n",
      " 403 409 414 426 431 443 444 445 449 450 455 460 462 468 469 473 475 477\n",
      " 494 496 506 529 536 538 546 557 565 569 576 581 584 587 590 594 596 598\n",
      " 600 602 619 630 633 634 642 647 648 654 663 666 684 706 712 722 733 737\n",
      " 746 753 757 770 776 783 792 799 807 812 820 838 842 843 861 863 870 872\n",
      " 881]\n",
      "\n",
      "## 평균 검증 정확도: 0.7732285714285715\n"
     ]
    }
   ],
   "source": [
    "kfold = KFold(n_splits=7, shuffle=True)\n",
    "cv_accuracy = []\n",
    "n_iter = 0\n",
    "for train_index, test_index in kfold.split(X_array):  # X 데이터를 위에서 지정한 kfold 숫자로 분할\n",
    "    x_train, x_test = X_array[train_index], X_array[test_index]\n",
    "    y_train, y_test = Y_array[train_index], Y_array[test_index]\n",
    "    \n",
    "    Decision.fit(x_train, y_train)\n",
    "    pred = Decision.predict(x_test)\n",
    "    n_iter += 1\n",
    "    \n",
    "    accuracy = np.round(accuracy_score(y_test, pred), 4)\n",
    "    cv_accuracy.append(accuracy)\n",
    "    train_size = x_train.shape[0]\n",
    "    test_size = x_test.shape[0]\n",
    "    \n",
    "    print('\\n#{0} 교차 검증 정확도 : {1},  학습 데이터 크기 : {2},  검증 데이터 크기 : {3}'\n",
    "          .format(n_iter, accuracy, train_size, test_size))\n",
    "    print('#{0} 검증 세트 인덱스 : {1}'.format(n_iter,test_index))\n",
    "    cv_accuracy.append(accuracy)\n",
    "    \n",
    "print('\\n## 평균 검증 정확도:', np.mean(cv_accuracy))"
   ]
  },
  {
   "cell_type": "code",
   "execution_count": 132,
   "id": "634734e7",
   "metadata": {
    "scrolled": true
   },
   "outputs": [
    {
     "name": "stdout",
     "output_type": "stream",
     "text": [
      "\n",
      "#1 교차 검증 정확도 : 0.7734,  학습 데이터 크기 : 763,  검증 데이터 크기 : 128\n",
      "#1 검증 세트 인덱스 : [  0   7   8  29  30  33  36  40  44  46  54  56  66  75  77  88 108 120\n",
      " 131 132 140 154 173 179 180 185 189 209 210 219 227 244 249 261 264 271\n",
      " 272 278 283 289 295 297 301 312 319 340 345 356 358 363 365 371 381 394\n",
      " 395 402 404 414 416 418 422 437 442 449 450 451 456 461 470 477 480 486\n",
      " 498 508 512 516 521 525 526 527 531 533 563 568 569 578 591 594 595 599\n",
      " 603 615 622 639 642 643 645 646 649 654 667 696 698 700 721 722 728 729\n",
      " 734 737 739 742 748 758 760 773 784 793 795 800 806 807 808 838 842 855\n",
      " 877 885]\n",
      "\n",
      "#2 교차 검증 정확도 : 0.8281,  학습 데이터 크기 : 763,  검증 데이터 크기 : 128\n",
      "#2 검증 세트 인덱스 : [  3  13  15  16  18  23  24  26  43  52  62  63  70  73  74  83  94 104\n",
      " 112 113 121 128 137 138 142 158 171 183 187 203 218 228 231 234 237 238\n",
      " 242 255 268 277 285 291 326 331 332 336 341 349 350 351 355 369 379 385\n",
      " 386 396 408 417 435 441 446 452 453 460 464 466 474 475 492 493 495 501\n",
      " 506 514 518 520 523 534 535 540 542 546 549 552 557 565 572 573 585 586\n",
      " 604 606 612 617 626 629 631 633 637 652 655 661 666 679 683 694 701 716\n",
      " 731 746 747 759 762 772 809 812 814 822 825 826 830 834 840 849 873 881\n",
      " 888 889]\n",
      "\n",
      "#3 교차 검증 정확도 : 0.7953,  학습 데이터 크기 : 764,  검증 데이터 크기 : 127\n",
      "#3 검증 세트 인덱스 : [  1   5   6   9  10  27  53  68  69  76  86  93  96 102 117 123 134 145\n",
      " 146 150 151 160 162 170 175 184 188 192 194 196 197 202 205 208 221 223\n",
      " 226 243 246 256 262 265 274 280 286 298 306 324 325 335 338 342 362 364\n",
      " 368 374 380 383 389 391 400 405 406 410 413 432 433 434 443 444 448 454\n",
      " 457 471 476 479 487 505 511 524 547 550 551 559 560 567 570 574 580 601\n",
      " 620 621 640 653 662 663 676 680 681 685 693 703 704 705 715 717 726 727\n",
      " 733 755 765 779 781 786 791 796 804 813 816 833 836 846 857 864 867 871\n",
      " 890]\n",
      "\n",
      "#4 교차 검증 정확도 : 0.8268,  학습 데이터 크기 : 764,  검증 데이터 크기 : 127\n",
      "#4 검증 세트 인덱스 : [  2  14  19  28  50  55  58  64  81  89  90  91  98 103 106 116 119 129\n",
      " 130 139 141 156 159 165 182 186 195 200 204 206 211 212 214 224 229 230\n",
      " 233 235 245 247 273 275 276 287 294 299 307 317 318 320 321 323 334 344\n",
      " 346 357 366 370 372 373 375 382 388 390 393 399 411 419 425 462 478 494\n",
      " 513 517 530 543 544 545 556 576 582 583 588 589 590 593 600 611 613 618\n",
      " 619 632 635 641 660 668 673 678 687 690 697 702 706 709 710 720 724 725\n",
      " 732 740 743 753 767 770 776 780 785 799 802 823 829 839 847 848 858 886\n",
      " 887]\n",
      "\n",
      "#5 교차 검증 정확도 : 0.8661,  학습 데이터 크기 : 764,  검증 데이터 크기 : 127\n",
      "#5 검증 세트 인덱스 : [  4  20  37  39  42  51  59  61  65  78  85  87  92  97 100 101 107 110\n",
      " 114 118 155 167 172 176 178 190 193 220 225 232 236 241 250 252 253 257\n",
      " 258 293 304 314 328 329 330 333 337 352 354 378 384 387 403 407 420 424\n",
      " 427 430 436 439 440 445 459 465 469 473 491 499 504 509 510 537 538 555\n",
      " 571 581 584 592 597 602 610 623 627 651 656 657 658 665 669 672 674 677\n",
      " 686 688 692 695 699 712 723 730 741 744 750 751 754 756 761 771 774 777\n",
      " 788 792 801 810 811 817 820 821 832 845 859 861 865 866 870 876 879 880\n",
      " 882]\n",
      "\n",
      "#6 교차 검증 정확도 : 0.8031,  학습 데이터 크기 : 764,  검증 데이터 크기 : 127\n",
      "#6 검증 세트 인덱스 : [ 11  12  22  25  31  35  38  41  47  48  60  71  80  84 105 109 115 125\n",
      " 126 133 144 147 153 163 169 174 177 181 199 207 213 215 216 240 251 254\n",
      " 263 267 281 284 288 290 292 296 300 302 303 305 309 348 353 361 376 377\n",
      " 397 401 409 428 458 472 484 490 496 500 503 507 515 519 522 528 532 536\n",
      " 539 541 554 558 561 562 564 566 575 577 587 596 609 625 628 630 634 638\n",
      " 644 647 670 671 684 689 708 714 718 719 736 749 752 757 763 764 766 768\n",
      " 775 778 794 798 818 819 828 831 837 841 843 844 851 853 856 869 872 875\n",
      " 884]\n",
      "\n",
      "#7 교차 검증 정확도 : 0.811,  학습 데이터 크기 : 764,  검증 데이터 크기 : 127\n",
      "#7 검증 세트 인덱스 : [ 17  21  32  34  45  49  57  67  72  79  82  95  99 111 122 124 127 135\n",
      " 136 143 148 149 152 157 161 164 166 168 191 198 201 217 222 239 248 259\n",
      " 260 266 269 270 279 282 308 310 311 313 315 316 322 327 339 343 347 359\n",
      " 360 367 392 398 412 415 421 423 426 429 431 438 447 455 463 467 468 481\n",
      " 482 483 485 488 489 497 502 529 548 553 579 598 605 607 608 614 616 624\n",
      " 636 648 650 659 664 675 682 691 707 711 713 735 738 745 769 782 783 787\n",
      " 789 790 797 803 805 815 824 827 835 850 852 854 860 862 863 868 874 878\n",
      " 883]\n",
      "\n",
      "## 평균 검증 정확도: 0.8148285714285716\n"
     ]
    }
   ],
   "source": [
    "kfold = KFold(n_splits=7, shuffle=True)\n",
    "cv_accuracy = []\n",
    "n_iter = 0\n",
    "for train_index, test_index in kfold.split(X_array):  # X 데이터를 위에서 지정한 kfold 숫자로 분할\n",
    "    x_train, x_test = X_array[train_index], X_array[test_index]\n",
    "    y_train, y_test = Y_array[train_index], Y_array[test_index]\n",
    "    \n",
    "    rf.fit(x_train, y_train)\n",
    "    pred = rf.predict(x_test)\n",
    "    n_iter += 1\n",
    "    \n",
    "    accuracy = np.round(accuracy_score(y_test, pred), 4)\n",
    "    cv_accuracy.append(accuracy)\n",
    "    train_size = x_train.shape[0]\n",
    "    test_size = x_test.shape[0]\n",
    "    \n",
    "    print('\\n#{0} 교차 검증 정확도 : {1},  학습 데이터 크기 : {2},  검증 데이터 크기 : {3}'\n",
    "          .format(n_iter, accuracy, train_size, test_size))\n",
    "    print('#{0} 검증 세트 인덱스 : {1}'.format(n_iter,test_index))\n",
    "    cv_accuracy.append(accuracy)\n",
    "    \n",
    "print('\\n## 평균 검증 정확도:', np.mean(cv_accuracy))"
   ]
  },
  {
   "cell_type": "code",
   "execution_count": null,
   "id": "6531803d",
   "metadata": {},
   "outputs": [],
   "source": []
  }
 ],
 "metadata": {
  "kernelspec": {
   "display_name": "Python 3 (ipykernel)",
   "language": "python",
   "name": "python3"
  },
  "language_info": {
   "codemirror_mode": {
    "name": "ipython",
    "version": 3
   },
   "file_extension": ".py",
   "mimetype": "text/x-python",
   "name": "python",
   "nbconvert_exporter": "python",
   "pygments_lexer": "ipython3",
   "version": "3.9.7"
  }
 },
 "nbformat": 4,
 "nbformat_minor": 5
}
